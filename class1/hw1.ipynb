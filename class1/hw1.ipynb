{
 "cells": [
  {
   "cell_type": "markdown",
   "metadata": {},
   "source": [
    "# NLP7337  HW1 \n",
    " pankaj kumar"
   ]
  },
  {
   "cell_type": "markdown",
   "metadata": {},
   "source": [
    "### 1.\tImplement a Neural Network for both classification (use the sklearn load_digits) and one for regression.\n",
    "\n",
    "#### Solution :\n",
    "\n",
    "used sklearn data and did some preprocessing to make response categorical."
   ]
  },
  {
   "cell_type": "code",
   "execution_count": 1,
   "metadata": {},
   "outputs": [],
   "source": [
    "from sklearn import *\n",
    "from tensorflow import keras as keras\n",
    "import matplotlib.pyplot as plt\n",
    "import tensorflow as tf\n",
    "from sklearn.datasets import load_digits\n",
    "from tensorflow.keras.utils import to_categorical\n",
    "\n",
    "\n",
    "digits = load_digits()\n",
    "X, y  = load_digits(return_X_y=True)\n",
    "one_hot_train_labels = to_categorical(y)\n",
    "#one_hot_test_labels = to_categorical(test_labels)\n",
    "model = keras.Sequential()\n",
    "model.add(keras.layers.Dense(64, activation='relu', input_shape=(64,)))\n",
    "model.add(keras.layers.Dense(64, activation='relu'))\n",
    "model.add(keras.layers.Dense(10, activation='softmax'))\n",
    "model.compile(optimizer='adam', loss='categorical_crossentropy', metrics=['acc'])"
   ]
  },
  {
   "cell_type": "markdown",
   "metadata": {},
   "source": [
    "#### a.\tHow did you know when you were done training? \n",
    "\n",
    "#### Solution\n",
    "used early stopping callback to stop training when results don't improve "
   ]
  },
  {
   "cell_type": "code",
   "execution_count": 2,
   "metadata": {},
   "outputs": [],
   "source": [
    "tb_collback = keras.callbacks.TensorBoard(log_dir = 'logs_classification', histogram_freq= 1)\n",
    "early_sp_cb= keras.callbacks.EarlyStopping(monitor='acc', min_delta=0.01, patience=3, verbose=0, mode='auto', baseline=None, restore_best_weights=False)\n",
    "callbacks = [tb_collback, early_sp_cb]"
   ]
  },
  {
   "cell_type": "markdown",
   "metadata": {},
   "source": [
    "#### b.\tHow did you optimize your parameters?\n",
    "\n",
    "#### Solution\n",
    "Tried different parameters for epoch and batchsize. "
   ]
  },
  {
   "cell_type": "code",
   "execution_count": 3,
   "metadata": {},
   "outputs": [
    {
     "name": "stdout",
     "output_type": "stream",
     "text": [
      "Train on 1797 samples\n",
      "Epoch 1/10\n",
      "1797/1797 [==============================] - 0s 223us/sample - loss: 1.8758 - acc: 0.5609\n",
      "Epoch 2/10\n",
      "1797/1797 [==============================] - 0s 76us/sample - loss: 0.3005 - acc: 0.9037\n",
      "Epoch 3/10\n",
      "1797/1797 [==============================] - 0s 69us/sample - loss: 0.1488 - acc: 0.9527\n",
      "Epoch 4/10\n",
      "1797/1797 [==============================] - 0s 83us/sample - loss: 0.0958 - acc: 0.9766\n",
      "Epoch 5/10\n",
      "1797/1797 [==============================] - 0s 80us/sample - loss: 0.0608 - acc: 0.9878\n",
      "Epoch 6/10\n",
      "1797/1797 [==============================] - 0s 71us/sample - loss: 0.0449 - acc: 0.9911\n",
      "Epoch 7/10\n",
      "1797/1797 [==============================] - 0s 79us/sample - loss: 0.0339 - acc: 0.9933\n",
      "Epoch 8/10\n",
      "1797/1797 [==============================] - 0s 68us/sample - loss: 0.0279 - acc: 0.9961\n"
     ]
    }
   ],
   "source": [
    "history = model.fit(X, one_hot_train_labels, epochs=10, batch_size=20, callbacks= callbacks)"
   ]
  },
  {
   "cell_type": "markdown",
   "metadata": {},
   "source": [
    "#### c.\tPlot your training/validation curves to bolster your arguments ?\n",
    "\n",
    "#### Solution\n",
    "\n",
    "used tensorboard to plot loss on each epoch"
   ]
  },
  {
   "cell_type": "code",
   "execution_count": 4,
   "metadata": {
    "scrolled": false
   },
   "outputs": [
    {
     "name": "stdout",
     "output_type": "stream",
     "text": [
      "env: PATH=/Users/pankaj/anaconda/envs/nlp/bin:/Users/pankaj/anaconda/condabin:/Users/pankaj/anaconda/bin:/usr/local/bin:/usr/bin:/bin:/usr/sbin:/sbin:/Library/TeX/texbin:/opt/X11/bin\n"
     ]
    }
   ],
   "source": [
    "import os\n",
    "PATH = os.getenv('PATH')\n",
    "%env PATH=/Users/pankaj/anaconda/envs/nlp/bin:$PATH\n"
   ]
  },
  {
   "cell_type": "markdown",
   "metadata": {},
   "source": [
    "#### somehow I need to run below line verytime i open notebook to render the tensorboard chart"
   ]
  },
  {
   "cell_type": "code",
   "execution_count": 5,
   "metadata": {},
   "outputs": [
    {
     "data": {
      "text/plain": [
       "Reusing TensorBoard on port 6006 (pid 13509), started 0:43:52 ago. (Use '!kill 13509' to kill it.)"
      ]
     },
     "metadata": {},
     "output_type": "display_data"
    },
    {
     "data": {
      "text/html": [
       "\n",
       "      <iframe id=\"tensorboard-frame-33e83c45d7a49515\" width=\"100%\" height=\"800\" frameborder=\"0\">\n",
       "      </iframe>\n",
       "      <script>\n",
       "        (function() {\n",
       "          const frame = document.getElementById(\"tensorboard-frame-33e83c45d7a49515\");\n",
       "          const url = new URL(\"/\", window.location);\n",
       "          url.port = 6006;\n",
       "          frame.src = url;\n",
       "        })();\n",
       "      </script>\n",
       "  "
      ],
      "text/plain": [
       "<IPython.core.display.HTML object>"
      ]
     },
     "metadata": {},
     "output_type": "display_data"
    }
   ],
   "source": [
    "%load_ext tensorboard\n",
    "%tensorboard --logdir logs_classification"
   ]
  },
  {
   "cell_type": "markdown",
   "metadata": {},
   "source": [
    "#### d.\tPlot a histogram of your weights from a particular layer (it must have at least 50 neurons)\n",
    "\n",
    "#### Solution \n",
    "\n",
    "get weights from layers to plot it."
   ]
  },
  {
   "cell_type": "code",
   "execution_count": 6,
   "metadata": {},
   "outputs": [
    {
     "data": {
      "text/plain": [
       "(array([ 3.,  4.,  6., 12.,  7., 10., 12.,  4.,  2.,  4.]),\n",
       " array([-0.03839502, -0.0308969 , -0.02339877, -0.01590065, -0.00840253,\n",
       "        -0.0009044 ,  0.00659372,  0.01409184,  0.02158997,  0.02908809,\n",
       "         0.03658621], dtype=float32),\n",
       " <a list of 10 Patch objects>)"
      ]
     },
     "execution_count": 6,
     "metadata": {},
     "output_type": "execute_result"
    },
    {
     "data": {
      "image/png": "[encoded data removed]",
      "text/plain": [
       "<Figure size 432x288 with 1 Axes>"
      ]
     },
     "metadata": {
      "needs_background": "light"
     },
     "output_type": "display_data"
    }
   ],
   "source": [
    "plt.hist(model.layers[1].weights[1].numpy())"
   ]
  },
  {
   "cell_type": "code",
   "execution_count": 7,
   "metadata": {
    "scrolled": true
   },
   "outputs": [
    {
     "data": {
      "text/plain": [
       "(array([ 2.,  4.,  9., 18., 11.,  8.,  7.,  3.,  1.,  1.]),\n",
       " array([-0.03464157, -0.02586403, -0.0170865 , -0.00830897,  0.00046856,\n",
       "         0.00924609,  0.01802363,  0.02680116,  0.03557869,  0.04435622,\n",
       "         0.05313375], dtype=float32),\n",
       " <a list of 10 Patch objects>)"
      ]
     },
     "execution_count": 7,
     "metadata": {},
     "output_type": "execute_result"
    },
    {
     "data": {
      "image/png": "[encoded data removed]",
      "text/plain": [
       "<Figure size 432x288 with 1 Axes>"
      ]
     },
     "metadata": {
      "needs_background": "light"
     },
     "output_type": "display_data"
    }
   ],
   "source": [
    "plt.hist(model.layers[0].weights[1].numpy())"
   ]
  },
  {
   "cell_type": "markdown",
   "metadata": {},
   "source": [
    "### Question #1 Regression \n",
    "\n",
    "\n",
    "#### using boston dataset"
   ]
  },
  {
   "cell_type": "code",
   "execution_count": null,
   "metadata": {},
   "outputs": [],
   "source": []
  },
  {
   "cell_type": "code",
   "execution_count": 8,
   "metadata": {},
   "outputs": [],
   "source": [
    "from tensorflow.keras.datasets import boston_housing\n",
    "(train_data, train_labels), (test_data, test_labels) = boston_housing.load_data()\n",
    "\n",
    "train_targets=train_labels\n",
    "test_targets=test_labels"
   ]
  },
  {
   "cell_type": "markdown",
   "metadata": {},
   "source": [
    "#### a.\tHow did you know when you were done training?\n",
    "\n",
    "#### Solution\n",
    "used early stopping callback to stop training when results don't improve "
   ]
  },
  {
   "cell_type": "code",
   "execution_count": 9,
   "metadata": {},
   "outputs": [],
   "source": [
    "tb_collback = keras.callbacks.TensorBoard(log_dir = 'logs_regression', histogram_freq= 1)\n",
    "early_sp_cb= keras.callbacks.EarlyStopping(monitor='loss', min_delta=0.01, patience=3, verbose=0, mode='auto', baseline=None, restore_best_weights=False)\n",
    "callbacks = [tb_collback, early_sp_cb]"
   ]
  },
  {
   "cell_type": "markdown",
   "metadata": {},
   "source": [
    "#### b.\tHow did you optimize your parameters?\n",
    "\n",
    "#### Solution :\n",
    "tried different values for epochs and batchsizes "
   ]
  },
  {
   "cell_type": "code",
   "execution_count": 10,
   "metadata": {},
   "outputs": [
    {
     "name": "stdout",
     "output_type": "stream",
     "text": [
      "Train on 404 samples\n",
      "Epoch 1/20\n",
      "404/404 [==============================] - 0s 1ms/sample - loss: 1293.9109 - mae: 18.4417\n",
      "Epoch 2/20\n",
      "404/404 [==============================] - 0s 65us/sample - loss: 326.9375 - mae: 15.4216\n",
      "Epoch 3/20\n",
      "404/404 [==============================] - 0s 65us/sample - loss: 355.8920 - mae: 16.4549\n",
      "Epoch 4/20\n",
      "404/404 [==============================] - 0s 64us/sample - loss: 413.1216 - mae: 18.2153\n",
      "Epoch 5/20\n",
      "404/404 [==============================] - 0s 63us/sample - loss: 229.9100 - mae: 11.6801\n",
      "Epoch 6/20\n",
      "404/404 [==============================] - 0s 68us/sample - loss: 350.1514 - mae: 13.9814\n",
      "Epoch 7/20\n",
      "404/404 [==============================] - 0s 63us/sample - loss: 380.0704 - mae: 16.2381\n",
      "Epoch 8/20\n",
      "404/404 [==============================] - 0s 63us/sample - loss: 323.2790 - mae: 15.6652\n"
     ]
    },
    {
     "data": {
      "text/plain": [
       "<tensorflow.python.keras.callbacks.History at 0x1a3bf7d190>"
      ]
     },
     "execution_count": 10,
     "metadata": {},
     "output_type": "execute_result"
    }
   ],
   "source": [
    "reg_model = keras.models.Sequential()\n",
    "reg_model.add(keras.layers.Dense(64, activation = 'relu', input_shape = (train_data.shape[1],)))\n",
    "reg_model.add(keras.layers.Dense(64))\n",
    "reg_model.add(keras.layers.Dense(1))\n",
    "reg_model.compile(optimizer = 'rmsprop', loss = 'mse' , metrics = ['mae'])\n",
    "reg_model.fit(train_data , train_labels, epochs = 20 , batch_size = 32, callbacks = callbacks)"
   ]
  },
  {
   "cell_type": "markdown",
   "metadata": {},
   "source": [
    "#### c.\tPlot your training/validation curves to bolster your arguments"
   ]
  },
  {
   "cell_type": "markdown",
   "metadata": {},
   "source": [
    "#### somehow I need to run below line verytime i open notebook to render the tensorboard chart"
   ]
  },
  {
   "cell_type": "code",
   "execution_count": 15,
   "metadata": {},
   "outputs": [
    {
     "data": {
      "text/plain": [
       "Reusing TensorBoard on port 6007 (pid 13544), started 0:39:05 ago. (Use '!kill 13544' to kill it.)"
      ]
     },
     "metadata": {},
     "output_type": "display_data"
    },
    {
     "data": {
      "text/html": [
       "\n",
       "      <iframe id=\"tensorboard-frame-13c77590d06086f0\" width=\"100%\" height=\"800\" frameborder=\"0\">\n",
       "      </iframe>\n",
       "      <script>\n",
       "        (function() {\n",
       "          const frame = document.getElementById(\"tensorboard-frame-13c77590d06086f0\");\n",
       "          const url = new URL(\"/\", window.location);\n",
       "          url.port = 6007;\n",
       "          frame.src = url;\n",
       "        })();\n",
       "      </script>\n",
       "  "
      ],
      "text/plain": [
       "<IPython.core.display.HTML object>"
      ]
     },
     "metadata": {},
     "output_type": "display_data"
    }
   ],
   "source": [
    "%tensorboard --logdir logs_regression"
   ]
  },
  {
   "cell_type": "markdown",
   "metadata": {},
   "source": [
    "#### d.\tPlot a histogram of your weights from a particular layer (it must have at least 50 neurons)"
   ]
  },
  {
   "cell_type": "code",
   "execution_count": 12,
   "metadata": {},
   "outputs": [
    {
     "data": {
      "text/plain": [
       "(array([ 1.,  0.,  0.,  5., 27.,  1.,  0.,  2.,  0., 28.]),\n",
       " array([-0.00995999, -0.00849938, -0.00703877, -0.00557816, -0.00411755,\n",
       "        -0.00265695, -0.00119634,  0.00026427,  0.00172488,  0.00318549,\n",
       "         0.00464609], dtype=float32),\n",
       " <a list of 10 Patch objects>)"
      ]
     },
     "execution_count": 12,
     "metadata": {},
     "output_type": "execute_result"
    },
    {
     "data": {
      "image/png": "[encoded data removed]",
      "text/plain": [
       "<Figure size 432x288 with 1 Axes>"
      ]
     },
     "metadata": {
      "needs_background": "light"
     },
     "output_type": "display_data"
    }
   ],
   "source": [
    "plt.hist(reg_model.layers[1].weights[1].numpy())"
   ]
  },
  {
   "cell_type": "markdown",
   "metadata": {},
   "source": [
    "#### Question 2"
   ]
  },
  {
   "cell_type": "markdown",
   "metadata": {},
   "source": [
    "2.\tScrape the top 100 Billboard Artists from this website:\n",
    "https://www.billboard.com/charts/hot-100\n",
    "\n",
    "Your answer must be a function that I can run from my computer so that I can get a list of the artist, song, and position.\n",
    "\n",
    "#### Solution \n",
    "\n",
    "used beutiful soup and found the specific css class to extract the table node. inspection of elements gives format.\n"
   ]
  },
  {
   "cell_type": "code",
   "execution_count": 13,
   "metadata": {},
   "outputs": [],
   "source": [
    "import requests\n",
    "from bs4 import BeautifulSoup\n",
    "def question_2():\n",
    "    response  = requests.get('https://www.billboard.com/charts/hot-100')\n",
    "    soup = BeautifulSoup(response.text)\n",
    "    elemnts  =[elems.text.strip().split('\\n')  for elems in soup.find_all(class_='chart-element__wrapper')]\n",
    "    records =[[elem[i] for i in [0,4,5]] for elem in elemnts]\n",
    "    return records"
   ]
  },
  {
   "cell_type": "code",
   "execution_count": 14,
   "metadata": {},
   "outputs": [
    {
     "name": "stdout",
     "output_type": "stream",
     "text": [
      "['Position , Song , Artist']\n",
      "['1', 'THE SCOTTS', 'THE SCOTTS, Travis Scott & Kid Cudi']\n",
      "['2', 'Blinding Lights', 'The Weeknd']\n",
      "['3', 'Toosie Slide', 'Drake']\n",
      "['4', 'Savage', 'Megan Thee Stallion']\n",
      "['5', 'The Box', 'Roddy Ricch']\n",
      "['6', 'Say So', 'Doja Cat']\n",
      "['7', \"Don't Start Now\", 'Dua Lipa']\n",
      "['8', 'Circles', 'Post Malone']\n",
      "['9', 'Intentions', 'Justin Bieber Featuring Quavo']\n",
      "['10', 'Adore You', 'Harry Styles']\n",
      "['11', 'Righteous', 'Juice WRLD']\n",
      "['12', 'Life Is Good', 'Future Featuring Drake']\n",
      "['13', 'My Oh My', 'Camila Cabello Featuring DaBaby']\n",
      "['14', 'ROCKSTAR', 'DaBaby Featuring Roddy Ricch']\n",
      "['15', 'The Bones', 'Maren Morris']\n",
      "['16', 'everything i wanted', 'Billie Eilish']\n",
      "['17', 'Someone You Loved', 'Lewis Capaldi']\n",
      "['18', 'Nobody But You', 'Blake Shelton Duet With Gwen Stefani']\n",
      "['19', 'I Hope', 'Gabby Barrett']\n",
      "['20', 'Blueberry Faygo', 'Lil Mosey']\n",
      "['21', 'Memories', 'Maroon 5']\n",
      "['22', \"Chasin' You\", 'Morgan Wallen']\n",
      "['23', 'Roses (Imanbek Remix)', 'SAINt JHN']\n",
      "['24', 'Falling', 'Trevor Daniel']\n",
      "['25', 'High Fashion', 'Roddy Ricch Featuring Mustard']\n",
      "['26', 'death bed', 'Powfu Featuring beabadoobee']\n",
      "['27', 'Hot Girl Bummer', 'blackbear']\n",
      "['28', 'Sunday Best', 'Surfaces']\n",
      "['29', 'RITMO (Bad Boys For Life)', 'The Black Eyed Peas X J Balvin']\n",
      "['30', 'Does To Me', 'Luke Combs Featuring Eric Church']\n",
      "['31', 'Heart On Ice', 'Rod Wave']\n",
      "['32', \"Ballin'\", 'Mustard & Roddy Ricch']\n",
      "['33', 'Roxanne', 'Arizona Zervas']\n",
      "['34', 'Dance Monkey', 'Tones And I']\n",
      "['35', 'Whats Poppin', 'Jack Harlow']\n",
      "['36', 'Break My Heart', 'Dua Lipa']\n",
      "['37', 'Heartless', 'The Weeknd']\n",
      "['38', 'HIGHEST IN THE ROOM', 'Travis Scott']\n",
      "['39', \"I Hope You're Happy Now\", 'Carly Pearce & Lee Brice']\n",
      "['40', \"Beer Can't Fix\", 'Thomas Rhett Featuring Jon Pardi']\n",
      "['41', 'Level Of Concern', 'twenty one pilots']\n",
      "['42', 'I Love Me', 'Demi Lovato']\n",
      "['43', 'More Hearts Than Mine', 'Ingrid Andress']\n",
      "['44', 'After A Few', 'Travis Denning']\n",
      "['45', 'All In', 'Lil Baby']\n",
      "['46', '10,000 Hours', 'Dan + Shay & Justin Bieber']\n",
      "['47', 'Hard To Forget', 'Sam Hunt']\n",
      "['48', 'Supalonely', 'BENEE Featuring Gus Dapperton']\n",
      "['49', 'Goosebumps', 'Travis Scott']\n",
      "['50', 'Before You Go', 'Lewis Capaldi']\n",
      "['51', 'In Your Eyes', 'The Weeknd']\n",
      "['52', 'Dior', 'Pop Smoke']\n",
      "['53', 'Sum 2 Prove', 'Lil Baby']\n",
      "['54', 'Slide', 'H.E.R. Featuring YG']\n",
      "['55', 'Catch', 'Brett Young']\n",
      "['56', 'Walk Em Down', 'NLE Choppa Featuring Roddy Ricch']\n",
      "['57', 'Heartless', 'Diplo Presents Thomas Wesley Featuring Morgan Wallen']\n",
      "['58', 'JUMP', 'DaBaby Featuring YoungBoy Never Broke Again']\n",
      "['59', 'If The World Was Ending', 'JP Saxe Featuring Julia Michaels']\n",
      "['60', 'OUT WEST', 'JACKBOYS Featuring Young Thug']\n",
      "['61', 'Stupid Love', 'Lady Gaga']\n",
      "['62', 'Yo Perreo Sola', 'Bad Bunny']\n",
      "['63', \"I'm Ready\", 'Sam Smith & Demi Lovato']\n",
      "['64', 'P*$$y Fairy (OTW)', 'Jhene Aiko']\n",
      "['65', 'Sasuke', 'Lil Uzi Vert']\n",
      "['66', 'Godzilla', 'Eminem Featuring Juice WRLD']\n",
      "['67', 'Find My Way', 'DaBaby']\n",
      "['68', 'Cool Again', 'Kane Brown']\n",
      "['69', 'BELIEVE IT', 'PARTYNEXTDOOR & Rihanna']\n",
      "['70', 'Bluebird', 'Miranda Lambert']\n",
      "['71', 'Emotionally Scarred', 'Lil Baby']\n",
      "['72', 'You should be sad', 'Halsey']\n",
      "['73', 'Here And Now', 'Kenny Chesney']\n",
      "['74', 'Turks', 'NAV, Gunna & Travis Scott']\n",
      "['75', 'Be A Light', 'Thomas Rhett Featuring Reba McEntire, Hillary Scott, Chris Tomlin & Keith Urban']\n",
      "['76', 'Slow Dance In A Parking Lot', 'Jordan Davis']\n",
      "['77', 'Come Thru', 'Summer Walker & Usher']\n",
      "['78', 'After Party', 'Don Toliver']\n",
      "['79', 'Homemade', 'Jake Owen']\n",
      "['80', 'Ride It.', 'Regard']\n",
      "['81', 'God Whispered Your Name', 'Keith Urban']\n",
      "['82', 'In Between', 'Scotty McCreery']\n",
      "['83', \"Ain't Easy\", 'YoungBoy Never Broke Again']\n",
      "['84', 'Party Girl', 'StaySolidRocky']\n",
      "['85', 'Die From A Broken Heart', 'Maddie & Tae']\n",
      "['86', 'Diamonds', 'YoungBoy Never Broke Again']\n",
      "['87', 'Myron', 'Lil Uzi Vert']\n",
      "['88', 'July', 'Noah Cyrus & Leon Bridges']\n",
      "['89', 'Captain Hook', 'Megan Thee Stallion']\n",
      "['90', 'Bout My Business', 'YoungBoy Never Broke Again Featuring Sherhonda Gaulden']\n",
      "['91', 'That Way', 'Lil Uzi Vert']\n",
      "['92', 'Rough Ryder', 'YoungBoy Never Broke Again']\n",
      "['93', 'B.S.', 'Jhene Aiko Featuring H.E.R.']\n",
      "['94', 'Underdog', 'Alicia Keys']\n",
      "['95', 'I Love My Country', 'Florida Georgia Line']\n",
      "['96', 'NASTY', 'DaBaby Featuring Ashanti & Megan Thee Stallion']\n",
      "['97', 'Drinking Alone', 'Carrie Underwood']\n",
      "['98', 'PTSD', 'G Herbo Featuring Chance The Rapper, Juice WRLD & Lil Uzi Vert']\n",
      "['99', 'Thug Of Spades', 'YoungBoy Never Broke Again Featuring DaBaby']\n",
      "['100', 'Safaera', 'Bad Bunny, Jowell & Randy & Nengo Flow']\n"
     ]
    }
   ],
   "source": [
    "records = question_2()\n",
    "header = ['Position , Song , Artist']\n",
    "\n",
    "print(header)\n",
    "for rec in records :\n",
    "    print(rec)"
   ]
  },
  {
   "cell_type": "code",
   "execution_count": null,
   "metadata": {},
   "outputs": [],
   "source": []
  }
 ],
 "metadata": {
  "kernelspec": {
   "display_name": "Python 3",
   "language": "python",
   "name": "python3"
  },
  "language_info": {
   "codemirror_mode": {
    "name": "ipython",
    "version": 3
   },
   "file_extension": ".py",
   "mimetype": "text/x-python",
   "name": "python",
   "nbconvert_exporter": "python",
   "pygments_lexer": "ipython3",
   "version": "3.7.6"
  }
 },
 "nbformat": 4,
 "nbformat_minor": 4
}

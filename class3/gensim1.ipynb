{
 "cells": [
  {
   "cell_type": "code",
   "execution_count": 1,
   "metadata": {},
   "outputs": [],
   "source": [
    "from gensim.test.utils import common_texts, get_tmpfile"
   ]
  },
  {
   "cell_type": "code",
   "execution_count": 3,
   "metadata": {},
   "outputs": [],
   "source": [
    "from gensim.models import Word2Vec"
   ]
  },
  {
   "cell_type": "code",
   "execution_count": null,
   "metadata": {},
   "outputs": [],
   "source": []
  },
  {
   "cell_type": "code",
   "execution_count": 4,
   "metadata": {},
   "outputs": [],
   "source": [
    "model = Word2Vec(common_texts, size=100, window=5, min_count=1, workers=4)"
   ]
  },
  {
   "cell_type": "code",
   "execution_count": 5,
   "metadata": {},
   "outputs": [
    {
     "data": {
      "text/plain": [
       "<gensim.models.word2vec.Word2Vec at 0x1a2c65aa90>"
      ]
     },
     "execution_count": 5,
     "metadata": {},
     "output_type": "execute_result"
    }
   ],
   "source": [
    "model"
   ]
  },
  {
   "cell_type": "code",
   "execution_count": 6,
   "metadata": {},
   "outputs": [
    {
     "data": {
      "text/plain": [
       "array([ 0.00478557, -0.00394222, -0.00402469,  0.00052143, -0.00017446,\n",
       "        0.00296587,  0.00367646, -0.00175098,  0.00122099,  0.00462338,\n",
       "        0.00130425,  0.00012867, -0.00321779, -0.00343432,  0.00296984,\n",
       "       -0.00415607,  0.00466341,  0.00022777, -0.0034161 ,  0.0049446 ,\n",
       "        0.00446826, -0.00129668,  0.00090647,  0.00257874, -0.00252605,\n",
       "       -0.00431725,  0.00339594, -0.00098609,  0.00476491,  0.00115034,\n",
       "       -0.00076247, -0.00333627, -0.00317678, -0.00211756,  0.00142131,\n",
       "        0.00129768, -0.00334435, -0.00264842,  0.00044777,  0.00097956,\n",
       "        0.00448289, -0.0007032 , -0.00312139, -0.0047846 ,  0.00070562,\n",
       "       -0.00113472,  0.00244009, -0.0039771 ,  0.00488114, -0.00131668,\n",
       "       -0.00086591, -0.00395425, -0.00383114, -0.00350589, -0.00141142,\n",
       "       -0.00430253, -0.00046495,  0.00103476,  0.00263787, -0.0017483 ,\n",
       "       -0.00350923, -0.00114518,  0.00164449,  0.00423219, -0.00351921,\n",
       "       -0.00374284, -0.00325227,  0.00141217,  0.00276231, -0.00253932,\n",
       "        0.00105665,  0.00135323,  0.00063672,  0.00253875,  0.00200871,\n",
       "       -0.00400014, -0.00213667,  0.00054733,  0.0021128 ,  0.00124647,\n",
       "        0.00126203,  0.00233139, -0.00113354, -0.00154219,  0.0003949 ,\n",
       "       -0.00172804,  0.00120711,  0.00200132, -0.00380355, -0.00319345,\n",
       "       -0.00462924, -0.0039646 ,  0.002134  ,  0.000783  , -0.00386552,\n",
       "        0.00243202,  0.00442192, -0.00443089, -0.00119577, -0.00344962],\n",
       "      dtype=float32)"
      ]
     },
     "execution_count": 6,
     "metadata": {},
     "output_type": "execute_result"
    }
   ],
   "source": [
    " model.wv['computer'] "
   ]
  },
  {
   "cell_type": "code",
   "execution_count": 8,
   "metadata": {},
   "outputs": [
    {
     "data": {
      "text/plain": [
       "array([ 0.00478557, -0.00394222, -0.00402469,  0.00052143, -0.00017446,\n",
       "        0.00296587,  0.00367646, -0.00175098,  0.00122099,  0.00462338,\n",
       "        0.00130425,  0.00012867, -0.00321779, -0.00343432,  0.00296984,\n",
       "       -0.00415607,  0.00466341,  0.00022777, -0.0034161 ,  0.0049446 ,\n",
       "        0.00446826, -0.00129668,  0.00090647,  0.00257874, -0.00252605,\n",
       "       -0.00431725,  0.00339594, -0.00098609,  0.00476491,  0.00115034,\n",
       "       -0.00076247, -0.00333627, -0.00317678, -0.00211756,  0.00142131,\n",
       "        0.00129768, -0.00334435, -0.00264842,  0.00044777,  0.00097956,\n",
       "        0.00448289, -0.0007032 , -0.00312139, -0.0047846 ,  0.00070562,\n",
       "       -0.00113472,  0.00244009, -0.0039771 ,  0.00488114, -0.00131668,\n",
       "       -0.00086591, -0.00395425, -0.00383114, -0.00350589, -0.00141142,\n",
       "       -0.00430253, -0.00046495,  0.00103476,  0.00263787, -0.0017483 ,\n",
       "       -0.00350923, -0.00114518,  0.00164449,  0.00423219, -0.00351921,\n",
       "       -0.00374284, -0.00325227,  0.00141217,  0.00276231, -0.00253932,\n",
       "        0.00105665,  0.00135323,  0.00063672,  0.00253875,  0.00200871,\n",
       "       -0.00400014, -0.00213667,  0.00054733,  0.0021128 ,  0.00124647,\n",
       "        0.00126203,  0.00233139, -0.00113354, -0.00154219,  0.0003949 ,\n",
       "       -0.00172804,  0.00120711,  0.00200132, -0.00380355, -0.00319345,\n",
       "       -0.00462924, -0.0039646 ,  0.002134  ,  0.000783  , -0.00386552,\n",
       "        0.00243202,  0.00442192, -0.00443089, -0.00119577, -0.00344962],\n",
       "      dtype=float32)"
      ]
     },
     "execution_count": 8,
     "metadata": {},
     "output_type": "execute_result"
    }
   ],
   "source": [
    "model.wv['computer']"
   ]
  },
  {
   "cell_type": "code",
   "execution_count": null,
   "metadata": {},
   "outputs": [],
   "source": [
    "from scipy.spatial import distance\n",
    "distance.cosine(doc[3].vector, doc[4].vector)"
   ]
  },
  {
   "cell_type": "code",
   "execution_count": 19,
   "metadata": {},
   "outputs": [
    {
     "data": {
      "text/plain": [
       "array([-2.3029768e-03,  4.7192788e-03,  3.3890981e-05, -2.1775898e-04,\n",
       "        3.7646901e-03,  1.4372001e-03,  1.7625868e-04,  3.6371252e-03,\n",
       "       -2.7506417e-03, -4.8967395e-03, -4.1120253e-03, -4.9756910e-03,\n",
       "        4.0469468e-03, -2.4848601e-03,  4.4954740e-03, -3.9058507e-03,\n",
       "       -2.3789834e-03,  3.7424406e-04,  4.5298729e-03,  3.3177494e-03,\n",
       "       -1.4299009e-04, -4.4938005e-03,  3.1158177e-03, -3.4184600e-04,\n",
       "       -2.6196158e-03, -4.1339262e-03,  3.0003095e-03, -4.6971072e-03,\n",
       "       -3.5061864e-03,  4.7880430e-03,  1.6296825e-03,  2.2237138e-03,\n",
       "       -2.4792214e-03,  2.8076747e-03,  3.2431441e-03,  3.8472130e-03,\n",
       "       -3.4380800e-03, -3.5404332e-03,  2.5934395e-03,  3.2883317e-03,\n",
       "        1.4316790e-03,  3.6272926e-03,  2.7161790e-03,  2.4263947e-03,\n",
       "        9.3511381e-04,  1.9898564e-03,  1.9675614e-03, -1.2903531e-04,\n",
       "        2.5506122e-03,  6.6696734e-06, -4.7440995e-03, -2.6184572e-03,\n",
       "        1.8904785e-03, -7.6077157e-04, -4.5675877e-03, -2.9509920e-03,\n",
       "       -2.0633449e-03, -4.0493305e-03,  2.8080151e-03, -5.1348557e-04,\n",
       "        3.8645817e-03, -2.0606814e-04, -1.0833779e-03,  1.4246985e-03,\n",
       "        2.6527212e-03, -2.0559188e-03,  1.1508635e-03,  1.4099828e-03,\n",
       "       -3.1713250e-03,  2.5822150e-03,  3.3839161e-03,  9.8528247e-04,\n",
       "        3.6648961e-03, -2.3820084e-03, -3.8147909e-03,  3.9247712e-03,\n",
       "        4.1517392e-03,  4.0351325e-03, -2.9419133e-04, -3.6115949e-03,\n",
       "       -4.2695748e-03,  2.9449631e-03, -1.9934271e-03, -7.0741045e-04,\n",
       "        1.0703972e-03, -5.8342208e-04,  3.7013958e-03,  2.1449849e-03,\n",
       "       -1.3641928e-03, -4.0629087e-03, -3.3475333e-03,  2.7938545e-04,\n",
       "        2.9875082e-04, -2.1967269e-03,  4.2661345e-03,  1.9376031e-03,\n",
       "       -1.2580744e-03,  2.9407786e-03, -9.0086600e-04, -2.2760953e-03],\n",
       "      dtype=float32)"
      ]
     },
     "execution_count": 19,
     "metadata": {},
     "output_type": "execute_result"
    }
   ],
   "source": [
    "model.wv['human']"
   ]
  },
  {
   "cell_type": "code",
   "execution_count": 5,
   "metadata": {},
   "outputs": [
    {
     "data": {
      "text/plain": [
       "0.019517414"
      ]
     },
     "execution_count": 5,
     "metadata": {},
     "output_type": "execute_result"
    }
   ],
   "source": [
    "model.wv.similarity('human', 'computer')"
   ]
  },
  {
   "cell_type": "code",
   "execution_count": 23,
   "metadata": {},
   "outputs": [
    {
     "data": {
      "text/plain": [
       "0.014052648097276688"
      ]
     },
     "execution_count": 23,
     "metadata": {},
     "output_type": "execute_result"
    }
   ],
   "source": [
    "from scipy.spatial import distance\n",
    "1-distance.cosine(model.wv['human'], model.wv['computer'])"
   ]
  },
  {
   "cell_type": "code",
   "execution_count": 28,
   "metadata": {},
   "outputs": [],
   "source": [
    "ch_dot =model.wv['human'].dot(model.wv['computer'])"
   ]
  },
  {
   "cell_type": "code",
   "execution_count": 33,
   "metadata": {},
   "outputs": [],
   "source": [
    "import numpy as np\n",
    "h_mag =np.linalg.norm(model.wv['human'])\n",
    "c_mag =np.linalg.norm(model.wv['computer'])"
   ]
  },
  {
   "cell_type": "code",
   "execution_count": 34,
   "metadata": {},
   "outputs": [
    {
     "data": {
      "text/plain": [
       "0.014052651"
      ]
     },
     "execution_count": 34,
     "metadata": {},
     "output_type": "execute_result"
    }
   ],
   "source": [
    "ch_dot/(h_mag*c_mag)"
   ]
  },
  {
   "cell_type": "code",
   "execution_count": 35,
   "metadata": {},
   "outputs": [
    {
     "data": {
      "text/plain": [
       "0.6548475"
      ]
     },
     "execution_count": 35,
     "metadata": {},
     "output_type": "execute_result"
    }
   ],
   "source": [
    "from gensim.models import word2vec\n",
    "\n",
    "sentences = word2vec.Text8Corpus('../data/text8')\n",
    "model = word2vec.Word2Vec(sentences, size = 200, hs =1 )\n",
    "model.wv.similarity('man', 'woman')"
   ]
  }
 ],
 "metadata": {
  "kernelspec": {
   "display_name": "Python 3",
   "language": "python",
   "name": "python3"
  },
  "language_info": {
   "codemirror_mode": {
    "name": "ipython",
    "version": 3
   },
   "file_extension": ".py",
   "mimetype": "text/x-python",
   "name": "python",
   "nbconvert_exporter": "python",
   "pygments_lexer": "ipython3",
   "version": "3.7.6"
  }
 },
 "nbformat": 4,
 "nbformat_minor": 4
}

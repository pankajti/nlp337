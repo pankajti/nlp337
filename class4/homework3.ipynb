{
 "cells": [
  {
   "attachments": {},
   "cell_type": "markdown",
   "metadata": {},
   "source": [
    "## Homework 3\n",
    "\n",
    "### Pankaj Kumar \n",
    "\n",
    "Using the dataset at \n",
    "https://archive.ics.uci.edu/ml/datasets/Sentiment+Labelled+Sentences\n",
    "\n",
    "\n",
    "Build several recurrent models and measure your accuracy with an out of fold split.  You homework should include:\n",
    "\n",
    "(1) A Vanilla RNN network\n",
    "\n",
    "\n",
    "(2) An LSTM network\n",
    "\n",
    "(3) A GRU Network\n",
    "\n",
    "(4) A proper set of functions to convert the data into the appropriate format including test examples for encoding and decoding a sentence.\n",
    "\n",
    "\n",
    "(5) Test –Train curves for all 3 networks.\n"
   ]
  },
  {
   "cell_type": "markdown",
   "metadata": {},
   "source": [
    "### Solution : \n",
    "\n",
    "Answers are not sequence of questions. For each model solution to  question 5 relevant to that model comes just after the  model."
   ]
  },
  {
   "cell_type": "code",
   "execution_count": 138,
   "metadata": {},
   "outputs": [],
   "source": [
    "data_path = r'/Users/pankaj/dev/git/smu/nlp337/class4/data/sentiment labelled sentences/imdb_labelled.txt'\n",
    "import re\n",
    "from sklearn import *\n",
    "from tensorflow import keras as keras\n",
    "from tensorflow.keras.preprocessing.text import Tokenizer\n",
    "from tensorflow.keras import Sequential\n",
    "from tensorflow.keras.layers import Embedding, Dense,LSTM, Flatten, SimpleRNN, GRU\n",
    "import numpy as np\n",
    "from tensorflow.keras.callbacks import TensorBoard\n",
    "import matplotlib.pyplot as plt\n",
    "from tensorflow.keras import preprocessing \n",
    "from collections import Counter\n"
   ]
  },
  {
   "cell_type": "markdown",
   "metadata": {},
   "source": [
    "####  Question 4 "
   ]
  },
  {
   "cell_type": "code",
   "execution_count": 139,
   "metadata": {},
   "outputs": [],
   "source": [
    "##  read_data. each line is split in comment and correspondong labels\n",
    "\n",
    "data = []\n",
    "labels = []\n",
    "with open(data_path, 'r') as f :\n",
    "    for line in f.readlines():\n",
    "        match = re.search('\\d$', line)\n",
    "        data.append(line[:match.start()].strip())\n",
    "        labels.append(line[match.start():].strip())\n",
    "\n",
    "### using keras tokenizer to tokenize data \n",
    "\n",
    "tokenizer = Tokenizer(num_words = 2000)\n",
    "tokenizer.fit_on_texts(data)\n",
    "sequences = tokenizer.texts_to_sequences(data)\n",
    "one_hot_results = tokenizer.texts_to_matrix(data , mode = 'binary')\n"
   ]
  },
  {
   "cell_type": "code",
   "execution_count": 140,
   "metadata": {},
   "outputs": [],
   "source": [
    "### lets check avg review length to determine the padded word size"
   ]
  },
  {
   "cell_type": "code",
   "execution_count": 141,
   "metadata": {},
   "outputs": [],
   "source": [
    "review_lengths = [len (seq) for seq in sequences]"
   ]
  },
  {
   "cell_type": "code",
   "execution_count": 142,
   "metadata": {},
   "outputs": [
    {
     "data": {
      "text/plain": [
       "14"
      ]
     },
     "execution_count": 142,
     "metadata": {},
     "output_type": "execute_result"
    }
   ],
   "source": [
    "review_lengths[0]"
   ]
  },
  {
   "cell_type": "code",
   "execution_count": 143,
   "metadata": {},
   "outputs": [
    {
     "data": {
      "text/plain": [
       "'A very, very, very slow-moving, aimless movie about a distressed, drifting young man.'"
      ]
     },
     "execution_count": 143,
     "metadata": {},
     "output_type": "execute_result"
    }
   ],
   "source": [
    "data[0]"
   ]
  },
  {
   "cell_type": "code",
   "execution_count": 144,
   "metadata": {},
   "outputs": [],
   "source": [
    "### Review length of element 0 seems to be same as number of words in first data "
   ]
  },
  {
   "cell_type": "code",
   "execution_count": 145,
   "metadata": {},
   "outputs": [],
   "source": [
    "word_counts_per_review = Counter(review_lengths)"
   ]
  },
  {
   "cell_type": "code",
   "execution_count": 146,
   "metadata": {},
   "outputs": [
    {
     "data": {
      "text/plain": [
       "69"
      ]
     },
     "execution_count": 146,
     "metadata": {},
     "output_type": "execute_result"
    }
   ],
   "source": [
    "max(review_lengths)"
   ]
  },
  {
   "cell_type": "code",
   "execution_count": 147,
   "metadata": {},
   "outputs": [
    {
     "data": {
      "text/plain": [
       "25.0"
      ]
     },
     "execution_count": 147,
     "metadata": {},
     "output_type": "execute_result"
    }
   ],
   "source": [
    "np.percentile(review_lengths, 90)"
   ]
  },
  {
   "cell_type": "code",
   "execution_count": 148,
   "metadata": {},
   "outputs": [
    {
     "data": {
      "text/plain": [
       "<BarContainer object of 50 artists>"
      ]
     },
     "execution_count": 148,
     "metadata": {},
     "output_type": "execute_result"
    },
    {
     "data": {
      "image/png": "[encoded data removed]",
      "text/plain": [
       "<Figure size 432x288 with 1 Axes>"
      ]
     },
     "metadata": {
      "needs_background": "light"
     },
     "output_type": "display_data"
    }
   ],
   "source": [
    "plt.bar( word_counts_per_review.keys(), word_counts_per_review.values())"
   ]
  },
  {
   "cell_type": "markdown",
   "metadata": {},
   "source": [
    "#### most of the reviews seem to be 5-30 words longs lets take 20 as max len of our review and pad our data accordingly"
   ]
  },
  {
   "cell_type": "code",
   "execution_count": 149,
   "metadata": {},
   "outputs": [],
   "source": [
    "max_len = 20\n",
    "padded_sequences = preprocessing.sequence.pad_sequences(sequences, maxlen=max_len)"
   ]
  },
  {
   "cell_type": "code",
   "execution_count": 150,
   "metadata": {},
   "outputs": [
    {
     "data": {
      "text/plain": [
       "{'the': 1,\n",
       " 'and': 2,\n",
       " 'a': 3,\n",
       " 'of': 4,\n",
       " 'is': 5,\n",
       " 'this': 6,\n",
       " 'i': 7,\n",
       " 'it': 8,\n",
       " 'to': 9,\n",
       " 'in': 10,\n",
       " 'was': 11,\n",
       " 'movie': 12,\n",
       " 'film': 13,\n",
       " 'that': 14,\n",
       " 'for': 15,\n",
       " 'as': 16,\n",
       " 'but': 17,\n",
       " 'with': 18,\n",
       " 'one': 19,\n",
       " 'on': 20,\n",
       " 'you': 21,\n",
       " 'are': 22,\n",
       " 'not': 23,\n",
       " 'bad': 24,\n",
       " \"it's\": 25,\n",
       " 'very': 26,\n",
       " 'all': 27,\n",
       " 'just': 28,\n",
       " 'so': 29,\n",
       " 'good': 30,\n",
       " 'at': 31,\n",
       " 'an': 32,\n",
       " 'be': 33,\n",
       " 'there': 34,\n",
       " 'about': 35,\n",
       " 'have': 36,\n",
       " 'by': 37,\n",
       " 'like': 38,\n",
       " 'from': 39,\n",
       " 'if': 40,\n",
       " 'acting': 41,\n",
       " 'time': 42,\n",
       " 'out': 43,\n",
       " 'his': 44,\n",
       " 'or': 45,\n",
       " 'really': 46,\n",
       " 'great': 47,\n",
       " 'even': 48,\n",
       " 'he': 49,\n",
       " 'who': 50,\n",
       " 'were': 51,\n",
       " 'has': 52,\n",
       " 'see': 53,\n",
       " 'my': 54,\n",
       " 'characters': 55,\n",
       " 'well': 56,\n",
       " 'most': 57,\n",
       " 'how': 58,\n",
       " 'more': 59,\n",
       " 'no': 60,\n",
       " 'only': 61,\n",
       " 'when': 62,\n",
       " 'ever': 63,\n",
       " '10': 64,\n",
       " 'movies': 65,\n",
       " 'plot': 66,\n",
       " 'story': 67,\n",
       " 'made': 68,\n",
       " 'some': 69,\n",
       " 'they': 70,\n",
       " 'best': 71,\n",
       " 'because': 72,\n",
       " 'your': 73,\n",
       " 'can': 74,\n",
       " 'also': 75,\n",
       " \"don't\": 76,\n",
       " 'films': 77,\n",
       " 'than': 78,\n",
       " 'its': 79,\n",
       " 'script': 80,\n",
       " 'other': 81,\n",
       " 'character': 82,\n",
       " 'would': 83,\n",
       " 'seen': 84,\n",
       " 'way': 85,\n",
       " 'love': 86,\n",
       " 'make': 87,\n",
       " \"didn't\": 88,\n",
       " 'do': 89,\n",
       " 'me': 90,\n",
       " 'watching': 91,\n",
       " 'her': 92,\n",
       " 'which': 93,\n",
       " 'what': 94,\n",
       " 'up': 95,\n",
       " 'any': 96,\n",
       " 'think': 97,\n",
       " 'real': 98,\n",
       " 'could': 99,\n",
       " 'will': 100,\n",
       " 'had': 101,\n",
       " 'every': 102,\n",
       " 'much': 103,\n",
       " 'work': 104,\n",
       " 'too': 105,\n",
       " 'look': 106,\n",
       " 'funny': 107,\n",
       " 'scenes': 108,\n",
       " 'actors': 109,\n",
       " 'better': 110,\n",
       " 'over': 111,\n",
       " 'cast': 112,\n",
       " 'never': 113,\n",
       " 'wonderful': 114,\n",
       " 'little': 115,\n",
       " 'them': 116,\n",
       " 'into': 117,\n",
       " 'watch': 118,\n",
       " 'show': 119,\n",
       " 'everything': 120,\n",
       " 'excellent': 121,\n",
       " 'anyone': 122,\n",
       " 'their': 123,\n",
       " 'totally': 124,\n",
       " 'both': 125,\n",
       " 'here': 126,\n",
       " 'music': 127,\n",
       " 'scene': 128,\n",
       " 'waste': 129,\n",
       " 'people': 130,\n",
       " 'screen': 131,\n",
       " 'go': 132,\n",
       " 'years': 133,\n",
       " 'nothing': 134,\n",
       " 'stupid': 135,\n",
       " 'awful': 136,\n",
       " 'get': 137,\n",
       " 'know': 138,\n",
       " 'still': 139,\n",
       " 'many': 140,\n",
       " 'man': 141,\n",
       " 'art': 142,\n",
       " 'two': 143,\n",
       " 'right': 144,\n",
       " 'say': 145,\n",
       " 'recommend': 146,\n",
       " 'dialogue': 147,\n",
       " 'worth': 148,\n",
       " 'writing': 149,\n",
       " 'pretty': 150,\n",
       " 'after': 151,\n",
       " 'thing': 152,\n",
       " 'again': 153,\n",
       " 'saw': 154,\n",
       " 'thought': 155,\n",
       " 'those': 156,\n",
       " 'life': 157,\n",
       " 'line': 158,\n",
       " \"doesn't\": 159,\n",
       " 'things': 160,\n",
       " 'interesting': 161,\n",
       " 'been': 162,\n",
       " 'such': 163,\n",
       " 'terrible': 164,\n",
       " 'performance': 165,\n",
       " 'being': 166,\n",
       " 'enough': 167,\n",
       " 'beautiful': 168,\n",
       " 'short': 169,\n",
       " 'part': 170,\n",
       " 'did': 171,\n",
       " 'give': 172,\n",
       " \"can't\": 173,\n",
       " 'worst': 174,\n",
       " \"i've\": 175,\n",
       " 'though': 176,\n",
       " 'first': 177,\n",
       " 'ending': 178,\n",
       " 'should': 179,\n",
       " 'end': 180,\n",
       " 'worse': 181,\n",
       " 'she': 182,\n",
       " 'camera': 183,\n",
       " 'find': 184,\n",
       " 'through': 185,\n",
       " 'predictable': 186,\n",
       " 'loved': 187,\n",
       " 'cinematography': 188,\n",
       " 'quite': 189,\n",
       " 'simply': 190,\n",
       " 'actually': 191,\n",
       " \"i'm\": 192,\n",
       " 'actor': 193,\n",
       " 'feeling': 194,\n",
       " 'now': 195,\n",
       " 'liked': 196,\n",
       " 'piece': 197,\n",
       " 'big': 198,\n",
       " 'going': 199,\n",
       " 'played': 200,\n",
       " 'boring': 201,\n",
       " 'however': 202,\n",
       " 'director': 203,\n",
       " 'between': 204,\n",
       " 'highly': 205,\n",
       " 'off': 206,\n",
       " 'drama': 207,\n",
       " 'black': 208,\n",
       " 'almost': 209,\n",
       " 'lot': 210,\n",
       " 'directing': 211,\n",
       " 'does': 212,\n",
       " 'game': 213,\n",
       " 'play': 214,\n",
       " 'least': 215,\n",
       " 'effects': 216,\n",
       " \"that's\": 217,\n",
       " 'enjoyed': 218,\n",
       " 'absolutely': 219,\n",
       " 'these': 220,\n",
       " 'amazing': 221,\n",
       " 'horror': 222,\n",
       " 'definitely': 223,\n",
       " 'understand': 224,\n",
       " 'watched': 225,\n",
       " 'truly': 226,\n",
       " 'job': 227,\n",
       " 'whole': 228,\n",
       " 'we': 229,\n",
       " 'am': 230,\n",
       " 'special': 231,\n",
       " 'white': 232,\n",
       " 'anything': 233,\n",
       " 'kids': 234,\n",
       " 'long': 235,\n",
       " 'cinema': 236,\n",
       " 'where': 237,\n",
       " 'certainly': 238,\n",
       " 'series': 239,\n",
       " 'kind': 240,\n",
       " 'tv': 241,\n",
       " 'found': 242,\n",
       " 'suspense': 243,\n",
       " 'especially': 244,\n",
       " 'myself': 245,\n",
       " 'then': 246,\n",
       " 'fact': 247,\n",
       " 'believe': 248,\n",
       " 'minutes': 249,\n",
       " \"there's\": 250,\n",
       " 'probably': 251,\n",
       " 'got': 252,\n",
       " 'used': 253,\n",
       " 'done': 254,\n",
       " 'old': 255,\n",
       " 'makes': 256,\n",
       " 'mess': 257,\n",
       " 'avoid': 258,\n",
       " 'sucks': 259,\n",
       " 'lines': 260,\n",
       " 'wasted': 261,\n",
       " 'cool': 262,\n",
       " 'budget': 263,\n",
       " 'together': 264,\n",
       " 'far': 265,\n",
       " \"wasn't\": 266,\n",
       " 'written': 267,\n",
       " 'another': 268,\n",
       " 'playing': 269,\n",
       " 'must': 270,\n",
       " '1': 271,\n",
       " 'experience': 272,\n",
       " 'sucked': 273,\n",
       " 'self': 274,\n",
       " 'john': 275,\n",
       " 'action': 276,\n",
       " 'cheap': 277,\n",
       " 'subtle': 278,\n",
       " 'everyone': 279,\n",
       " 'our': 280,\n",
       " 'around': 281,\n",
       " 'each': 282,\n",
       " 'top': 283,\n",
       " 'garbage': 284,\n",
       " 'comedy': 285,\n",
       " 'slow': 286,\n",
       " 'half': 287,\n",
       " 'disappointed': 288,\n",
       " 'poor': 289,\n",
       " 'lacks': 290,\n",
       " 'casting': 291,\n",
       " 'hilarious': 292,\n",
       " 'editing': 293,\n",
       " 'making': 294,\n",
       " 'perfect': 295,\n",
       " 'history': 296,\n",
       " 'rather': 297,\n",
       " 'money': 298,\n",
       " 'crap': 299,\n",
       " 'flick': 300,\n",
       " 'take': 301,\n",
       " 'family': 302,\n",
       " 'entire': 303,\n",
       " 'whatever': 304,\n",
       " 'having': 305,\n",
       " 'performances': 306,\n",
       " 'believable': 307,\n",
       " 'portrayal': 308,\n",
       " 'annoying': 309,\n",
       " 'gives': 310,\n",
       " 'want': 311,\n",
       " 'classic': 312,\n",
       " 'nice': 313,\n",
       " \"i'd\": 314,\n",
       " 'brilliant': 315,\n",
       " 'rent': 316,\n",
       " 'world': 317,\n",
       " 'why': 318,\n",
       " 'horrible': 319,\n",
       " 'few': 320,\n",
       " 'sound': 321,\n",
       " 'incredible': 322,\n",
       " 'him': 323,\n",
       " 'own': 324,\n",
       " 'mostly': 325,\n",
       " 'holes': 326,\n",
       " 'use': 327,\n",
       " 'human': 328,\n",
       " 'memorable': 329,\n",
       " 'seeing': 330,\n",
       " 'gets': 331,\n",
       " 'throughout': 332,\n",
       " 'second': 333,\n",
       " 'style': 334,\n",
       " 'recommended': 335,\n",
       " 'audience': 336,\n",
       " 'clever': 337,\n",
       " 'ridiculous': 338,\n",
       " 'non': 339,\n",
       " 'works': 340,\n",
       " 'guess': 341,\n",
       " 'bit': 342,\n",
       " 'face': 343,\n",
       " 'low': 344,\n",
       " 'since': 345,\n",
       " 'single': 346,\n",
       " 'put': 347,\n",
       " 'production': 348,\n",
       " '\\x96': 349,\n",
       " 'mind': 350,\n",
       " 'amount': 351,\n",
       " 'strong': 352,\n",
       " 'fun': 353,\n",
       " 'enjoy': 354,\n",
       " 'lame': 355,\n",
       " 'away': 356,\n",
       " 'girl': 357,\n",
       " 'tom': 358,\n",
       " 'often': 359,\n",
       " 'word': 360,\n",
       " 'overall': 361,\n",
       " 'gave': 362,\n",
       " 'terrific': 363,\n",
       " 'same': 364,\n",
       " 'hour': 365,\n",
       " 'joy': 366,\n",
       " 'before': 367,\n",
       " 'oh': 368,\n",
       " 'night': 369,\n",
       " \"couldn't\": 370,\n",
       " 'direction': 371,\n",
       " 'cult': 372,\n",
       " 'times': 373,\n",
       " 'beyond': 374,\n",
       " 'lead': 375,\n",
       " 'silent': 376,\n",
       " 'hitchcock': 377,\n",
       " 'thriller': 378,\n",
       " 'new': 379,\n",
       " 'full': 380,\n",
       " 'completely': 381,\n",
       " 'pathetic': 382,\n",
       " 'talk': 383,\n",
       " 'care': 384,\n",
       " 'fails': 385,\n",
       " 'yet': 386,\n",
       " 'said': 387,\n",
       " 'fans': 388,\n",
       " 'solid': 389,\n",
       " 'felt': 390,\n",
       " 'child': 391,\n",
       " 'day': 392,\n",
       " 'started': 393,\n",
       " 'shot': 394,\n",
       " 'mention': 395,\n",
       " 'year': 396,\n",
       " 'different': 397,\n",
       " 'involved': 398,\n",
       " 'period': 399,\n",
       " \"won't\": 400,\n",
       " 'particularly': 401,\n",
       " 'come': 402,\n",
       " 'superb': 403,\n",
       " 'fine': 404,\n",
       " 'fast': 405,\n",
       " 'moving': 406,\n",
       " 'young': 407,\n",
       " 'lost': 408,\n",
       " 'trying': 409,\n",
       " 'song': 410,\n",
       " 'rest': 411,\n",
       " 'hours': 412,\n",
       " 'adorable': 413,\n",
       " 'songs': 414,\n",
       " 'consider': 415,\n",
       " 'tale': 416,\n",
       " \"i'll\": 417,\n",
       " 'true': 418,\n",
       " 'easily': 419,\n",
       " 'something': 420,\n",
       " 'minute': 421,\n",
       " 'level': 422,\n",
       " 'idea': 423,\n",
       " 'mediocre': 424,\n",
       " 'pg': 425,\n",
       " 'point': 426,\n",
       " 'itself': 427,\n",
       " 'perhaps': 428,\n",
       " 'glad': 429,\n",
       " 'lovely': 430,\n",
       " 'hard': 431,\n",
       " '2': 432,\n",
       " 'let': 433,\n",
       " 'utterly': 434,\n",
       " 'convincing': 435,\n",
       " 'book': 436,\n",
       " 'whether': 437,\n",
       " \"they're\": 438,\n",
       " 'follow': 439,\n",
       " 'energy': 440,\n",
       " 'generally': 441,\n",
       " 'pretentious': 442,\n",
       " 'occasionally': 443,\n",
       " 'try': 444,\n",
       " 'extremely': 445,\n",
       " 'back': 446,\n",
       " 'maybe': 447,\n",
       " 'sometimes': 448,\n",
       " 'during': 449,\n",
       " 'chemistry': 450,\n",
       " 'last': 451,\n",
       " 'unfortunately': 452,\n",
       " 'depth': 453,\n",
       " 'imagination': 454,\n",
       " 'barely': 455,\n",
       " 'storyline': 456,\n",
       " 'keep': 457,\n",
       " 'already': 458,\n",
       " 'attempt': 459,\n",
       " 'down': 460,\n",
       " 'mean': 461,\n",
       " 'us': 462,\n",
       " 'without': 463,\n",
       " 'torture': 464,\n",
       " 'premise': 465,\n",
       " 'seem': 466,\n",
       " 'ups': 467,\n",
       " 'age': 468,\n",
       " 'ray': 469,\n",
       " 'usual': 470,\n",
       " 'living': 471,\n",
       " 'themselves': 472,\n",
       " 'else': 473,\n",
       " 'tell': 474,\n",
       " 'visual': 475,\n",
       " 'plain': 476,\n",
       " 'soundtrack': 477,\n",
       " 'trash': 478,\n",
       " 'came': 479,\n",
       " 'either': 480,\n",
       " 'less': 481,\n",
       " 'hope': 482,\n",
       " 'eyes': 483,\n",
       " 'indeed': 484,\n",
       " 'theater': 485,\n",
       " 'rating': 486,\n",
       " 'three': 487,\n",
       " 'huge': 488,\n",
       " 'intelligence': 489,\n",
       " 'intelligent': 490,\n",
       " 'entertaining': 491,\n",
       " 'bored': 492,\n",
       " 'become': 493,\n",
       " 'roles': 494,\n",
       " 'drago': 495,\n",
       " 'looked': 496,\n",
       " 'parts': 497,\n",
       " 'sets': 498,\n",
       " 'stories': 499,\n",
       " 'created': 500,\n",
       " 'role': 501,\n",
       " 'scamp': 502,\n",
       " 'comes': 503,\n",
       " 'place': 504,\n",
       " 'star': 505,\n",
       " 'always': 506,\n",
       " 'insult': 507,\n",
       " 'death': 508,\n",
       " 'may': 509,\n",
       " 'expect': 510,\n",
       " 'serious': 511,\n",
       " 'original': 512,\n",
       " 'james': 513,\n",
       " 'unbelievable': 514,\n",
       " 'costs': 515,\n",
       " 'small': 516,\n",
       " 'dance': 517,\n",
       " 'beginning': 518,\n",
       " 'appreciate': 519,\n",
       " 'easy': 520,\n",
       " 'sure': 521,\n",
       " 'speak': 522,\n",
       " 'head': 523,\n",
       " 'meaning': 524,\n",
       " 'today': 525,\n",
       " 'showed': 526,\n",
       " 'delivers': 527,\n",
       " 'average': 528,\n",
       " 'main': 529,\n",
       " 'greatest': 530,\n",
       " 'gem': 531,\n",
       " 'sea': 532,\n",
       " 'faux': 533,\n",
       " 'important': 534,\n",
       " 'words': 535,\n",
       " 'yes': 536,\n",
       " 'significant': 537,\n",
       " 'picture': 538,\n",
       " 'graphics': 539,\n",
       " 'massive': 540,\n",
       " 'pure': 541,\n",
       " 'brilliance': 542,\n",
       " 'complete': 543,\n",
       " 'while': 544,\n",
       " 'moment': 545,\n",
       " 'told': 546,\n",
       " 'talented': 547,\n",
       " 'stars': 548,\n",
       " 'hill': 549,\n",
       " 'ed': 550,\n",
       " 'quality': 551,\n",
       " 'obviously': 552,\n",
       " 'addition': 553,\n",
       " 'grace': 554,\n",
       " 'negative': 555,\n",
       " 'pointless': 556,\n",
       " 'children': 557,\n",
       " \"wouldn't\": 558,\n",
       " 'dialog': 559,\n",
       " 'shots': 560,\n",
       " \"aren't\": 561,\n",
       " 'given': 562,\n",
       " 'provoking': 563,\n",
       " 'plus': 564,\n",
       " 'paced': 565,\n",
       " 'wind': 566,\n",
       " 'lion': 567,\n",
       " 'acted': 568,\n",
       " 'decent': 569,\n",
       " 'checking': 570,\n",
       " 'touching': 571,\n",
       " 'looking': 572,\n",
       " 'including': 573,\n",
       " 'embarrassing': 574,\n",
       " 'scenery': 575,\n",
       " 'house': 576,\n",
       " 'wish': 577,\n",
       " 'along': 578,\n",
       " 'happened': 579,\n",
       " 'seems': 580,\n",
       " 'mature': 581,\n",
       " 'episode': 582,\n",
       " 'remake': 583,\n",
       " 'fear': 584,\n",
       " 'nobody': 585,\n",
       " 'conflict': 586,\n",
       " 'incredibly': 587,\n",
       " 'possible': 588,\n",
       " 'whatsoever': 589,\n",
       " 'stereotypes': 590,\n",
       " 'cartoon': 591,\n",
       " 'paul': 592,\n",
       " 'women': 593,\n",
       " 'brain': 594,\n",
       " 'left': 595,\n",
       " 'features': 596,\n",
       " 'presents': 597,\n",
       " 'free': 598,\n",
       " 'screenwriter': 599,\n",
       " 'close': 600,\n",
       " 'seemed': 601,\n",
       " \"you'll\": 602,\n",
       " 'indulgent': 603,\n",
       " 'spent': 604,\n",
       " \"isn't\": 605,\n",
       " 'charles': 606,\n",
       " 'remember': 607,\n",
       " 'working': 608,\n",
       " 'attention': 609,\n",
       " 'singing': 610,\n",
       " 'etc': 611,\n",
       " 'bore': 612,\n",
       " 'dancing': 613,\n",
       " 'dvd': 614,\n",
       " 'might': 615,\n",
       " 'theme': 616,\n",
       " 'aerial': 617,\n",
       " 'interest': 618,\n",
       " 'narrative': 619,\n",
       " 'actress': 620,\n",
       " 'called': 621,\n",
       " 'spoilers': 622,\n",
       " 'stunning': 623,\n",
       " 'fx': 624,\n",
       " 'note': 625,\n",
       " 'surprisingly': 626,\n",
       " 'released': 627,\n",
       " 'ranks': 628,\n",
       " 'journey': 629,\n",
       " 'location': 630,\n",
       " 'thoroughly': 631,\n",
       " 'turn': 632,\n",
       " 'memories': 633,\n",
       " 'places': 634,\n",
       " 'billy': 635,\n",
       " 'possibly': 636,\n",
       " 'trilogy': 637,\n",
       " 'favourite': 638,\n",
       " 'awesome': 639,\n",
       " 'earlier': 640,\n",
       " 'directed': 641,\n",
       " 'someone': 642,\n",
       " 'sense': 643,\n",
       " 'games': 644,\n",
       " 'genuine': 645,\n",
       " 'smart': 646,\n",
       " \"haven't\": 647,\n",
       " 'particular': 648,\n",
       " 'stage': 649,\n",
       " 'next': 650,\n",
       " '8': 651,\n",
       " 'super': 652,\n",
       " 'wonderfully': 653,\n",
       " 'actresses': 654,\n",
       " 'exactly': 655,\n",
       " 'shows': 656,\n",
       " 'drive': 657,\n",
       " 'scared': 658,\n",
       " 'enjoyable': 659,\n",
       " 'bought': 660,\n",
       " '90': 661,\n",
       " 'god': 662,\n",
       " 'effective': 663,\n",
       " 'set': 664,\n",
       " 'learn': 665,\n",
       " 'values': 666,\n",
       " 'photography': 667,\n",
       " 'ruthless': 668,\n",
       " 'although': 669,\n",
       " 'war': 670,\n",
       " 'type': 671,\n",
       " 'example': 672,\n",
       " 'feel': 673,\n",
       " 'seriously': 674,\n",
       " 'ready': 675,\n",
       " 'fan': 676,\n",
       " 'angel': 677,\n",
       " 'under': 678,\n",
       " 'coming': 679,\n",
       " '20': 680,\n",
       " 'charming': 681,\n",
       " 'clichés': 682,\n",
       " 'thrown': 683,\n",
       " 'reason': 684,\n",
       " 'scale': 685,\n",
       " 'problems': 686,\n",
       " 'score': 687,\n",
       " 'frightening': 688,\n",
       " 'oscar': 689,\n",
       " 'knew': 690,\n",
       " 'lots': 691,\n",
       " 'space': 692,\n",
       " 'footage': 693,\n",
       " 'course': 694,\n",
       " 'perfectly': 695,\n",
       " 'finally': 696,\n",
       " 'share': 697,\n",
       " 'rate': 698,\n",
       " 'sort': 699,\n",
       " 'conclusion': 700,\n",
       " 'heart': 701,\n",
       " 'race': 702,\n",
       " 'appearance': 703,\n",
       " 'looks': 704,\n",
       " 'happen': 705,\n",
       " 'final': 706,\n",
       " 'unconvincing': 707,\n",
       " 'produced': 708,\n",
       " 'early': 709,\n",
       " 'documentary': 710,\n",
       " 'martin': 711,\n",
       " 'racial': 712,\n",
       " 'mickey': 713,\n",
       " 'watchable': 714,\n",
       " 'weak': 715,\n",
       " 'due': 716,\n",
       " \"film's\": 717,\n",
       " 'recent': 718,\n",
       " \"90's\": 719,\n",
       " 'nonsense': 720,\n",
       " 'fantastic': 721,\n",
       " 'south': 722,\n",
       " \"you're\": 723,\n",
       " 'plays': 724,\n",
       " 'thinking': 725,\n",
       " 'wrong': 726,\n",
       " 'giallo': 727,\n",
       " 'sub': 728,\n",
       " 'emotions': 729,\n",
       " 'ability': 730,\n",
       " 'write': 731,\n",
       " 'writer': 732,\n",
       " 'puppets': 733,\n",
       " 'animation': 734,\n",
       " 'flat': 735,\n",
       " 'whom': 736,\n",
       " 'walked': 737,\n",
       " 'angles': 738,\n",
       " 'became': 739,\n",
       " 'keeps': 740,\n",
       " 'running': 741,\n",
       " 'charm': 742,\n",
       " 'empty': 743,\n",
       " 'jimmy': 744,\n",
       " 'appealing': 745,\n",
       " 'case': 746,\n",
       " 'clearly': 747,\n",
       " 'review': 748,\n",
       " 'sisters': 749,\n",
       " 'terms': 750,\n",
       " 'aspect': 751,\n",
       " 'masterpiece': 752,\n",
       " 'masterpieces': 753,\n",
       " 'ask': 754,\n",
       " 'form': 755,\n",
       " 'imaginable': 756,\n",
       " 'pieces': 757,\n",
       " 'fit': 758,\n",
       " 'create': 759,\n",
       " 'deserves': 760,\n",
       " 'levels': 761,\n",
       " 'canada': 762,\n",
       " 'buy': 763,\n",
       " '13': 764,\n",
       " 'sequel': 765,\n",
       " 'rated': 766,\n",
       " 'interested': 767,\n",
       " 'unfunny': 768,\n",
       " 'joke': 769,\n",
       " 'morgan': 770,\n",
       " 'jonah': 771,\n",
       " 'lazy': 772,\n",
       " 'presence': 773,\n",
       " 'obvious': 774,\n",
       " 'cost': 775,\n",
       " 'despite': 776,\n",
       " 'choice': 777,\n",
       " 'lesser': 778,\n",
       " 'french': 779,\n",
       " 'fall': 780,\n",
       " 'cause': 781,\n",
       " 'regret': 782,\n",
       " 'front': 783,\n",
       " 'whiny': 784,\n",
       " 'future': 785,\n",
       " 'anne': 786,\n",
       " '9': 787,\n",
       " 'reading': 788,\n",
       " 'voice': 789,\n",
       " 'warmth': 790,\n",
       " 'twice': 791,\n",
       " 'delivering': 792,\n",
       " 'honestly': 793,\n",
       " 'unpredictable': 794,\n",
       " 'badly': 795,\n",
       " 'parents': 796,\n",
       " 'alexander': 797,\n",
       " 'artist': 798,\n",
       " 's': 799,\n",
       " 'gonna': 800,\n",
       " 'business': 801,\n",
       " 'needed': 802,\n",
       " 'mouth': 803,\n",
       " 'run': 804,\n",
       " 'superbly': 805,\n",
       " 'turned': 806,\n",
       " 'b': 807,\n",
       " 'list': 808,\n",
       " 'problem': 809,\n",
       " 'heaven': 810,\n",
       " 'lives': 811,\n",
       " 'church': 812,\n",
       " 'uplifting': 813,\n",
       " 'frankly': 814,\n",
       " 'lane': 815,\n",
       " 'chick': 816,\n",
       " 'disappointing': 817,\n",
       " 'lousy': 818,\n",
       " 'bring': 819,\n",
       " 'fresh': 820,\n",
       " 'bold': 821,\n",
       " 'helps': 822,\n",
       " 'idiot': 823,\n",
       " 'occupied': 824,\n",
       " 'instead': 825,\n",
       " 'accused': 826,\n",
       " 'edge': 827,\n",
       " 'somewhat': 828,\n",
       " 'afraid': 829,\n",
       " 'advise': 830,\n",
       " 'tremendously': 831,\n",
       " 'sandra': 832,\n",
       " 'bullock': 833,\n",
       " 'supposedly': 834,\n",
       " 'several': 835,\n",
       " 'moments': 836,\n",
       " 'need': 837,\n",
       " 'friends': 838,\n",
       " 'disappointment': 839,\n",
       " 'cannot': 840,\n",
       " 'stand': 841,\n",
       " 'losing': 842,\n",
       " 'putting': 843,\n",
       " 'ratings': 844,\n",
       " 'dramatic': 845,\n",
       " 'tension': 846,\n",
       " 'central': 847,\n",
       " 'themes': 848,\n",
       " 'handled': 849,\n",
       " 'pictures': 850,\n",
       " 'flawed': 851,\n",
       " 'core': 852,\n",
       " 'following': 853,\n",
       " 'bunch': 854,\n",
       " 'high': 855,\n",
       " 'hell': 856,\n",
       " 'viewing': 857,\n",
       " 'disaster': 858,\n",
       " 'paid': 859,\n",
       " 'quinn': 860,\n",
       " 'crazy': 861,\n",
       " 'hate': 862,\n",
       " 'yeah': 863,\n",
       " 'girlfriend': 864,\n",
       " 'disliked': 865,\n",
       " 'five': 866,\n",
       " 'mad': 867,\n",
       " '50': 868,\n",
       " 'cardboard': 869,\n",
       " 'predictably': 870,\n",
       " 'crafted': 871,\n",
       " 'depressing': 872,\n",
       " 'racism': 873,\n",
       " 'took': 874,\n",
       " 'redeeming': 875,\n",
       " 'appalling': 876,\n",
       " 'setting': 877,\n",
       " 'charisma': 878,\n",
       " 'explanation': 879,\n",
       " 'era': 880,\n",
       " 'wanted': 881,\n",
       " 'missed': 882,\n",
       " 'step': 883,\n",
       " 'freedom': 884,\n",
       " 'below': 885,\n",
       " 'received': 886,\n",
       " 'wayne': 887,\n",
       " 'industry': 888,\n",
       " 'noteworthy': 889,\n",
       " 'blood': 890,\n",
       " 'jamie': 891,\n",
       " 'genius': 892,\n",
       " 'owned': 893,\n",
       " 'daughter': 894,\n",
       " 'material': 895,\n",
       " 'goes': 896,\n",
       " 'hence': 897,\n",
       " 'machine': 898,\n",
       " 'flaws': 899,\n",
       " 'mishima': 900,\n",
       " 'uninteresting': 901,\n",
       " 'chilly': 902,\n",
       " 'schrader': 903,\n",
       " 'recently': 904,\n",
       " 'struck': 905,\n",
       " 'contained': 906,\n",
       " 'realistic': 907,\n",
       " 'lacked': 908,\n",
       " 'talent': 909,\n",
       " \"director's\": 910,\n",
       " 'chance': 911,\n",
       " 'master': 912,\n",
       " 'thrilled': 913,\n",
       " 'senses': 914,\n",
       " 'deeply': 915,\n",
       " 'june': 916,\n",
       " 'considering': 917,\n",
       " 'offers': 918,\n",
       " 'mexican': 919,\n",
       " 'matter': 920,\n",
       " 'noir': 921,\n",
       " 'complex': 922,\n",
       " 'psychological': 923,\n",
       " 'soul': 924,\n",
       " 'water': 925,\n",
       " 'gripping': 926,\n",
       " 'control': 927,\n",
       " 'disturbing': 928,\n",
       " 'jerky': 929,\n",
       " 'camerawork': 930,\n",
       " 'sick': 931,\n",
       " 'summary': 932,\n",
       " \"weren't\": 933,\n",
       " 'witty': 934,\n",
       " 'above': 935,\n",
       " 'ceases': 936,\n",
       " 'directors': 937,\n",
       " 'visually': 938,\n",
       " 'spoiler': 939,\n",
       " 'remaining': 940,\n",
       " 'suffering': 941,\n",
       " 'smile': 942,\n",
       " 'literally': 943,\n",
       " '25': 944,\n",
       " 'unfolds': 945,\n",
       " 'leaves': 946,\n",
       " 'room': 947,\n",
       " 'contrast': 948,\n",
       " 'sublime': 949,\n",
       " '5': 950,\n",
       " 'offensive': 951,\n",
       " 'poetry': 952,\n",
       " 'reviewer': 953,\n",
       " 'masterful': 954,\n",
       " 'pitiful': 955,\n",
       " 'nature': 956,\n",
       " 'female': 957,\n",
       " 'nuts': 958,\n",
       " 'dangerous': 959,\n",
       " 'reactions': 960,\n",
       " 'twist': 961,\n",
       " 'shed': 962,\n",
       " 'forget': 963,\n",
       " 'underneath': 964,\n",
       " 'call': 965,\n",
       " 'assistant': 966,\n",
       " 'laugh': 967,\n",
       " 'de': 968,\n",
       " 'cute': 969,\n",
       " 'guy': 970,\n",
       " \"he's\": 971,\n",
       " 'taped': 972,\n",
       " 'likes': 973,\n",
       " 'wholesome': 974,\n",
       " 'ways': 975,\n",
       " 'portraying': 976,\n",
       " 'pleased': 977,\n",
       " 'modern': 978,\n",
       " 'taking': 979,\n",
       " 'towards': 980,\n",
       " 'attempts': 981,\n",
       " 'supposed': 982,\n",
       " 'light': 983,\n",
       " 'situation': 984,\n",
       " 'leave': 985,\n",
       " 'bear': 986,\n",
       " 'kinda': 987,\n",
       " 'question': 988,\n",
       " 'lucy': 989,\n",
       " 'wonder': 990,\n",
       " 'composition': 991,\n",
       " 'brian': 992,\n",
       " 'son': 993,\n",
       " 'member': 994,\n",
       " 'identify': 995,\n",
       " \"huston's\": 996,\n",
       " 'steve': 997,\n",
       " 'robert': 998,\n",
       " 'father': 999,\n",
       " 'murdered': 1000,\n",
       " ...}"
      ]
     },
     "execution_count": 150,
     "metadata": {},
     "output_type": "execute_result"
    }
   ],
   "source": [
    "tokenizer.word_index"
   ]
  },
  {
   "cell_type": "code",
   "execution_count": 151,
   "metadata": {},
   "outputs": [],
   "source": [
    "reverse_word_index = {tokenizer.word_index[k]:k for k in tokenizer.word_index.keys()}"
   ]
  },
  {
   "cell_type": "code",
   "execution_count": 152,
   "metadata": {},
   "outputs": [
    {
     "data": {
      "text/plain": [
       "[23, 521, 50, 11, 59, 408, 1, 735, 55, 45, 1, 336, 1219, 287, 4, 736, 737, 43]"
      ]
     },
     "execution_count": 152,
     "metadata": {},
     "output_type": "execute_result"
    }
   ],
   "source": [
    "sequences[1]"
   ]
  },
  {
   "cell_type": "code",
   "execution_count": 153,
   "metadata": {},
   "outputs": [
    {
     "data": {
      "text/plain": [
       "'Not sure who was more lost - the flat characters or the audience, nearly half of whom walked out.'"
      ]
     },
     "execution_count": 153,
     "metadata": {},
     "output_type": "execute_result"
    }
   ],
   "source": [
    "data[1]"
   ]
  },
  {
   "cell_type": "code",
   "execution_count": 154,
   "metadata": {},
   "outputs": [
    {
     "data": {
      "text/plain": [
       "['not',\n",
       " 'sure',\n",
       " 'who',\n",
       " 'was',\n",
       " 'more',\n",
       " 'lost',\n",
       " 'the',\n",
       " 'flat',\n",
       " 'characters',\n",
       " 'or',\n",
       " 'the',\n",
       " 'audience',\n",
       " 'nearly',\n",
       " 'half',\n",
       " 'of',\n",
       " 'whom',\n",
       " 'walked',\n",
       " 'out']"
      ]
     },
     "execution_count": 154,
     "metadata": {},
     "output_type": "execute_result"
    }
   ],
   "source": [
    "[reverse_word_index[k] for k in sequences[1]]"
   ]
  },
  {
   "cell_type": "markdown",
   "metadata": {},
   "source": [
    "#### we can see that words in review and encodding are the same. however keras encoder has padded it to all lowercase"
   ]
  },
  {
   "cell_type": "code",
   "execution_count": 155,
   "metadata": {},
   "outputs": [],
   "source": [
    "\n",
    "### split data in train/test last 200 records are used for testing \n",
    "labels = np.array([int(x) for x in labels])\n",
    "train_data = padded_sequences[:-200]\n",
    "train_labels = labels[:-200]\n",
    "test_data = padded_sequences[-200:]\n",
    "test_labels = labels[-200:]"
   ]
  },
  {
   "cell_type": "code",
   "execution_count": 156,
   "metadata": {},
   "outputs": [
    {
     "name": "stdout",
     "output_type": "stream",
     "text": [
      "800\n",
      "200\n"
     ]
    }
   ],
   "source": [
    "print(len(train_data))\n",
    "print(len(test_data))\n"
   ]
  },
  {
   "cell_type": "markdown",
   "metadata": {},
   "source": [
    "### Model for Simple RNN "
   ]
  },
  {
   "cell_type": "code",
   "execution_count": 157,
   "metadata": {},
   "outputs": [
    {
     "name": "stdout",
     "output_type": "stream",
     "text": [
      "Model: \"sequential_8\"\n",
      "_________________________________________________________________\n",
      "Layer (type)                 Output Shape              Param #   \n",
      "=================================================================\n",
      "embedding_8 (Embedding)      (None, 20, 12)            120000    \n",
      "_________________________________________________________________\n",
      "simple_rnn_2 (SimpleRNN)     (None, 30)                1290      \n",
      "_________________________________________________________________\n",
      "flatten_8 (Flatten)          (None, 30)                0         \n",
      "_________________________________________________________________\n",
      "dense_8 (Dense)              (None, 1)                 31        \n",
      "=================================================================\n",
      "Total params: 121,321\n",
      "Trainable params: 121,321\n",
      "Non-trainable params: 0\n",
      "_________________________________________________________________\n",
      "Train on 640 samples, validate on 160 samples\n",
      "Epoch 1/10\n",
      "640/640 [==============================] - 1s 2ms/sample - loss: 0.9963 - accuracy: 0.5172 - val_loss: 0.8418 - val_accuracy: 0.3500\n",
      "Epoch 2/10\n",
      "640/640 [==============================] - 0s 214us/sample - loss: 0.6240 - accuracy: 0.6672 - val_loss: 0.6998 - val_accuracy: 0.5125\n",
      "Epoch 3/10\n",
      "640/640 [==============================] - 0s 215us/sample - loss: 0.4998 - accuracy: 0.7656 - val_loss: 0.7575 - val_accuracy: 0.5875\n",
      "Epoch 4/10\n",
      "640/640 [==============================] - 0s 219us/sample - loss: 0.3603 - accuracy: 0.8594 - val_loss: 1.3506 - val_accuracy: 0.4062\n",
      "Epoch 5/10\n",
      "640/640 [==============================] - 0s 211us/sample - loss: 0.2574 - accuracy: 0.9125 - val_loss: 1.3499 - val_accuracy: 0.4875\n",
      "Epoch 6/10\n",
      "640/640 [==============================] - 0s 214us/sample - loss: 0.1715 - accuracy: 0.9531 - val_loss: 1.3469 - val_accuracy: 0.5688\n",
      "Epoch 7/10\n",
      "640/640 [==============================] - 0s 215us/sample - loss: 0.1225 - accuracy: 0.9719 - val_loss: 1.6931 - val_accuracy: 0.5750\n",
      "Epoch 8/10\n",
      "640/640 [==============================] - 0s 219us/sample - loss: 0.1014 - accuracy: 0.9734 - val_loss: 1.9292 - val_accuracy: 0.5125\n",
      "Epoch 9/10\n",
      "640/640 [==============================] - 0s 216us/sample - loss: 0.0751 - accuracy: 0.9797 - val_loss: 2.1050 - val_accuracy: 0.5250\n",
      "Epoch 10/10\n",
      "640/640 [==============================] - 0s 219us/sample - loss: 0.0555 - accuracy: 0.9922 - val_loss: 2.1227 - val_accuracy: 0.5625\n"
     ]
    }
   ],
   "source": [
    "model_name = 'Simple_RNN'\n",
    "tb = TensorBoard(log_dir = 'logs_{}'.format(model_name))\n",
    "model = Sequential()\n",
    "model.add(Embedding(10000, 12 , input_length=max_len))\n",
    "model.add(SimpleRNN(30))\n",
    "model.add(Flatten())\n",
    "model.add(Dense(1))\n",
    "model.summary()\n",
    "model.compile(optimizer = 'rmsprop' , loss = 'binary_crossentropy', metrics = ['accuracy'])\n",
    "history = model.fit(train_data, train_labels , validation_split = 0.2, epochs = 10, batch_size = 32, callbacks = [tb])"
   ]
  },
  {
   "cell_type": "markdown",
   "metadata": {},
   "source": [
    "### Evalution and curves for  for Simple RNN "
   ]
  },
  {
   "cell_type": "code",
   "execution_count": 158,
   "metadata": {},
   "outputs": [
    {
     "name": "stdout",
     "output_type": "stream",
     "text": [
      " evaluation on test data for model Simple_RNN \n",
      "200/200 [==============================] - 0s 880us/sample - loss: 1.5989 - accuracy: 0.6450\n"
     ]
    },
    {
     "data": {
      "text/plain": [
       "[1.5989236307144166, 0.645]"
      ]
     },
     "execution_count": 158,
     "metadata": {},
     "output_type": "execute_result"
    }
   ],
   "source": [
    "print(\" evaluation on test data for model {} \".format(model_name))\n",
    "model.evaluate(test_data, test_labels, verbose=1)"
   ]
  },
  {
   "cell_type": "code",
   "execution_count": 159,
   "metadata": {},
   "outputs": [
    {
     "data": {
      "text/plain": [
       "Text(0.5, 1.0, ' Simple_RNN val acc')"
      ]
     },
     "execution_count": 159,
     "metadata": {},
     "output_type": "execute_result"
    },
    {
     "data": {
      "image/png": "[encoded data removed]",
      "text/plain": [
       "<Figure size 432x288 with 1 Axes>"
      ]
     },
     "metadata": {
      "needs_background": "light"
     },
     "output_type": "display_data"
    }
   ],
   "source": [
    "plt.plot(history.history['val_accuracy'])\n",
    "plt.ylabel('Val Accuracy')\n",
    "plt.xlabel('epochs')\n",
    "plt.title(' {} val acc'.format(model_name))"
   ]
  },
  {
   "cell_type": "code",
   "execution_count": 160,
   "metadata": {},
   "outputs": [
    {
     "data": {
      "text/plain": [
       "Text(0.5, 1.0, ' Simple_RNN  acc')"
      ]
     },
     "execution_count": 160,
     "metadata": {},
     "output_type": "execute_result"
    },
    {
     "data": {
      "image/png": "[encoded data removed]",
      "text/plain": [
       "<Figure size 432x288 with 1 Axes>"
      ]
     },
     "metadata": {
      "needs_background": "light"
     },
     "output_type": "display_data"
    }
   ],
   "source": [
    "plt.plot(history.history['accuracy'])\n",
    "plt.ylabel('Accuracy')\n",
    "plt.xlabel('epochs')\n",
    "plt.title(' {}  acc'.format(model_name))"
   ]
  },
  {
   "cell_type": "code",
   "execution_count": 161,
   "metadata": {},
   "outputs": [
    {
     "name": "stdout",
     "output_type": "stream",
     "text": [
      "The tensorboard extension is already loaded. To reload it, use:\n",
      "  %reload_ext tensorboard\n"
     ]
    },
    {
     "data": {
      "text/plain": [
       "Reusing TensorBoard on port 6008 (pid 13414), started 0:22:11 ago. (Use '!kill 13414' to kill it.)"
      ]
     },
     "metadata": {},
     "output_type": "display_data"
    },
    {
     "data": {
      "text/html": [
       "\n",
       "      <iframe id=\"tensorboard-frame-365e3c5c3617c851\" width=\"100%\" height=\"800\" frameborder=\"0\">\n",
       "      </iframe>\n",
       "      <script>\n",
       "        (function() {\n",
       "          const frame = document.getElementById(\"tensorboard-frame-365e3c5c3617c851\");\n",
       "          const url = new URL(\"/\", window.location);\n",
       "          url.port = 6008;\n",
       "          frame.src = url;\n",
       "        })();\n",
       "      </script>\n",
       "  "
      ],
      "text/plain": [
       "<IPython.core.display.HTML object>"
      ]
     },
     "metadata": {},
     "output_type": "display_data"
    }
   ],
   "source": [
    "%load_ext tensorboard\n",
    "%tensorboard --logdir logs_Simple_RNN"
   ]
  },
  {
   "cell_type": "markdown",
   "metadata": {},
   "source": [
    "### Model for LSTM "
   ]
  },
  {
   "cell_type": "code",
   "execution_count": 162,
   "metadata": {
    "scrolled": true
   },
   "outputs": [
    {
     "name": "stdout",
     "output_type": "stream",
     "text": [
      "Model: \"sequential_9\"\n",
      "_________________________________________________________________\n",
      "Layer (type)                 Output Shape              Param #   \n",
      "=================================================================\n",
      "embedding_9 (Embedding)      (None, 20, 12)            120000    \n",
      "_________________________________________________________________\n",
      "lstm_4 (LSTM)                (None, 30)                5160      \n",
      "_________________________________________________________________\n",
      "flatten_9 (Flatten)          (None, 30)                0         \n",
      "_________________________________________________________________\n",
      "dense_9 (Dense)              (None, 1)                 31        \n",
      "=================================================================\n",
      "Total params: 125,191\n",
      "Trainable params: 125,191\n",
      "Non-trainable params: 0\n",
      "_________________________________________________________________\n",
      "Train on 640 samples, validate on 160 samples\n",
      "Epoch 1/10\n",
      "640/640 [==============================] - 2s 3ms/sample - loss: 1.3166 - accuracy: 0.5609 - val_loss: 0.9725 - val_accuracy: 0.3438\n",
      "Epoch 2/10\n",
      "640/640 [==============================] - 0s 336us/sample - loss: 0.6921 - accuracy: 0.5516 - val_loss: 0.8289 - val_accuracy: 0.3438\n",
      "Epoch 3/10\n",
      "640/640 [==============================] - 0s 264us/sample - loss: 0.6439 - accuracy: 0.6297 - val_loss: 0.7081 - val_accuracy: 0.4250\n",
      "Epoch 4/10\n",
      "640/640 [==============================] - 0s 276us/sample - loss: 0.5814 - accuracy: 0.7000 - val_loss: 0.6642 - val_accuracy: 0.6000\n",
      "Epoch 5/10\n",
      "640/640 [==============================] - 0s 293us/sample - loss: 0.4703 - accuracy: 0.8250 - val_loss: 0.5335 - val_accuracy: 0.7312\n",
      "Epoch 6/10\n",
      "640/640 [==============================] - 0s 298us/sample - loss: 0.3442 - accuracy: 0.8625 - val_loss: 0.5540 - val_accuracy: 0.6938\n",
      "Epoch 7/10\n",
      "640/640 [==============================] - 0s 308us/sample - loss: 0.2627 - accuracy: 0.8938 - val_loss: 0.4733 - val_accuracy: 0.7437\n",
      "Epoch 8/10\n",
      "640/640 [==============================] - 0s 303us/sample - loss: 0.2305 - accuracy: 0.9125 - val_loss: 0.6005 - val_accuracy: 0.7188\n",
      "Epoch 9/10\n",
      "640/640 [==============================] - 0s 344us/sample - loss: 0.3181 - accuracy: 0.9453 - val_loss: 0.6981 - val_accuracy: 0.7000\n",
      "Epoch 10/10\n",
      "640/640 [==============================] - 0s 295us/sample - loss: 0.1326 - accuracy: 0.9563 - val_loss: 0.8566 - val_accuracy: 0.6875\n"
     ]
    }
   ],
   "source": [
    "model_name = 'LSTM'\n",
    "tb = TensorBoard(log_dir = 'logs_{}'.format(model_name))\n",
    "model = Sequential()\n",
    "model.add(Embedding(10000, 12 , input_length=max_len))\n",
    "model.add(LSTM(30))\n",
    "model.add(Flatten())\n",
    "model.add(Dense(1))\n",
    "model.summary()\n",
    "model.compile(optimizer = 'rmsprop' , loss = 'binary_crossentropy', metrics = ['accuracy'])\n",
    "history = model.fit(train_data, train_labels , validation_split = 0.2, epochs = 10, batch_size = 32, callbacks = [tb])"
   ]
  },
  {
   "cell_type": "code",
   "execution_count": 163,
   "metadata": {},
   "outputs": [
    {
     "name": "stdout",
     "output_type": "stream",
     "text": [
      " evaluation on test data for model LSTM \n",
      "200/200 [==============================] - 1s 4ms/sample - loss: 1.2205 - accuracy: 0.7500\n"
     ]
    },
    {
     "data": {
      "text/plain": [
       "[1.220545743703842, 0.75]"
      ]
     },
     "execution_count": 163,
     "metadata": {},
     "output_type": "execute_result"
    }
   ],
   "source": [
    "print(\" evaluation on test data for model {} \".format(model_name))\n",
    "model.evaluate(test_data, test_labels, verbose=1)"
   ]
  },
  {
   "cell_type": "code",
   "execution_count": 164,
   "metadata": {},
   "outputs": [
    {
     "data": {
      "text/plain": [
       "Text(0.5, 1.0, ' LSTM val acc')"
      ]
     },
     "execution_count": 164,
     "metadata": {},
     "output_type": "execute_result"
    },
    {
     "data": {
      "image/png": "[encoded data removed]",
      "text/plain": [
       "<Figure size 432x288 with 1 Axes>"
      ]
     },
     "metadata": {
      "needs_background": "light"
     },
     "output_type": "display_data"
    }
   ],
   "source": [
    "plt.plot(history.history['val_accuracy'])\n",
    "plt.ylabel('Val Accuracy')\n",
    "plt.xlabel('epochs')\n",
    "plt.title(' {} val acc'.format(model_name))"
   ]
  },
  {
   "cell_type": "code",
   "execution_count": 165,
   "metadata": {},
   "outputs": [
    {
     "data": {
      "text/plain": [
       "Text(0.5, 1.0, ' LSTM  acc')"
      ]
     },
     "execution_count": 165,
     "metadata": {},
     "output_type": "execute_result"
    },
    {
     "data": {
      "image/png": "[encoded data removed]",
      "text/plain": [
       "<Figure size 432x288 with 1 Axes>"
      ]
     },
     "metadata": {
      "needs_background": "light"
     },
     "output_type": "display_data"
    }
   ],
   "source": [
    "plt.plot(history.history['accuracy'])\n",
    "plt.ylabel('Accuracy')\n",
    "plt.xlabel('epochs')\n",
    "plt.title(' {}  acc'.format(model_name))"
   ]
  },
  {
   "cell_type": "code",
   "execution_count": 166,
   "metadata": {
    "scrolled": true
   },
   "outputs": [
    {
     "data": {
      "text/plain": [
       "Reusing TensorBoard on port 6009 (pid 13417), started 0:22:07 ago. (Use '!kill 13417' to kill it.)"
      ]
     },
     "metadata": {},
     "output_type": "display_data"
    },
    {
     "data": {
      "text/html": [
       "\n",
       "      <iframe id=\"tensorboard-frame-d9d4a7de1fd05b85\" width=\"100%\" height=\"800\" frameborder=\"0\">\n",
       "      </iframe>\n",
       "      <script>\n",
       "        (function() {\n",
       "          const frame = document.getElementById(\"tensorboard-frame-d9d4a7de1fd05b85\");\n",
       "          const url = new URL(\"/\", window.location);\n",
       "          url.port = 6009;\n",
       "          frame.src = url;\n",
       "        })();\n",
       "      </script>\n",
       "  "
      ],
      "text/plain": [
       "<IPython.core.display.HTML object>"
      ]
     },
     "metadata": {},
     "output_type": "display_data"
    }
   ],
   "source": [
    "%tensorboard --logdir logs_LSTM"
   ]
  },
  {
   "cell_type": "code",
   "execution_count": 167,
   "metadata": {},
   "outputs": [
    {
     "name": "stdout",
     "output_type": "stream",
     "text": [
      "Model: \"sequential_10\"\n",
      "_________________________________________________________________\n",
      "Layer (type)                 Output Shape              Param #   \n",
      "=================================================================\n",
      "embedding_10 (Embedding)     (None, 20, 12)            120000    \n",
      "_________________________________________________________________\n",
      "gru_2 (GRU)                  (None, 30)                3960      \n",
      "_________________________________________________________________\n",
      "flatten_10 (Flatten)         (None, 30)                0         \n",
      "_________________________________________________________________\n",
      "dense_10 (Dense)             (None, 1)                 31        \n",
      "=================================================================\n",
      "Total params: 123,991\n",
      "Trainable params: 123,991\n",
      "Non-trainable params: 0\n",
      "_________________________________________________________________\n",
      "Train on 640 samples, validate on 160 samples\n",
      "Epoch 1/10\n",
      "640/640 [==============================] - 2s 3ms/sample - loss: 1.0721 - accuracy: 0.5609 - val_loss: 0.8720 - val_accuracy: 0.3438\n",
      "Epoch 2/10\n",
      "640/640 [==============================] - 0s 388us/sample - loss: 0.6694 - accuracy: 0.5766 - val_loss: 0.6951 - val_accuracy: 0.5125\n",
      "Epoch 3/10\n",
      "640/640 [==============================] - 0s 383us/sample - loss: 0.6123 - accuracy: 0.7000 - val_loss: 0.6259 - val_accuracy: 0.6812\n",
      "Epoch 4/10\n",
      "640/640 [==============================] - 0s 361us/sample - loss: 0.5186 - accuracy: 0.8094 - val_loss: 0.6487 - val_accuracy: 0.6000\n",
      "Epoch 5/10\n",
      "640/640 [==============================] - 0s 293us/sample - loss: 0.3993 - accuracy: 0.8906 - val_loss: 0.5922 - val_accuracy: 0.7750\n",
      "Epoch 6/10\n",
      "640/640 [==============================] - 0s 284us/sample - loss: 0.2891 - accuracy: 0.9203 - val_loss: 0.6464 - val_accuracy: 0.7563\n",
      "Epoch 7/10\n",
      "640/640 [==============================] - 0s 287us/sample - loss: 0.1932 - accuracy: 0.9563 - val_loss: 0.6490 - val_accuracy: 0.7563\n",
      "Epoch 8/10\n",
      "640/640 [==============================] - 0s 273us/sample - loss: 0.1442 - accuracy: 0.9641 - val_loss: 0.6864 - val_accuracy: 0.7500\n",
      "Epoch 9/10\n",
      "640/640 [==============================] - 0s 279us/sample - loss: 0.1289 - accuracy: 0.9688 - val_loss: 0.8319 - val_accuracy: 0.6875\n",
      "Epoch 10/10\n",
      "640/640 [==============================] - 0s 329us/sample - loss: 0.1033 - accuracy: 0.9750 - val_loss: 1.0672 - val_accuracy: 0.7563\n"
     ]
    }
   ],
   "source": [
    "model_name = 'GRU'\n",
    "tb = TensorBoard(log_dir = 'logs_{}'.format(model_name))\n",
    "model = Sequential()\n",
    "model.add(Embedding(10000, 12 , input_length=max_len))\n",
    "model.add(GRU(30))\n",
    "model.add(Flatten())\n",
    "model.add(Dense(1))\n",
    "model.summary()\n",
    "model.compile(optimizer = 'rmsprop' , loss = 'binary_crossentropy', metrics = ['accuracy'])\n",
    "history = model.fit(train_data, train_labels , validation_split = 0.2, epochs = 10, batch_size = 32, callbacks = [tb])"
   ]
  },
  {
   "cell_type": "markdown",
   "metadata": {},
   "source": [
    "### Evalution and curves "
   ]
  },
  {
   "cell_type": "code",
   "execution_count": 168,
   "metadata": {},
   "outputs": [
    {
     "name": "stdout",
     "output_type": "stream",
     "text": [
      " evaluation on test data for model GRU \n",
      "200/200 [==============================] - 0s 2ms/sample - loss: 1.5236 - accuracy: 0.7850\n"
     ]
    },
    {
     "data": {
      "text/plain": [
       "[1.5235686779022217, 0.785]"
      ]
     },
     "execution_count": 168,
     "metadata": {},
     "output_type": "execute_result"
    }
   ],
   "source": [
    "print(\" evaluation on test data for model {} \".format(model_name))\n",
    "model.evaluate(test_data, test_labels, verbose=1)"
   ]
  },
  {
   "cell_type": "code",
   "execution_count": 169,
   "metadata": {},
   "outputs": [
    {
     "data": {
      "text/plain": [
       "Text(0.5, 1.0, ' GRU val acc')"
      ]
     },
     "execution_count": 169,
     "metadata": {},
     "output_type": "execute_result"
    },
    {
     "data": {
      "image/png": "[encoded data removed]",
      "text/plain": [
       "<Figure size 432x288 with 1 Axes>"
      ]
     },
     "metadata": {
      "needs_background": "light"
     },
     "output_type": "display_data"
    }
   ],
   "source": [
    "plt.plot(history.history['val_accuracy'])\n",
    "plt.ylabel('Val Accuracy')\n",
    "plt.xlabel('epochs')\n",
    "plt.title(' {} val acc'.format(model_name))"
   ]
  },
  {
   "cell_type": "code",
   "execution_count": 170,
   "metadata": {},
   "outputs": [
    {
     "data": {
      "text/plain": [
       "Text(0.5, 1.0, ' GRU  acc')"
      ]
     },
     "execution_count": 170,
     "metadata": {},
     "output_type": "execute_result"
    },
    {
     "data": {
      "image/png": "[encoded data removed]",
      "text/plain": [
       "<Figure size 432x288 with 1 Axes>"
      ]
     },
     "metadata": {
      "needs_background": "light"
     },
     "output_type": "display_data"
    }
   ],
   "source": [
    "plt.plot(history.history['accuracy'])\n",
    "plt.ylabel('Accuracy')\n",
    "plt.xlabel('epochs')\n",
    "plt.title(' {}  acc'.format(model_name))"
   ]
  },
  {
   "cell_type": "code",
   "execution_count": 171,
   "metadata": {},
   "outputs": [
    {
     "data": {
      "text/plain": [
       "Reusing TensorBoard on port 6010 (pid 13421), started 0:22:04 ago. (Use '!kill 13421' to kill it.)"
      ]
     },
     "metadata": {},
     "output_type": "display_data"
    },
    {
     "data": {
      "text/html": [
       "\n",
       "      <iframe id=\"tensorboard-frame-c2ccf739e79f41c8\" width=\"100%\" height=\"800\" frameborder=\"0\">\n",
       "      </iframe>\n",
       "      <script>\n",
       "        (function() {\n",
       "          const frame = document.getElementById(\"tensorboard-frame-c2ccf739e79f41c8\");\n",
       "          const url = new URL(\"/\", window.location);\n",
       "          url.port = 6010;\n",
       "          frame.src = url;\n",
       "        })();\n",
       "      </script>\n",
       "  "
      ],
      "text/plain": [
       "<IPython.core.display.HTML object>"
      ]
     },
     "metadata": {},
     "output_type": "display_data"
    }
   ],
   "source": [
    "%tensorboard --logdir logs_GRU"
   ]
  },
  {
   "cell_type": "code",
   "execution_count": null,
   "metadata": {},
   "outputs": [],
   "source": []
  }
 ],
 "metadata": {
  "kernelspec": {
   "display_name": "Python 3",
   "language": "python",
   "name": "python3"
  },
  "language_info": {
   "codemirror_mode": {
    "name": "ipython",
    "version": 3
   },
   "file_extension": ".py",
   "mimetype": "text/x-python",
   "name": "python",
   "nbconvert_exporter": "python",
   "pygments_lexer": "ipython3",
   "version": "3.7.6"
  }
 },
 "nbformat": 4,
 "nbformat_minor": 4
}

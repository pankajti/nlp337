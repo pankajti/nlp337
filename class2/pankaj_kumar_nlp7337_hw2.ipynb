{
 "cells": [
  {
   "cell_type": "markdown",
   "metadata": {},
   "source": [
    "## Homework 2 NLP 7337\n",
    "\n",
    "Pankaj Kumar "
   ]
  },
  {
   "cell_type": "markdown",
   "metadata": {},
   "source": [
    "###  Questions \n",
    "\n",
    "1.\tUsing 10 (4-grams) of vectors (Paris, France:London, England) Do the vector addition and subtraction and compare the vector to the last remaining vectors (aka Paris – France + England compared to London)  Do this in GenSim \n",
    "2.\tRepeat the exercise in SpaCy\n",
    "3.\tCompare the same vectors from Spacy and Gensim.  Can you mix the vectors from each group?\n",
    "4.\tUsing the scipy distance formula:\n",
    "https://docs.scipy.org/doc/scipy/reference/generated/scipy.spatial.distance.cosine.html#scipy.spatial.distance.cosine\n",
    "Compare your results in SpaCy to this formula.  What is the difference. What was changed\n",
    "5.\tManually verify the distance calculations (aka write your own formula) for Spacy Similarity and Scipy similarity. Did you match up the exact results?\n",
    " "
   ]
  },
  {
   "cell_type": "code",
   "execution_count": 2,
   "metadata": {},
   "outputs": [],
   "source": [
    "from scipy.spatial import distance as scipy_distance\n",
    "import numpy as np"
   ]
  },
  {
   "cell_type": "code",
   "execution_count": 1,
   "metadata": {},
   "outputs": [],
   "source": [
    "four_grams = ['Paris, France, London, England' ,'Man, Woman,King, Queen' ,'Germany, Berlin, Japan, Tokyo' \n",
    "             ,'Man, Woman, Bull, Cow' ,'Hindu, Temple,Muslim, Mosque' ,'Christian, Church, Jew, Synagogue' \n",
    "             ,'Japan, Yen, England, Pound' ,'China, Yuan, Europe, Euro' ,'England, Europe,India, Asia' \n",
    "             ,'Mahal, India, Pyramid, Egypt' ]"
   ]
  },
  {
   "cell_type": "markdown",
   "metadata": {},
   "source": [
    "We calculate difference vector and the calculate difference using cosine distance from scipy between calculated vecore and the remaning vector. We find results different in gensim and Spacy but there relative values are comparable for example in both cases the 4 the 4gram has higher value compared to first 3 in both spacy as well as in gensim."
   ]
  },
  {
   "cell_type": "markdown",
   "metadata": {},
   "source": [
    "### Q1 . Gensim "
   ]
  },
  {
   "cell_type": "code",
   "execution_count": 3,
   "metadata": {},
   "outputs": [],
   "source": [
    "from gensim.models import word2vec\n",
    "sentences = word2vec.Text8Corpus('../data/text8')\n",
    "model = word2vec.Word2Vec(sentences, size = 300, hs =1 )"
   ]
  },
  {
   "cell_type": "code",
   "execution_count": 7,
   "metadata": {},
   "outputs": [
    {
     "name": "stdout",
     "output_type": "stream",
     "text": [
      "[('england', 0.6563916206359863), ('paris', 0.643281102180481), ('scotland', 0.4392808973789215), ('london', 0.42839181423187256), ('glasgow', 0.4103896915912628), ('birmingham', 0.4038933515548706), ('lambeth', 0.4020835757255554), ('edinburgh', 0.39870336651802063), ('churchyard', 0.3804587125778198), ('wembley', 0.36733490228652954)]\n",
      "0.5716082155704498\n",
      "[('queen', 0.7541334629058838), ('king', 0.4560483694076538), ('man', 0.35491612553596497), ('moshoeshoe', 0.3399375379085541), ('england', 0.334536612033844), ('aragon', 0.3305443525314331), ('scotland', 0.32598569989204407), ('kamehameha', 0.31899788975715637), ('wight', 0.31844714283943176), ('macduff', 0.31710004806518555)]\n",
      "0.5439516007900238\n",
      "[('tokyo', 0.6761012077331543), ('japan', 0.5378431081771851), ('germany', 0.48202866315841675), ('osaka', 0.47812390327453613), ('nagoya', 0.4575420916080475), ('fukuoka', 0.41430261731147766), ('chiba', 0.4030340909957886), ('sapporo', 0.3995743989944458), ('aichi', 0.3979248106479645), ('hyogo', 0.3926704525947571)]\n",
      "0.46215689182281494\n",
      "[('cow', 0.7136951088905334), ('man', 0.4405776262283325), ('wight', 0.3452587127685547), ('monster', 0.3451530337333679), ('creature', 0.3220987617969513), ('sheep', 0.32056665420532227), ('boar', 0.31958451867103577), ('giant', 0.3106346130371094), ('skull', 0.30982381105422974), ('mad', 0.3085239827632904)]\n",
      "0.7671179473400116\n",
      "[('hindu', 0.6749911308288574), ('mosque', 0.5144713521003723), ('islamic', 0.4424302577972412), ('muslim', 0.4416883587837219), ('shia', 0.4394274353981018), ('jain', 0.3842960000038147), ('islam', 0.3815334439277649), ('nepal', 0.38085827231407166), ('hinduism', 0.3790663480758667), ('masjid', 0.378429651260376)]\n",
      "0.5583116114139557\n",
      "[('christian', 0.6115326881408691), ('synagogue', 0.43135741353034973), ('jewish', 0.4087660312652588), ('muslim', 0.3741399645805359), ('heschel', 0.3695383071899414), ('hasidic', 0.36907118558883667), ('talmudic', 0.36779946088790894), ('sephardic', 0.3648117780685425), ('abrahamic', 0.3638837933540344), ('islamic', 0.35987401008605957)]\n",
      "0.7228423357009888\n",
      "[('pound', 0.7246835231781006), ('japan', 0.6144829988479614), ('taiwan', 0.4087706208229065), ('china', 0.3592303991317749), ('singapore', 0.3514903783798218), ('dollar', 0.3434818387031555), ('euro', 0.3426552414894104), ('cyprus', 0.334480345249176), ('currency', 0.3316683769226074), ('indonesia', 0.3312324285507202)]\n",
      "0.8073109686374664\n",
      "[('euro', 0.7270702123641968), ('china', 0.6086055040359497), ('taiwan', 0.43227899074554443), ('currencies', 0.41873425245285034), ('currency', 0.4010004997253418), ('japan', 0.4006112217903137), ('eu', 0.39932963252067566), ('eurozone', 0.3784136176109314), ('fiji', 0.3563103675842285), ('prc', 0.35604649782180786)]\n",
      "0.7154931128025055\n",
      "[('asia', 0.5993133783340454), ('england', 0.574362576007843), ('scotland', 0.40331292152404785), ('wales', 0.38868147134780884), ('galloway', 0.38584762811660767), ('anglia', 0.3811737596988678), ('midlands', 0.36789923906326294), ('sussex', 0.3595356345176697), ('northumbria', 0.3557800054550171), ('dunfermline', 0.3540106415748596)]\n",
      "0.7350865006446838\n",
      "[('egypt', 0.565333366394043), ('egyptian', 0.3645383417606354), ('sidon', 0.36444076895713806), ('miletus', 0.3540758490562439), ('judea', 0.3522844910621643), ('greeks', 0.34698188304901123), ('mesopotamia', 0.33906441926956177), ('assyria', 0.33677026629447937), ('thebes', 0.33142751455307007), ('israelites', 0.32906055450439453)]\n",
      "0.8056605160236359\n"
     ]
    }
   ],
   "source": [
    "for four_gram in four_grams:\n",
    "    words = [x.strip().lower() for x in four_gram.split(',')]\n",
    "    calculated_vector = model.wv[words[0]]- model.wv[words[1] ]+model.wv[words[3] ]\n",
    "    print(model.wv.most_similar([calculated_vector]))\n",
    "    print(scipy_distance.cosine(calculated_vector, model.wv[words[2]]))"
   ]
  },
  {
   "cell_type": "markdown",
   "metadata": {},
   "source": [
    "###  Q2 Spacy"
   ]
  },
  {
   "cell_type": "code",
   "execution_count": 83,
   "metadata": {},
   "outputs": [],
   "source": [
    "import spacy\n",
    "# Load English tokenizer, tagger, parser, NER and word vectors\n",
    "from scipy.spatial import distance as scipy_distance\n",
    "nlp = spacy.load(\"en_core_web_lg\")"
   ]
  },
  {
   "cell_type": "code",
   "execution_count": 84,
   "metadata": {},
   "outputs": [
    {
     "name": "stdout",
     "output_type": "stream",
     "text": [
      "0.23381644487380981\n",
      "0.22838586568832397\n",
      "0.21152210235595703\n",
      "0.4655900001525879\n",
      "0.2827240228652954\n",
      "0.474423348903656\n",
      "0.5469380617141724\n",
      "0.3616103529930115\n",
      "0.4060887098312378\n",
      "0.6846027076244354\n"
     ]
    }
   ],
   "source": [
    "for four_gram in four_grams:\n",
    "    doc = nlp(four_gram)\n",
    "    calculated_vector = doc[0].vector- doc[2].vector+doc[6].vector\n",
    "    print(scipy_distance.cosine(calculated_vector, doc[4].vector))"
   ]
  },
  {
   "cell_type": "markdown",
   "metadata": {},
   "source": [
    "### Q3 Compare Vectors from gensim and Spacy\n",
    "\n",
    "#### Solution : \n",
    "\n",
    "Taking an example of one word man to compare vecor representation their difference and we can see that the magnitude of difference is large "
   ]
  },
  {
   "cell_type": "code",
   "execution_count": 85,
   "metadata": {},
   "outputs": [
    {
     "name": "stdout",
     "output_type": "stream",
     "text": [
      "[ 4.78179753e-01 -1.06125936e-01  5.00432551e-02 -3.25327307e-01\n",
      " -1.92240685e-01 -2.92523503e-01 -2.71979064e-01  7.86603510e-01\n",
      " -1.32331800e+00  7.72955894e-01 -7.06473112e-01  3.15069526e-01\n",
      "  3.36852930e-02 -8.37075114e-01  7.46577322e-01 -1.11389086e-01\n",
      "  8.88099790e-01  5.78654647e-01 -4.04656172e-01 -1.19830370e-02\n",
      " -3.31315905e-01 -1.69650525e-01  2.09008503e+00  8.08995366e-02\n",
      " -1.71709791e-01 -7.09180057e-01 -5.77106535e-01  5.10316640e-02\n",
      "  9.94543612e-01  7.30731308e-01  1.44878685e-01  8.66921246e-02\n",
      "  7.21618772e-01  2.66579241e-02  1.01146996e+00  1.34437042e-03\n",
      " -1.43527582e-01  8.93276930e-01 -7.02503264e-01 -3.44226509e-02\n",
      " -8.17137897e-01  2.03567743e-01 -4.21827853e-01  3.49783823e-02\n",
      " -2.20329833e+00  1.86466563e+00  7.11831689e-01  2.12774023e-01\n",
      " -2.80516207e-01  1.24598408e+00  1.00029849e-01 -7.81895459e-01\n",
      " -1.73566669e-01 -1.99949786e-01 -2.09797248e-01 -9.20769930e-01\n",
      " -1.09097934e+00 -7.05423485e-03  1.86634749e-01 -2.57530689e-01\n",
      "  2.20787853e-01 -8.18701804e-01  7.72184074e-01  7.37603486e-01\n",
      " -1.08800399e+00  4.50265914e-01 -1.79155982e+00 -3.84547502e-01\n",
      " -1.12631798e+00  3.85577828e-01  2.63091654e-01 -3.14051539e-01\n",
      "  1.14351070e+00  2.56161034e-01  6.08064651e-01 -3.87549162e-01\n",
      " -4.08768743e-01  4.39634500e-03  5.25653303e-01  8.38477254e-01\n",
      "  1.38735875e-01  6.54110372e-01 -5.13371766e-01 -5.13044953e-01\n",
      "  3.73551226e-03 -1.68521017e-01 -2.07282588e-01  2.53351897e-01\n",
      " -1.49064362e-01  2.22344007e-02  1.60064673e+00  1.00545108e+00\n",
      " -6.89108297e-02  1.09934497e+00  1.85649186e-01  6.20234072e-01\n",
      " -6.03284389e-02  4.34762061e-01 -6.02731764e-01  2.45856255e-01\n",
      " -5.31901717e-01 -3.71672630e-01  1.12224889e+00  6.05710030e-01\n",
      "  4.12543714e-01  6.49604261e-01  3.07107240e-01 -1.05344892e+00\n",
      " -1.24630070e+00 -1.51739144e+00 -1.56272638e+00 -3.93124133e-01\n",
      " -1.26539195e+00  6.76363707e-01 -1.04388142e+00  9.56219912e-01\n",
      " -9.66185033e-02  7.61614323e-01  8.44845921e-02  1.20205235e+00\n",
      "  1.01147783e+00 -5.91812491e-01 -2.62602586e-02  1.00686669e+00\n",
      "  7.89038360e-01  9.18659985e-01  6.04207873e-01 -1.13041353e+00\n",
      "  7.36247241e-01  1.20514750e+00  1.04645705e+00 -4.67048399e-02\n",
      " -6.46086276e-01 -1.51807964e-01  4.48466539e-01  7.49593019e-01\n",
      "  1.16195232e-01 -3.36725235e-01  4.88554329e-01  9.46965694e-01\n",
      " -1.07738376e+00 -5.37481070e-01 -1.41729772e+00 -5.50789773e-01\n",
      "  7.55080104e-01  5.39589107e-01 -8.05349723e-02  2.36713260e-01\n",
      "  2.59933621e-01 -1.80129933e+00  2.40499765e-01  2.26346537e-01\n",
      " -8.20423603e-01  1.18655157e+00  1.04465413e+00 -1.48254409e-01\n",
      "  1.21777169e-02 -3.09635192e-01  1.53936529e+00  1.18344016e-01\n",
      "  2.22590089e-01  3.86809796e-01 -6.34786844e-01 -8.05762947e-01\n",
      "  6.06166601e-01  2.05922127e+00 -3.39371860e-02  7.17419684e-01\n",
      "  4.24273193e-01 -1.64788827e-01  1.92589819e-01  4.48383510e-01\n",
      "  8.32998335e-01 -2.21463218e-02 -2.03159034e-01  2.97097206e-01\n",
      " -1.64231747e-01  3.61816257e-01 -1.07310641e+00 -4.69659902e-02\n",
      "  1.06648540e+00  6.41152635e-02  7.02369452e-01 -4.82410729e-01\n",
      "  1.76851034e-01  6.75054729e-01 -3.29760797e-02  3.92922044e-01\n",
      "  1.67932332e-01 -1.51070833e-01 -2.51094904e-02  7.29941308e-01\n",
      "  9.12951529e-01 -7.07817554e-01 -3.57039541e-01  7.15599835e-01\n",
      "  1.56992054e+00 -8.18381667e-01 -4.79450107e-01  5.08202255e-01\n",
      " -5.95484734e-01  1.19412994e+00  1.88489810e-01 -4.65356976e-01\n",
      "  1.11113989e+00 -1.04869209e-01 -8.52960169e-01 -6.42093658e-01\n",
      "  3.68041009e-01  1.05891734e-01  6.68503940e-01 -1.36706263e-01\n",
      "  4.17576343e-01  1.63198411e-01  4.03529018e-01  1.39738083e-01\n",
      "  9.76164341e-01 -1.54184175e+00 -9.88778532e-01  1.33177686e+00\n",
      " -2.04631686e-01  1.64974317e-01 -4.38651741e-01 -1.20429471e-01\n",
      " -1.60251963e+00 -2.08559278e-02 -1.06601822e+00  4.88321394e-01\n",
      "  4.01888639e-01  5.40505171e-01 -4.82044339e-01  1.51356280e+00\n",
      "  4.45773780e-01 -1.40098011e+00  5.71386218e-01  5.23270071e-01\n",
      " -9.01553929e-01 -4.17325646e-01 -1.14999270e+00  2.72577908e-02\n",
      " -1.06380844e+00 -1.39640236e+00 -2.46134087e-01 -9.29426074e-01\n",
      " -1.55597425e+00  2.09407106e-01 -8.68597507e-01 -6.58727050e-01\n",
      "  1.79149777e-01 -1.32560301e+00 -5.02635777e-01  1.61012220e+00\n",
      " -2.84698486e-01  6.56986594e-01 -4.15313005e-01 -7.73788393e-02\n",
      " -5.47265589e-01 -4.32824075e-01  7.14245141e-02  6.36614323e-01\n",
      "  1.08323228e+00  4.43742752e-01  7.72976696e-01  7.75137171e-02\n",
      " -2.31276572e-01 -8.31919909e-01 -1.80796698e-01 -8.69597614e-01\n",
      "  3.78677279e-01 -4.40804690e-01  1.17094743e+00 -7.93083906e-01\n",
      " -3.84779066e-01  6.78155497e-02 -3.12451601e-01 -4.12392378e-01\n",
      "  1.35856688e+00  2.94256002e-01  5.17808020e-01  1.61794293e+00\n",
      "  1.86458156e-01  4.08499777e-01 -1.13530457e+00 -2.10671574e-01\n",
      "  7.39150345e-01 -1.04140714e-01 -7.35043228e-01 -2.82696187e-01\n",
      "  5.60301185e-01  5.27013898e-01  2.32028961e-01 -1.08392990e+00\n",
      " -1.01253533e+00 -2.26233885e-01 -1.33900762e-01 -7.83043265e-01\n",
      "  7.51188219e-01 -7.75357783e-01  9.83478844e-01 -4.99982089e-01]\n",
      "[-1.7310e-01  2.0663e-01  1.6543e-02 -3.1026e-01  1.9719e-02  2.7791e-01\n",
      "  1.2283e-01 -2.6328e-01  1.2522e-01  3.1894e+00 -1.6291e-01 -8.8759e-02\n",
      "  3.3067e-03 -2.9483e-03 -3.4398e-01  1.2779e-01 -9.4536e-02  4.3467e-01\n",
      "  4.9742e-01  2.5068e-01 -2.0901e-01 -5.8931e-01  6.1615e-02  1.0434e-01\n",
      "  2.4424e-01 -2.9120e-01  3.0746e-01  3.6276e-01  7.1151e-01 -8.0523e-02\n",
      " -5.9524e-01  3.4834e-01 -3.3048e-01  7.0316e-02  5.3329e-01 -2.9081e-01\n",
      "  1.3459e-01 -3.9856e-01 -3.2435e-01  1.1867e-01 -1.4938e-01 -3.8256e-01\n",
      "  3.3116e-01 -3.1488e-01 -9.4491e-02 -6.1319e-02  1.5518e-01 -2.5523e-01\n",
      " -1.1813e-01  2.5296e-01 -9.5174e-02 -1.6596e-01 -1.0840e-01  8.8803e-02\n",
      "  2.0890e-01  4.3981e-01  1.0476e-03 -4.0666e-02  2.6487e-01 -6.1009e-01\n",
      " -1.4405e-01 -8.1185e-02  7.5475e-03  2.3373e-01 -2.7772e-02 -2.9315e-01\n",
      " -1.1744e-01 -8.3193e-02 -2.3768e-01  1.5735e-01 -5.6408e-01 -2.9323e-01\n",
      "  1.6387e-02 -7.8160e-02 -2.1301e-01 -1.7845e-01 -3.0769e-01 -4.6203e-01\n",
      " -2.5220e-03  4.2973e-01 -4.5647e-02  4.3434e-01  2.9144e-01 -2.0231e-01\n",
      "  6.5217e-02 -4.2321e-01  7.1227e-01 -5.5498e-01 -3.6118e-01 -1.4849e-01\n",
      " -1.0082e-01 -1.0045e-01 -1.7666e-01  2.7141e-02 -1.4148e-01 -5.2112e-01\n",
      " -4.8785e-02 -2.9672e-01 -1.4418e-01 -2.8042e-01 -6.8216e-02  6.4455e-01\n",
      "  9.4982e-02  8.4994e-02  8.2954e-02 -2.5255e-01 -4.6606e-01  2.7432e-01\n",
      "  1.4998e-01  5.6889e-02  3.4382e-01 -3.5301e-01 -4.0666e-01  1.3636e-02\n",
      "  6.3070e-02  3.4924e-01  1.7517e-01 -1.7623e-01 -8.0157e-02  1.2179e-01\n",
      " -1.4025e-01 -2.6541e-01  1.7016e-01  1.2596e-01 -2.1399e-01 -2.1077e-01\n",
      " -4.6861e-01 -2.2138e-01  1.6753e-03 -1.4527e-01  1.1256e-01 -2.4644e-02\n",
      " -2.5005e-01 -4.3965e-01  4.6923e-01  2.0156e-01  3.2739e-01  6.8498e-02\n",
      " -2.0121e-01 -7.8691e-02 -2.6755e+00  1.4326e-01  6.9114e-02  3.6917e-01\n",
      " -1.1858e-01 -2.1332e-01  2.4918e-01 -1.2622e-01  5.5950e-02 -2.8807e-01\n",
      " -5.9173e-01 -9.0193e-02 -1.8155e-01 -3.3470e-01 -7.4857e-02  1.1898e-01\n",
      " -4.1698e-01 -1.9773e-01  1.9724e-01  1.1124e-01  2.6915e-01 -4.3901e-01\n",
      " -5.8556e-02  4.2020e-01  2.7380e-01 -9.7767e-02  7.5527e-02 -2.1164e-01\n",
      " -1.9093e-01  3.5376e-01 -6.9182e-01 -2.5014e-02  5.8887e-02 -1.7279e-01\n",
      " -4.4822e-01 -1.5286e-01 -2.1873e-01  2.2586e-01 -1.3494e-01  7.7586e-03\n",
      " -2.8582e-01  6.0300e-02 -6.1573e-03 -3.0737e-01 -8.2510e-01  5.8975e-01\n",
      " -4.1435e-01  9.8575e-02 -8.0579e-02 -6.0510e-01 -3.1138e-01  2.3793e-01\n",
      " -3.3706e-01  9.7126e-02  4.1277e-01  2.7025e-01 -7.1067e-02 -5.1049e-01\n",
      " -8.0376e-02 -1.6188e-01  1.3121e-02  2.1678e-01 -2.7958e-01 -1.9755e-01\n",
      " -3.4668e-01  1.0901e-01 -1.5878e-01  1.1535e-02 -2.5060e-02 -2.4669e-01\n",
      "  2.7795e-02 -4.6083e-01 -1.6082e-01 -1.6443e-01  3.4003e-01 -6.1288e-01\n",
      "  1.3028e-03 -1.2118e-01  3.8965e-01 -4.3394e-01  6.6747e-02  2.4109e-01\n",
      " -3.1253e-01  2.7997e-01  1.4047e-01 -1.6265e-02 -6.0792e-02  6.5612e-01\n",
      " -7.1277e-02  8.2271e-02  8.5240e-02  1.5606e-01 -2.1927e-01 -1.2083e-01\n",
      " -2.0386e-01 -3.9694e-03 -4.3643e-02  4.2532e-01 -3.3641e-01  3.0292e-01\n",
      "  2.9297e-01  1.2963e-01  1.5872e-01 -3.1301e-01  2.6109e-01  2.4433e-01\n",
      " -1.9605e-02 -4.4197e-01  4.5351e-01  2.2184e-01  3.6002e-02  3.0979e-01\n",
      "  2.8024e-02  2.9232e-01  8.8706e-02  1.3376e-01  5.6731e-01 -1.7374e-01\n",
      "  3.7015e-01 -2.9521e-01  3.4110e-02  4.1392e-01  1.5641e-02 -3.1128e-01\n",
      " -3.4823e-01  3.3560e-01  1.7200e-01  4.1568e-01 -2.6028e-01  3.3601e-01\n",
      " -4.1509e-03 -1.6774e-02 -2.6867e-01  5.0892e-02 -1.2670e-01  4.6916e-01\n",
      " -1.1842e-01  2.9402e-01  3.5544e-01  7.3157e-02 -1.9305e-01  2.3060e-01\n",
      " -2.6933e-01  6.2013e-02 -5.4700e-02 -3.8535e-01 -1.3039e-01 -8.4836e-02\n",
      "  9.8583e-02 -1.5403e-01 -3.6347e-01 -1.9985e-01 -2.2663e-01 -5.3781e-01\n",
      " -2.4666e-01  1.9266e-02  2.1319e-01  1.6665e-01 -3.8341e-01 -7.3803e-02]\n",
      "[ 6.5127975e-01 -3.1275594e-01  3.3500254e-02 -1.5067309e-02\n",
      " -2.1195969e-01 -5.7043350e-01 -3.9480907e-01  1.0498835e+00\n",
      " -1.4485381e+00 -2.4164441e+00 -5.4356313e-01  4.0382853e-01\n",
      "  3.0378593e-02 -8.3412683e-01  1.0905573e+00 -2.3917909e-01\n",
      "  9.8263580e-01  1.4398465e-01 -9.0207618e-01 -2.6266304e-01\n",
      " -1.2230590e-01  4.1965947e-01  2.0284700e+00 -2.3440465e-02\n",
      " -4.1594979e-01 -4.1798005e-01 -8.8456655e-01 -3.1172836e-01\n",
      "  2.8303361e-01  8.1125432e-01  7.4011868e-01 -2.6164788e-01\n",
      "  1.0520988e+00 -4.3658078e-02  4.7817993e-01  2.9215437e-01\n",
      " -2.7811760e-01  1.2918370e+00 -3.7815326e-01 -1.5309265e-01\n",
      " -6.6775787e-01  5.8612776e-01 -7.5298786e-01  3.4985840e-01\n",
      " -2.1088073e+00  1.9259846e+00  5.5665171e-01  4.6800405e-01\n",
      " -1.6238621e-01  9.9302411e-01  1.9520384e-01 -6.1593544e-01\n",
      " -6.5166667e-02 -2.8875279e-01 -4.1869724e-01 -1.3605800e+00\n",
      " -1.0920269e+00  3.3611763e-02 -7.8235239e-02  3.5255933e-01\n",
      "  3.6483786e-01 -7.3751682e-01  7.6463658e-01  5.0387347e-01\n",
      " -1.0602320e+00  7.4341595e-01 -1.6741198e+00 -3.0135450e-01\n",
      " -8.8863796e-01  2.2822782e-01  8.2717168e-01 -2.0821542e-02\n",
      "  1.1271237e+00  3.3432102e-01  8.2107466e-01 -2.0909916e-01\n",
      " -1.0107875e-01  4.6642634e-01  5.2817529e-01  4.0874726e-01\n",
      "  1.8438287e-01  2.1977037e-01 -8.0481178e-01 -3.1073496e-01\n",
      " -6.1481491e-02  2.5468898e-01 -9.1955262e-01  8.0833185e-01\n",
      "  2.1211565e-01  1.7072439e-01  1.7014667e+00  1.1059011e+00\n",
      "  1.0774917e-01  1.0722040e+00  3.2712919e-01  1.1413541e+00\n",
      " -1.1543438e-02  7.3148203e-01 -4.5855176e-01  5.2627623e-01\n",
      " -4.6368572e-01 -1.0162227e+00  1.0272669e+00  5.2071601e-01\n",
      "  3.2958972e-01  9.0215427e-01  7.7316725e-01 -1.3277689e+00\n",
      " -1.3962806e+00 -1.5742805e+00 -1.9065464e+00 -4.0114135e-02\n",
      " -8.5873199e-01  6.6272771e-01 -1.1069515e+00  6.0697991e-01\n",
      " -2.7178851e-01  9.3784434e-01  1.6464159e-01  1.0802623e+00\n",
      "  1.1517278e+00 -3.2640249e-01 -1.9642025e-01  8.8090670e-01\n",
      "  1.0030284e+00  1.1294299e+00  1.0728178e+00 -9.0903354e-01\n",
      "  7.3457193e-01  1.3504175e+00  9.3389708e-01 -2.2060839e-02\n",
      " -3.9603627e-01  2.8784204e-01 -2.0763457e-02  5.4803300e-01\n",
      " -2.1119475e-01 -4.0522325e-01  6.8976432e-01  1.0256567e+00\n",
      "  1.5981162e+00 -6.8074107e-01 -1.4864117e+00 -9.1995978e-01\n",
      "  8.7366009e-01  7.5290912e-01 -3.2971498e-01  3.6293328e-01\n",
      "  2.0398362e-01 -1.5132294e+00  8.3222973e-01  3.1653953e-01\n",
      " -6.3887358e-01  1.5212516e+00  1.1195111e+00 -2.6723441e-01\n",
      "  4.2915770e-01 -1.1190519e-01  1.3421253e+00  7.1040168e-03\n",
      " -4.6559900e-02  8.2581979e-01 -5.7623082e-01 -1.2259629e+00\n",
      "  3.3236662e-01  2.1569884e+00 -1.0946418e-01  9.2905968e-01\n",
      "  6.1520320e-01 -5.1854885e-01  8.8440984e-01  4.7339752e-01\n",
      "  7.7411133e-01  1.5064368e-01  2.4506098e-01  4.4995719e-01\n",
      "  5.4498255e-02  1.3595626e-01 -9.3816638e-01 -5.4724589e-02\n",
      "  1.3523054e+00  3.8152635e-03  7.0852673e-01 -1.7504072e-01\n",
      "  1.0019510e+00  8.5304737e-02  3.8137391e-01  2.9434705e-01\n",
      "  2.4851133e-01  4.5402914e-01  2.8627050e-01  4.9201131e-01\n",
      "  1.2500116e+00 -8.0494356e-01 -7.6980954e-01  4.4534984e-01\n",
      "  1.6409875e+00 -3.0789167e-01 -3.9907411e-01  6.7008227e-01\n",
      " -6.0860574e-01  9.7734994e-01  4.6806979e-01 -2.6780698e-01\n",
      "  1.4578199e+00 -2.1387921e-01 -6.9418019e-01 -6.5362865e-01\n",
      "  3.9310101e-01  3.5258174e-01  6.4070892e-01  3.2412374e-01\n",
      "  5.7839632e-01  3.2762843e-01  6.3499004e-02  7.5261807e-01\n",
      "  9.7486156e-01 -1.4206617e+00 -1.3784285e+00  1.7657168e+00\n",
      " -2.7137870e-01 -7.6115683e-02 -1.2612173e-01 -4.0039945e-01\n",
      " -1.7429897e+00 -4.5909286e-03 -1.0052263e+00 -1.6779861e-01\n",
      "  4.7316563e-01  4.5823416e-01 -5.6728435e-01  1.3575028e+00\n",
      "  6.6504377e-01 -1.2801502e+00  7.7524620e-01  5.2723944e-01\n",
      " -8.5791093e-01 -8.4264565e-01 -8.1358272e-01 -2.7566221e-01\n",
      " -1.3567784e+00 -1.5260323e+00 -4.0485409e-01 -6.1641610e-01\n",
      " -1.8170643e+00 -3.4922898e-02 -8.4899253e-01 -2.1675706e-01\n",
      " -2.7436021e-01 -1.5474430e+00 -5.3863776e-01  1.3003322e+00\n",
      " -3.1272247e-01  3.6466658e-01 -5.0401902e-01 -2.1113884e-01\n",
      " -1.1145756e+00 -2.5908408e-01 -2.9872549e-01  9.3182433e-01\n",
      "  1.0491223e+00  2.9822767e-02  7.5733572e-01  3.8879374e-01\n",
      "  1.1695343e-01 -1.1675199e+00 -3.5279670e-01 -1.2852776e+00\n",
      "  6.3895726e-01 -7.7681470e-01  1.1750983e+00 -7.7630991e-01\n",
      " -1.1610907e-01  1.6923551e-02 -1.8575160e-01 -8.8155234e-01\n",
      "  1.4769869e+00  2.3600459e-04  1.6236803e-01  1.5447860e+00\n",
      "  3.7950814e-01  1.7789978e-01 -8.6597455e-01 -2.7268457e-01\n",
      "  7.9385036e-01  2.8120929e-01 -6.0465324e-01 -1.9786018e-01\n",
      "  4.6171820e-01  6.8104386e-01  5.9549892e-01 -8.8407993e-01\n",
      " -7.8590536e-01  3.1157613e-01  1.1275923e-01 -8.0230927e-01\n",
      "  5.3799820e-01 -9.4200778e-01  1.3668889e+00 -4.2617908e-01]\n"
     ]
    }
   ],
   "source": [
    "print(model.wv['man'])\n",
    "\n",
    "print(nlp('man').vector)\n",
    "diff = model.wv['man'] - nlp('man').vector\n",
    "print(diff)\n"
   ]
  },
  {
   "cell_type": "code",
   "execution_count": 86,
   "metadata": {},
   "outputs": [
    {
     "name": "stdout",
     "output_type": "stream",
     "text": [
      "13.9486065\n"
     ]
    }
   ],
   "source": [
    "print(np.linalg.norm(diff))"
   ]
  },
  {
   "cell_type": "markdown",
   "metadata": {},
   "source": [
    " it looks like the vecors are very different and they are not replaceable "
   ]
  },
  {
   "cell_type": "markdown",
   "metadata": {},
   "source": [
    "### Q4 \n",
    "Using the scipy distance formula: https://docs.scipy.org/doc/scipy/reference/generated/scipy.spatial.distance.cosine.html#scipy.spatial.distance.cosine Compare your results in SpaCy to this formula. What is the difference. What was changed\n",
    "\n",
    "#### Solution \n",
    "\n",
    "comparing vector difference between Man and woman using cosine similarity of spacy and cosine distance from scipy. We see that the differnce is one minus similarity as mentioned on the above link."
   ]
  },
  {
   "cell_type": "code",
   "execution_count": 87,
   "metadata": {},
   "outputs": [
    {
     "name": "stdout",
     "output_type": "stream",
     "text": [
      "spacy smilarity 0.7401743668099329\n",
      "scipy distance  0.25982552766799927\n",
      "1 minus scipy distance  0.7401744723320007\n"
     ]
    }
   ],
   "source": [
    "doc1 = nlp('Man')\n",
    "doc2= nlp('Woman')\n",
    "print(\"spacy smilarity\" , doc1.similarity(doc2)) \n",
    "\n",
    "\n",
    "\n",
    "print(\"scipy distance \" , scipy_distance.cosine(doc1.vector, doc2.vector))\n",
    "print(\"1 minus scipy distance \" , 1- scipy_distance.cosine(doc1.vector, doc2.vector))\n"
   ]
  },
  {
   "cell_type": "markdown",
   "metadata": {},
   "source": [
    "We can see that the distance is same as one minus similarity as we can see formula on above link the   Cosine distance between u and v, is defined as one minus cosine between the vectors\n",
    "\n"
   ]
  },
  {
   "cell_type": "markdown",
   "metadata": {},
   "source": [
    "### Manually verify the distance calculations (aka write your own formula) for Spacy Similarity and Scipy similarity. Did you match up the exact results?\n",
    "\n",
    "\n",
    "#### Solution :\n",
    "\n",
    "https://docs.scipy.org/doc/scipy/reference/generated/scipy.spatial.distance.cosine.html#scipy.spatial.distance.cosine"
   ]
  },
  {
   "cell_type": "code",
   "execution_count": 92,
   "metadata": {},
   "outputs": [
    {
     "name": "stdout",
     "output_type": "stream",
     "text": [
      "manual cosing between human and comp 0.3180440366268158\n",
      "spacy similarity  between human and comp 0.31804403615513954\n",
      "manual scipy distance 0.6819559633731842\n",
      "scipy distance  0.6819559335708618\n"
     ]
    }
   ],
   "source": [
    "import numpy as np\n",
    "\n",
    "### we can compute manually using formula for cos which is ( u.v/ |u||v|) that is cosine between vector u and v \n",
    "# where u.v is dot product between u and v \n",
    "# here we consider human as u and computer as v \n",
    "spacy_human = nlp('human')\n",
    "spacy_computer = nlp('computer')\n",
    "\n",
    "\n",
    "human_magnitude =np.linalg.norm(spacy_human.vector)\n",
    "computer_magnitude  =np.linalg.norm(spacy_computer.vector)\n",
    "\n",
    "computer_human_dot =spacy_computer.vector.dot(spacy_human.vector)\n",
    "\n",
    "cos_comp_human = computer_human_dot/(human_magnitude*computer_magnitude)\n",
    "spacy_comp_human_sim = spacy_human.similarity(spacy_computer)\n",
    "print(\"manual cosing between human and comp {}\".format(cos_comp_human))\n",
    "\n",
    "print(\"spacy similarity  between human and comp {}\".format(spacy_comp_human_sim))\n",
    "\n",
    "print(\"manual scipy distance {}\".format(1 - cos_comp_human))\n",
    "\n",
    "print(\"scipy distance \" , scipy_distance.cosine(spacy_human.vector, spacy_computer.vector))"
   ]
  },
  {
   "cell_type": "markdown",
   "metadata": {},
   "source": [
    "We can see that manual cosine and spacy similarity are similar. Similarly manual scipy cosine difference and scipy cosing diff are similar "
   ]
  }
 ],
 "metadata": {
  "kernelspec": {
   "display_name": "Python 3",
   "language": "python",
   "name": "python3"
  },
  "language_info": {
   "codemirror_mode": {
    "name": "ipython",
    "version": 3
   },
   "file_extension": ".py",
   "mimetype": "text/x-python",
   "name": "python",
   "nbconvert_exporter": "python",
   "pygments_lexer": "ipython3",
   "version": "3.7.6"
  }
 },
 "nbformat": 4,
 "nbformat_minor": 4
}

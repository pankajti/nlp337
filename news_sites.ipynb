{
  "nbformat": 4,
  "nbformat_minor": 0,
  "metadata": {
    "colab": {
      "name": "Untitled4.ipynb",
      "provenance": [],
      "authorship_tag": "ABX9TyP1teHPaCORAy3O4FQ9owxf",
      "include_colab_link": true
    },
    "kernelspec": {
      "name": "python3",
      "display_name": "Python 3"
    }
  },
  "cells": [
    {
      "cell_type": "markdown",
      "metadata": {
        "id": "view-in-github",
        "colab_type": "text"
      },
      "source": [
        "<a href=\"https://colab.research.google.com/github/pankajti/nlp337/blob/master/news_sites.ipynb\" target=\"_parent\"><img src=\"https://colab.research.google.com/assets/colab-badge.svg\" alt=\"Open In Colab\"/></a>"
      ]
    },
    {
      "cell_type": "code",
      "metadata": {
        "id": "C_dF6y3Yq8EM",
        "colab_type": "code",
        "colab": {}
      },
      "source": [
        "import requests\n",
        "from bs4 import BeautifulSoup\n",
        "import urllib\n"
      ],
      "execution_count": 4,
      "outputs": []
    },
    {
      "cell_type": "code",
      "metadata": {
        "id": "0S9QpecI4Zri",
        "colab_type": "code",
        "colab": {}
      },
      "source": [
        "class_lambda = lambda soup , x : soup.find(class_ = x)\n",
        "id_lambda = lambda soup , x : soup.find(id = x)"
      ],
      "execution_count": 13,
      "outputs": []
    },
    {
      "cell_type": "code",
      "metadata": {
        "id": "Ggg6y6lCtWjv",
        "colab_type": "code",
        "colab": {}
      },
      "source": [
        "site_config_maps = {\"www.business-standard.com\" : [class_lambda, \"p-content\"],\n",
        "\"jonesdayitcblog.com\" :     [class_lambda,  \"entry-content\"],\n",
        "\"economic-times\" :    [class_lambda,  \"artText\"],\n",
        "\"www.moneycontrol.com\" :    [id_lambda,  \"article-main\"],\n",
        "\"www.ndtv.com\":         [id_lambda, \"ins_storybody\"],\n",
        "\"financialexpress.com\"  :  [class_lambda,  \"main-story\"],\n",
        "\"www.newindianexpress.com\":   [class_lambda, \"articlestorycontent\"]\n",
        "}"
      ],
      "execution_count": 66,
      "outputs": []
    },
    {
      "cell_type": "code",
      "metadata": {
        "id": "T9OcMwsDtW3I",
        "colab_type": "code",
        "colab": {}
      },
      "source": [
        ""
      ],
      "execution_count": null,
      "outputs": []
    },
    {
      "cell_type": "code",
      "metadata": {
        "id": "mUX5jynkrBzy",
        "colab_type": "code",
        "colab": {}
      },
      "source": [
        "url = r'https://jonesdayitcblog.com/itc-considers-alternatives-for-live-testimony-due-to-covid-19/'"
      ],
      "execution_count": 5,
      "outputs": []
    },
    {
      "cell_type": "code",
      "metadata": {
        "id": "WBLJE5nXCo7d",
        "colab_type": "code",
        "colab": {}
      },
      "source": [
        "url = r'https://www.newindianexpress.com/business/2020/may/28/itc-ties-up-with-amway-to-expand-distribution-network-of-its-immunity-boosting-products-2149191.html'"
      ],
      "execution_count": 29,
      "outputs": []
    },
    {
      "cell_type": "code",
      "metadata": {
        "id": "5Yhbl-fADOuh",
        "colab_type": "code",
        "colab": {}
      },
      "source": [
        "url = r'https://www.business-standard.com/article/companies/a-slew-of-health-and-wellness-products-to-be-rolled-out-soon-itc-s-sumant-120061601772_1.html'"
      ],
      "execution_count": 39,
      "outputs": []
    },
    {
      "cell_type": "code",
      "metadata": {
        "id": "Ho6LVyUOHeD1",
        "colab_type": "code",
        "colab": {}
      },
      "source": [
        "url = r'https://www.ndtv.com/business/share-market-live-updates-sensex-nifty-gain-on-buying-fmcg-pharma-shares-ahead-of-f-o-expiry-2251905'"
      ],
      "execution_count": 40,
      "outputs": []
    },
    {
      "cell_type": "code",
      "metadata": {
        "id": "AY3_v75uH2nV",
        "colab_type": "code",
        "colab": {}
      },
      "source": [
        "url = r'https://www.moneycontrol.com/news/business/stocks/d-street-buzz-fmcg-stocks-gain-led-by-itc-dabur-colgate-godrej-consumer-rise-5455141.html'"
      ],
      "execution_count": 67,
      "outputs": []
    },
    {
      "cell_type": "code",
      "metadata": {
        "id": "-cUuoSQIBplG",
        "colab_type": "code",
        "colab": {}
      },
      "source": [
        "url_path =  urllib.parse.urlparse(url)\n"
      ],
      "execution_count": 68,
      "outputs": []
    },
    {
      "cell_type": "code",
      "metadata": {
        "id": "8vJoWMVaCFJZ",
        "colab_type": "code",
        "colab": {
          "base_uri": "https://localhost:8080/",
          "height": 35
        },
        "outputId": "c85c3f56-f5f2-414a-f7e2-35a4992856ef"
      },
      "source": [
        "url_path.hostname"
      ],
      "execution_count": 69,
      "outputs": [
        {
          "output_type": "execute_result",
          "data": {
            "text/plain": [
              "'www.moneycontrol.com'"
            ]
          },
          "metadata": {
            "tags": []
          },
          "execution_count": 69
        }
      ]
    },
    {
      "cell_type": "code",
      "metadata": {
        "id": "RvLDp4puCNK5",
        "colab_type": "code",
        "colab": {}
      },
      "source": [
        "site_details = site_config_maps[url_path.hostname]"
      ],
      "execution_count": 70,
      "outputs": []
    },
    {
      "cell_type": "code",
      "metadata": {
        "id": "X3ZrQqfnCakA",
        "colab_type": "code",
        "colab": {
          "base_uri": "https://localhost:8080/",
          "height": 35
        },
        "outputId": "e0c1fe43-ec2b-40ac-b4fd-b5009c1aca54"
      },
      "source": [
        "site_details"
      ],
      "execution_count": 71,
      "outputs": [
        {
          "output_type": "execute_result",
          "data": {
            "text/plain": [
              "[<function __main__.<lambda>>, 'article-main']"
            ]
          },
          "metadata": {
            "tags": []
          },
          "execution_count": 71
        }
      ]
    },
    {
      "cell_type": "code",
      "metadata": {
        "id": "pH3fniMvrMba",
        "colab_type": "code",
        "colab": {}
      },
      "source": [
        "response = requests.get(url)"
      ],
      "execution_count": 72,
      "outputs": []
    },
    {
      "cell_type": "code",
      "metadata": {
        "id": "LCfFafY1rY1k",
        "colab_type": "code",
        "colab": {}
      },
      "source": [
        "soup = BeautifulSoup(response.text)"
      ],
      "execution_count": 73,
      "outputs": []
    },
    {
      "cell_type": "code",
      "metadata": {
        "id": "jQW7mlyW5m2Q",
        "colab_type": "code",
        "colab": {}
      },
      "source": [
        "news_content = site_details[0](soup,site_details[1] )"
      ],
      "execution_count": 74,
      "outputs": []
    },
    {
      "cell_type": "code",
      "metadata": {
        "id": "IVw7gbblrhte",
        "colab_type": "code",
        "colab": {}
      },
      "source": [
        "news = \" \\n \".join([p.text for p in news_content.find_all(\"p\")])"
      ],
      "execution_count": 75,
      "outputs": []
    },
    {
      "cell_type": "code",
      "metadata": {
        "id": "V5uJSn-7sZHo",
        "colab_type": "code",
        "colab": {
          "base_uri": "https://localhost:8080/",
          "height": 35
        },
        "outputId": "4894941f-36ae-44dc-e1d5-7921b5df2af1"
      },
      "source": [
        "len(news)"
      ],
      "execution_count": 76,
      "outputs": [
        {
          "output_type": "execute_result",
          "data": {
            "text/plain": [
              "1628"
            ]
          },
          "metadata": {
            "tags": []
          },
          "execution_count": 76
        }
      ]
    },
    {
      "cell_type": "code",
      "metadata": {
        "id": "U50sATYQC77t",
        "colab_type": "code",
        "colab": {
          "base_uri": "https://localhost:8080/",
          "height": 55
        },
        "outputId": "f237538e-5ea6-451e-adf5-c3abecd94940"
      },
      "source": [
        "news"
      ],
      "execution_count": 78,
      "outputs": [
        {
          "output_type": "execute_result",
          "data": {
            "text/plain": [
              "'The Indian stock market has managed to crawl back in the green after opening in the red. Sensex is up 121.99 points or 0.35\\xa0percent at 34990.97, and the Nifty gained 39.40 points or 0.38\\xa0percent at 10344.70 at 11:15 hours. \\n Among the sectors, the FMCG index gained over a percent led by ITC which jumped 3 percent. It was also the top Sensex gainer. It was also one of the most active stocks on NSE in terms of value with 2,56,90,332 shares being traded at 11:20 hours. \\n The other gainers included Hindustan Unilever, Jubilant Foodworks, Varun Beverages, Marico, Godrej Consumer and Dabur India which added 1-2 percent each. \\n Hindustan Unilever, Managing Director Sanjiv Mehta said that it is too early to predict the mid-term impact of the novel coronavirus pandemic and the pace of growth. \\n Mehta told Motilal Oswal that products in the detergents and home care segments will do well. \"Skin cleansing products such as hand washes, soaps, and sanitisers are also witnessing huge demand.\". \\n The brokerage remains positive on HUL in the medium term with a Buy rating and target price of Rs 2,400 per share. \\n  \\n S&P BSE FMCG also added a percent with gains from Future Consumer which jumped 5 percent hitting upper circuit of Rs 17.90 per share. It also witnessed spurt in volume by more than 1.85 times. \\n The other gainers included Sanwaria Consumer, Parag Milk, Prabhat Dairy, Dwarikesh Sugar, Venky\\'s, Dalmia Bharat Sugar, ITC and Bombay Burmah Trading among others. \\n Technical Analyst Ashwani Gujral of ashwanigujral.com and Mitessh Thakkar of mitesshthakkar.com have a buy recommendation on ITC with target at Rs 200.'"
            ]
          },
          "metadata": {
            "tags": []
          },
          "execution_count": 78
        }
      ]
    },
    {
      "cell_type": "code",
      "metadata": {
        "id": "mLEbC2AaC9vx",
        "colab_type": "code",
        "colab": {}
      },
      "source": [
        ""
      ],
      "execution_count": null,
      "outputs": []
    }
  ]
}
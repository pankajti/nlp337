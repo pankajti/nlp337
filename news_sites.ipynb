{
  "nbformat": 4,
  "nbformat_minor": 0,
  "metadata": {
    "colab": {
      "name": "Untitled4.ipynb",
      "provenance": [],
      "authorship_tag": "ABX9TyMUehzmONAM4Ir+RU3Sge/p",
      "include_colab_link": true
    },
    "kernelspec": {
      "name": "python3",
      "display_name": "Python 3"
    }
  },
  "cells": [
    {
      "cell_type": "markdown",
      "metadata": {
        "id": "view-in-github",
        "colab_type": "text"
      },
      "source": [
        "<a href=\"https://colab.research.google.com/github/pankajti/nlp337/blob/master/news_sites.ipynb\" target=\"_parent\"><img src=\"https://colab.research.google.com/assets/colab-badge.svg\" alt=\"Open In Colab\"/></a>"
      ]
    },
    {
      "cell_type": "code",
      "metadata": {
        "id": "C_dF6y3Yq8EM",
        "colab_type": "code",
        "colab": {}
      },
      "source": [
        "import requests\n",
        "from bs4 import BeautifulSoup"
      ],
      "execution_count": 2,
      "outputs": []
    },
    {
      "cell_type": "code",
      "metadata": {
        "id": "Ggg6y6lCtWjv",
        "colab_type": "code",
        "colab": {}
      },
      "source": [
        "\"business_standard\" :  class_ = \"p-content\"\n",
        "\"jonesdayitcblog\" :    class_ = \"entry-content\"\n",
        "\"economic-times\" :   class_ = \"artText\"\n",
        "\"ndtv_profit\":        id=\"ins_storybody\"\n",
        "\"financialexpress.com\"  : class_= \"main-story\"\n",
        "\"www.newindianexpress.com\":  class_ = \"articlestorycontent\"\n",
        "\n"
      ],
      "execution_count": null,
      "outputs": []
    },
    {
      "cell_type": "code",
      "metadata": {
        "id": "T9OcMwsDtW3I",
        "colab_type": "code",
        "colab": {}
      },
      "source": [
        ""
      ],
      "execution_count": null,
      "outputs": []
    },
    {
      "cell_type": "code",
      "metadata": {
        "id": "mUX5jynkrBzy",
        "colab_type": "code",
        "colab": {}
      },
      "source": [
        "url = r'https://jonesdayitcblog.com/itc-considers-alternatives-for-live-testimony-due-to-covid-19/'"
      ],
      "execution_count": 3,
      "outputs": []
    },
    {
      "cell_type": "code",
      "metadata": {
        "id": "pH3fniMvrMba",
        "colab_type": "code",
        "colab": {}
      },
      "source": [
        "response = requests.get(url)"
      ],
      "execution_count": 4,
      "outputs": []
    },
    {
      "cell_type": "code",
      "metadata": {
        "id": "LCfFafY1rY1k",
        "colab_type": "code",
        "colab": {}
      },
      "source": [
        "soup = BeautifulSoup(response.text)"
      ],
      "execution_count": 5,
      "outputs": []
    },
    {
      "cell_type": "code",
      "metadata": {
        "id": "dCuCYRC5rhqH",
        "colab_type": "code",
        "colab": {}
      },
      "source": [
        "news_content = soup.find(class_ = \"entry-content\")"
      ],
      "execution_count": 7,
      "outputs": []
    },
    {
      "cell_type": "code",
      "metadata": {
        "id": "IVw7gbblrhte",
        "colab_type": "code",
        "colab": {}
      },
      "source": [
        "news = \" \\n \".join([p.text for p in news_content.find_all(\"p\")])"
      ],
      "execution_count": 15,
      "outputs": []
    },
    {
      "cell_type": "code",
      "metadata": {
        "id": "V5uJSn-7sZHo",
        "colab_type": "code",
        "colab": {
          "base_uri": "https://localhost:8080/",
          "height": 35
        },
        "outputId": "55cb44bd-b4dd-4f1a-b3f7-ece511d74239"
      },
      "source": [
        "len(news)"
      ],
      "execution_count": 16,
      "outputs": [
        {
          "output_type": "execute_result",
          "data": {
            "text/plain": [
              "4104"
            ]
          },
          "metadata": {
            "tags": []
          },
          "execution_count": 16
        }
      ]
    }
  ]
}
{
  "nbformat": 4,
  "nbformat_minor": 0,
  "metadata": {
    "colab": {
      "name": "Untitled4.ipynb",
      "provenance": [],
      "authorship_tag": "ABX9TyOcfsZoAgp5pHe6EYUeixRt",
      "include_colab_link": true
    },
    "kernelspec": {
      "name": "python3",
      "display_name": "Python 3"
    }
  },
  "cells": [
    {
      "cell_type": "markdown",
      "metadata": {
        "id": "view-in-github",
        "colab_type": "text"
      },
      "source": [
        "<a href=\"https://colab.research.google.com/github/pankajti/nlp337/blob/master/news_sites.ipynb\" target=\"_parent\"><img src=\"https://colab.research.google.com/assets/colab-badge.svg\" alt=\"Open In Colab\"/></a>"
      ]
    },
    {
      "cell_type": "code",
      "metadata": {
        "id": "C_dF6y3Yq8EM",
        "colab_type": "code",
        "colab": {}
      },
      "source": [
        "import requests\n",
        "from bs4 import BeautifulSoup"
      ],
      "execution_count": 4,
      "outputs": []
    },
    {
      "cell_type": "code",
      "metadata": {
        "id": "0S9QpecI4Zri",
        "colab_type": "code",
        "colab": {}
      },
      "source": [
        "class_lambda = lambda soup , x : soup.find(class_ = x)\n",
        "id_lambda = lambda soup , x : soup.find(id = x)"
      ],
      "execution_count": 13,
      "outputs": []
    },
    {
      "cell_type": "code",
      "metadata": {
        "id": "d0doCsN71HC7",
        "colab_type": "code",
        "colab": {}
      },
      "source": [
        ""
      ],
      "execution_count": null,
      "outputs": []
    },
    {
      "cell_type": "code",
      "metadata": {
        "id": "Ggg6y6lCtWjv",
        "colab_type": "code",
        "colab": {}
      },
      "source": [
        "site_config_maps = {\"business_standard\" : [class_lambda, \"p-content\"],\n",
        "\"jonesdayitcblog\" :     [class_lambda,  \"entry-content\"],\n",
        "\"economic-times\" :    [class_lambda,  \"artText\"],\n",
        "\"ndtv_profit\":         [id_lambda, \"ins_storybody\"],\n",
        "\"financialexpress.com\"  :  [class_lambda,  \"main-story\"],\n",
        "\"www.newindianexpress.com\":   [class_lambda, \"articlestorycontent\"]\n",
        "}\n",
        "\n",
        "\n"
      ],
      "execution_count": 16,
      "outputs": []
    },
    {
      "cell_type": "code",
      "metadata": {
        "id": "T9OcMwsDtW3I",
        "colab_type": "code",
        "colab": {}
      },
      "source": [
        ""
      ],
      "execution_count": null,
      "outputs": []
    },
    {
      "cell_type": "code",
      "metadata": {
        "id": "mUX5jynkrBzy",
        "colab_type": "code",
        "colab": {}
      },
      "source": [
        "url = r'https://jonesdayitcblog.com/itc-considers-alternatives-for-live-testimony-due-to-covid-19/'"
      ],
      "execution_count": 5,
      "outputs": []
    },
    {
      "cell_type": "code",
      "metadata": {
        "id": "pH3fniMvrMba",
        "colab_type": "code",
        "colab": {}
      },
      "source": [
        "response = requests.get(url)"
      ],
      "execution_count": 6,
      "outputs": []
    },
    {
      "cell_type": "code",
      "metadata": {
        "id": "LCfFafY1rY1k",
        "colab_type": "code",
        "colab": {}
      },
      "source": [
        "soup = BeautifulSoup(response.text)"
      ],
      "execution_count": 7,
      "outputs": []
    },
    {
      "cell_type": "code",
      "metadata": {
        "id": "dCuCYRC5rhqH",
        "colab_type": "code",
        "colab": {}
      },
      "source": [
        "news_content = soup.find(class_ = \"entry-content\")"
      ],
      "execution_count": null,
      "outputs": []
    },
    {
      "cell_type": "code",
      "metadata": {
        "id": "jQW7mlyW5m2Q",
        "colab_type": "code",
        "colab": {}
      },
      "source": [
        "news_content = class_lambda(soup,\"entry-content\" )"
      ],
      "execution_count": 9,
      "outputs": []
    },
    {
      "cell_type": "code",
      "metadata": {
        "id": "G8t1H0Zu5hWG",
        "colab_type": "code",
        "colab": {}
      },
      "source": [
        ""
      ],
      "execution_count": null,
      "outputs": []
    },
    {
      "cell_type": "code",
      "metadata": {
        "id": "IVw7gbblrhte",
        "colab_type": "code",
        "colab": {}
      },
      "source": [
        "news = \" \\n \".join([p.text for p in news_content.find_all(\"p\")])"
      ],
      "execution_count": 10,
      "outputs": []
    },
    {
      "cell_type": "code",
      "metadata": {
        "id": "V5uJSn-7sZHo",
        "colab_type": "code",
        "colab": {
          "base_uri": "https://localhost:8080/",
          "height": 35
        },
        "outputId": "e62522b8-55ae-4342-c455-30b250bf2816"
      },
      "source": [
        "len(news)"
      ],
      "execution_count": 11,
      "outputs": [
        {
          "output_type": "execute_result",
          "data": {
            "text/plain": [
              "4104"
            ]
          },
          "metadata": {
            "tags": []
          },
          "execution_count": 11
        }
      ]
    }
  ]
}
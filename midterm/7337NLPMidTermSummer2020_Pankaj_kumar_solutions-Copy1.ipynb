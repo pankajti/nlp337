{
 "cells": [
  {
   "cell_type": "markdown",
   "metadata": {},
   "source": [
    "## Mid Term NLP 7337 Summer 2020:\n",
    "\n",
    "Pankaj Kumar"
   ]
  },
  {
   "cell_type": "markdown",
   "metadata": {},
   "source": [
    "### I.\tShort Essay Responses  :\n",
    "\n",
    "> ### 1.Select one career or industry that makes use of applied NLP.\n",
    "\n",
    ">### Solution : \n",
    "There are various careers and industry in which nlp is used. There are software engineers, database administrators, knowledge engineers, data scientists and others who are using nlp in their field. For our discussion I choose one called market technologist. Market technologists are the people who try to get right product or service in front of right people at right time.\n",
    "\n",
    ">#### a. Explain generally how that field or career utilizes NLP.\n",
    ">##### Solution \n",
    "Their job is to make ad or , email or sponsored content more relevant and more timely. In order to do this they need to process textual content to ensure that content reflects the need for a particular user.  When user reading an article related to sports, he gets ad related to sports shoe, diet etc. Similarly browsing through web page related to music prompts ads that advertise particular musical instruments. The background process analyses the text content to provide relevant ad on the page.\n",
    "\n",
    ">#### b. Explain at least some methods of NLP that are very likely to be used in the career or industry you selected.\n",
    ">#### Solution \n",
    "Some of the techniques that can used are text classification, topic modelling etc. to create a rick user profile. All the articles read by user can be classified to belong to a particular categories for example politics , sports , music etc. These can be used to identify the user interest.  These in itself involve various parts of nlp. For example, all the levels of analysis from lexical to discourse analysis can be applied and various techniques can be used for this purpose.  \n",
    " \n",
    ">#### c. Give at least one specific example of a use case for NLP within the chosen field and explain how the problem or situation is (or could be) improved by applying NLP.\n",
    "\n",
    "> #### Solution \n",
    "Let’s take an example of someone reading an article on a free website. A cookie text file is saved on the browser that accessed the website. Advertisers categorize the web browser based on the interest category. Advertisers see this cookie data and identify relevant ads to be put on the web site visited by that browser. Website charges advertisers place ads that suits user’s interest category. Since website is generating its revenue from advertisers it can easily let users read article for free. \n",
    "\n",
    "\n",
    "> ###  2.\tChoose one of the “trade-offs” in NLP that was covered in the asynchronous materials for this course.\n",
    "\n",
    ">### Solution \n",
    "> There are several trade offs in nlp techniques for example shallow ve deep, statistical vs Symbolic , feature engineering vs feature learning, top-down vs bottom up and transparent vs, opaque. For our current discussion we’ll compare Statistical vs. Symbolic trade off.\n",
    "\n",
    ">#### a.\tExplain the trade-off in general terms. Define the two choices.\n",
    ">#### Solution \n",
    "> we have two approaches towards nlp either symbolic or statistical learning based.\n",
    "In symbolic nlp  we have  some rule based system whereby discrete tests are performed to apply each rule. The tests are based upon necessary and sufficient conditions for a test. We use Boolean logic or particular numerical threshold to apply criteria to textual input. \n",
    "In statistical approach we use combination of signals or nodes of varying strengths. The net result of many combined signals gives us final statistical score   or profile or vector.\n",
    "\n",
    ">#### b. Explain the benefits and weaknesses of each side of the trade-off.  Include at least one benefit and one weakness of each.\n",
    ">#### Solution:\n",
    ">Both approaches have some inherent weaknesses and strengths. Statistical approach gives us scalability and rapid learning while rule based approach gives us transparency, control, an easy way to. Implement manual override to an undesired output., \n",
    "\n",
    ">#### c. Describe a work-situation that would make one of the choices in the trade-off much better, in terms of practical outcomes for you and your stakeholders on a project.\n",
    " \n",
    "> #### Solution :\n",
    "one particular example described in async session is like creating similar word index for a particular corpus. We see that the statistical approach might go against the commonsense result of Doctor being closer to nurse rather than being closer to physician in this case statistical approach gives counter intuitive or potentially incorrect  result so we prefer taxonomy based symbolic approach, however the statistical approach scales well when we get a new word called “nurse practitioner”. \n",
    "There are some scenarios for example sentiment analysis where we clearly need scalability rather than expandability and control since many times nuances and sarcasm depends not on actual meaning rather than rarity or prevalence of use of a particular word. For example gay might ha specific type of dictionary meaning but whether  its use is negative or positive depends on the group of the people using it."
   ]
  },
  {
   "cell_type": "markdown",
   "metadata": {},
   "source": [
    "### II.\tNLP Networks"
   ]
  },
  {
   "cell_type": "markdown",
   "metadata": {},
   "source": [
    "\n",
    "*(50 pts).\n",
    "\n",
    "I have a vocabulary of 10 words assigned the following indexes (in a dictionary):  \n",
    "{“the”:  0  \n",
    "“quick”:  1  \n",
    "“brown”: 2  \n",
    "“fox”: 3  \n",
    "“jumped”: 4  \n",
    "“over”: 5  \n",
    "“fence”: 6  \n",
    "“under”: 7  \n",
    "“car” : 8  \n",
    "“did”: 9 }  \n",
    "I have a network that classifies a sentence as a question or a statement.  0 means statement, 1 indicates a question.   \n",
    "\n",
    "I give you the following code as the network:  \n",
    "\n",
    "\n",
    "truncate and pad input sequences  \n",
    "\n",
    "max_sent_length = 8  \n",
    "X_train = sequence.pad_sequences(X_train, maxlen=max_sent_length)  \n",
    "X_test = sequence.pad_sequences(X_test, maxlen=max_sent_length)  \n",
    "\n",
    "embedding_vec_length = 75  \n",
    "model = Sequential()  \n",
    "model.add(Embedding(top_words, embedding_vecor_length, input_length=max_sent_length))  \n",
    "model.add(LSTM(115, return_sequences=True))  \n",
    "model.add(RNN(95))  \n",
    "model.add(Dense(1, activation='sigmoid'))  \n",
    "model.compile(loss='binary_crossentropy', optimizer='adam', metrics=['accuracy'])  \n",
    "\n",
    "Draw/Make a diagram of this network using an input sequence of “the car jumped over the fence”  \n",
    "\n"
   ]
  },
  {
   "cell_type": "markdown",
   "metadata": {},
   "source": [
    "### Assumptions:  \n",
    "The sequence tokens are words, split by whitespace.  \n",
    "You may label a cell by its type—there is no need to show the inner connections of the LSTM cell.  (A quick reminder  —LSTM has 4 sets of gates/weights, but all those gates/weights have the same size matrix—that size is what I am after!)  \n",
    "\n",
    "\n",
    "1.\tLabel each block and step by input/sequence step.  Compute the dimensions of the weight for all steps.  All inputs must be labeled by dimension.  Include your original word ENCODING (notice not vector!) as input.  You may omit bias\n",
    "2.\tWrite the initial vector form of the input sequence using only 1s and 0s\n",
    "3.\tFind the average Glove Word Vector of your the input sequence (Spacy uses Glove vectors!)\n",
    "4.\tFind the nearest word (in the above dictionary) to answer #3\n",
    "5.\tWhat is the difference between the W(weight) matrix of the first LSTM sequence at time/sequence 0 and at time/sequence 5.  How do you know this?\n",
    "6.\tWhat is missing in the above code—something important is not determined and based on that, there are some minor adjustments or additions that need to be made  Make a logical determination of what that missing piece of info should be based on the info given here and what additions or adjustments are necessary.\n",
    "\n"
   ]
  },
  {
   "cell_type": "markdown",
   "metadata": {},
   "source": [
    "### Solution Part II"
   ]
  },
  {
   "cell_type": "markdown",
   "metadata": {},
   "source": [
    "* I wrote Following code to simulate the information given in the question:"
   ]
  },
  {
   "cell_type": "code",
   "execution_count": 9,
   "metadata": {},
   "outputs": [],
   "source": [
    "from tensorflow.keras.preprocessing.text import Tokenizer\n",
    "from tensorflow.keras.preprocessing.sequence import pad_sequences\n",
    "import numpy as np\n",
    "from tensorflow.keras.callbacks import TensorBoard\n",
    "from scipy.spatial import distance\n"
   ]
  },
  {
   "cell_type": "markdown",
   "metadata": {},
   "source": [
    "* add additional tokens to sequence for padding and start and end of the sentences"
   ]
  },
  {
   "cell_type": "code",
   "execution_count": 10,
   "metadata": {},
   "outputs": [],
   "source": [
    "\n",
    "word_index ={\"the\":  0,\n",
    "\"quick\":  1,\n",
    "\"brown\": 2,\n",
    "\"fox\": 3,\n",
    "\"jumped\": 4\n",
    ",\"over\": 5\n",
    ",\"fence\": 6\n",
    ",\"under\": 7\n",
    ",\"car\" : 8\n",
    ",\"did\": 9 }\n",
    "\n",
    "word_index = {k:v+3 for k,v in word_index.items()}\n",
    "\n",
    "word_index[\"<PAD>\"] = 0\n",
    "word_index[\"<START>\"] = 1\n",
    "word_index[\"<UNK>\"] = 2\n"
   ]
  },
  {
   "cell_type": "markdown",
   "metadata": {},
   "source": [
    "* pad sequences "
   ]
  },
  {
   "cell_type": "code",
   "execution_count": 48,
   "metadata": {},
   "outputs": [],
   "source": [
    "texts = [\"the car jumped over the fence\"]\n",
    "test_to_idx= [word_index[idx] if idx in word_index else  word_index[\"<UNK>\"] for text in texts  for idx in text.split(\" \")  ]\n",
    "X_train = pad_sequences([test_to_idx], 8)\n",
    "y_train = np.array([1])"
   ]
  },
  {
   "cell_type": "markdown",
   "metadata": {},
   "source": [
    "### Simulating code given in assignment "
   ]
  },
  {
   "cell_type": "code",
   "execution_count": 12,
   "metadata": {},
   "outputs": [
    {
     "name": "stdout",
     "output_type": "stream",
     "text": [
      "Model: \"sequential\"\n",
      "_________________________________________________________________\n",
      "Layer (type)                 Output Shape              Param #   \n",
      "=================================================================\n",
      "embedding (Embedding)        (None, 8, 75)             975       \n",
      "_________________________________________________________________\n",
      "lstm (LSTM)                  (None, 8, 115)            87860     \n",
      "_________________________________________________________________\n",
      "simple_rnn (SimpleRNN)       (None, 95)                20045     \n",
      "_________________________________________________________________\n",
      "dense (Dense)                (None, 1)                 96        \n",
      "=================================================================\n",
      "Total params: 108,976\n",
      "Trainable params: 108,976\n",
      "Non-trainable params: 0\n",
      "_________________________________________________________________\n"
     ]
    }
   ],
   "source": [
    "from tensorflow.keras.models import Sequential\n",
    "from tensorflow.keras.layers import Embedding , SimpleRNN, Dense , LSTM\n",
    "embedding_vec_length = 75\n",
    "max_sent_length = 8\n",
    "top_words = 13\n",
    "model = Sequential()\n",
    "model.add(Embedding(top_words, embedding_vec_length, input_length=max_sent_length))\n",
    "model.add(LSTM(115, return_sequences=True))\n",
    "model.add(SimpleRNN(95))\n",
    "model.add(Dense(1, activation='sigmoid'))\n",
    "model.compile(loss='binary_crossentropy', optimizer='adam', metrics=['accuracy'])\n",
    "model.summary()"
   ]
  },
  {
   "cell_type": "code",
   "execution_count": 13,
   "metadata": {},
   "outputs": [
    {
     "name": "stdout",
     "output_type": "stream",
     "text": [
      "Train on 1 samples\n",
      "1/1 [==============================] - 2s 2s/sample - loss: 0.7020 - accuracy: 0.0000e+00\n"
     ]
    },
    {
     "data": {
      "text/plain": [
       "<tensorflow.python.keras.callbacks.History at 0x7fb65b3d6610>"
      ]
     },
     "execution_count": 13,
     "metadata": {},
     "output_type": "execute_result"
    }
   ],
   "source": [
    "tb_collback = TensorBoard(log_dir = 'logs_classification', histogram_freq= 1)\n",
    "callbacks = [ tb_collback]\n",
    "model.fit(X_train , y_train, callbacks =callbacks)"
   ]
  },
  {
   "cell_type": "code",
   "execution_count": 14,
   "metadata": {
    "scrolled": true
   },
   "outputs": [
    {
     "data": {
      "text/plain": [
       "Reusing TensorBoard on port 6006 (pid 92757), started 13:20:44 ago. (Use '!kill 92757' to kill it.)"
      ]
     },
     "metadata": {},
     "output_type": "display_data"
    },
    {
     "data": {
      "text/html": [
       "\n",
       "      <iframe id=\"tensorboard-frame-c12bbdb60a16a7b0\" width=\"100%\" height=\"800\" frameborder=\"0\">\n",
       "      </iframe>\n",
       "      <script>\n",
       "        (function() {\n",
       "          const frame = document.getElementById(\"tensorboard-frame-c12bbdb60a16a7b0\");\n",
       "          const url = new URL(\"/\", window.location);\n",
       "          url.port = 6006;\n",
       "          frame.src = url;\n",
       "        })();\n",
       "      </script>\n",
       "  "
      ],
      "text/plain": [
       "<IPython.core.display.HTML object>"
      ]
     },
     "metadata": {},
     "output_type": "display_data"
    }
   ],
   "source": [
    "%load_ext tensorboard\n",
    "%tensorboard --logdir logs_classification"
   ]
  },
  {
   "cell_type": "code",
   "execution_count": null,
   "metadata": {},
   "outputs": [],
   "source": []
  },
  {
   "cell_type": "markdown",
   "metadata": {},
   "source": [
    "### Analysis of layers "
   ]
  },
  {
   "cell_type": "code",
   "execution_count": 15,
   "metadata": {},
   "outputs": [],
   "source": [
    "layers =model.layers"
   ]
  },
  {
   "cell_type": "markdown",
   "metadata": {},
   "source": [
    "W = np.random.random((output_features, input_features))\n",
    "\n",
    "\n",
    "U = np.random.random((output_features, output_features))\n",
    "\n",
    "b = np.random.random((output_features,))"
   ]
  },
  {
   "cell_type": "markdown",
   "metadata": {},
   "source": [
    "#### layers weight shape analysis "
   ]
  },
  {
   "cell_type": "code",
   "execution_count": 16,
   "metadata": {},
   "outputs": [
    {
     "name": "stdout",
     "output_type": "stream",
     "text": [
      "layer 0  name embedding\n",
      "(13, 75), embedding/embeddings:0\n",
      "layer 1  name lstm\n",
      "(75, 460), lstm/kernel:0\n",
      "(115, 460), lstm/recurrent_kernel:0\n",
      "(460,), lstm/bias:0\n",
      "layer 2  name simple_rnn\n",
      "(115, 95), simple_rnn/kernel:0\n",
      "(95, 95), simple_rnn/recurrent_kernel:0\n",
      "(95,), simple_rnn/bias:0\n",
      "layer 3  name dense\n",
      "(95, 1), dense/kernel:0\n",
      "(1,), dense/bias:0\n"
     ]
    }
   ],
   "source": [
    "for idx , layer in enumerate(layers):\n",
    "    print(\"layer {}  name {}\".format(idx, layer.name))\n",
    "    for weights in layer.weights:\n",
    "        print(\"{}, {}\".format(weights.shape, weights.name))"
   ]
  },
  {
   "cell_type": "markdown",
   "metadata": {},
   "source": [
    "#### Layers output shapes "
   ]
  },
  {
   "cell_type": "code",
   "execution_count": 17,
   "metadata": {},
   "outputs": [
    {
     "name": "stdout",
     "output_type": "stream",
     "text": [
      "layer 0  name embedding\n",
      "Tensor(\"embedding/Identity:0\", shape=(None, 8, 75), dtype=float32)\n",
      "layer 1  name lstm\n",
      "Tensor(\"lstm/Identity:0\", shape=(None, 8, 115), dtype=float32)\n",
      "layer 2  name simple_rnn\n",
      "Tensor(\"simple_rnn/Identity:0\", shape=(None, 95), dtype=float32)\n",
      "layer 3  name dense\n",
      "Tensor(\"dense/Identity:0\", shape=(None, 1), dtype=float32)\n"
     ]
    }
   ],
   "source": [
    "for idx , layer in enumerate(layers):\n",
    "    print(\"layer {}  name {}\".format(idx, layer.name))\n",
    "    \n",
    "    print(\"{}\".format(layer.output))"
   ]
  },
  {
   "cell_type": "markdown",
   "metadata": {},
   "source": [
    "### Layers Input shapes "
   ]
  },
  {
   "cell_type": "code",
   "execution_count": 19,
   "metadata": {},
   "outputs": [
    {
     "name": "stdout",
     "output_type": "stream",
     "text": [
      "layer 0  name embedding\n",
      "Tensor(\"embedding_input:0\", shape=(None, 8), dtype=float32)\n",
      "layer 1  name lstm\n",
      "Tensor(\"embedding/Identity:0\", shape=(None, 8, 75), dtype=float32)\n",
      "layer 2  name simple_rnn\n",
      "Tensor(\"lstm/Identity:0\", shape=(None, 8, 115), dtype=float32)\n",
      "layer 3  name dense\n",
      "Tensor(\"simple_rnn/Identity:0\", shape=(None, 95), dtype=float32)\n"
     ]
    }
   ],
   "source": [
    "for idx , layer in enumerate(layers):\n",
    "    print(\"layer {}  name {}\".format(idx, layer.name))\n",
    "    \n",
    "    print(\"{}\".format(layer.input))"
   ]
  },
  {
   "cell_type": "code",
   "execution_count": 46,
   "metadata": {},
   "outputs": [
    {
     "data": {
      "text/plain": [
       "87860"
      ]
     },
     "execution_count": 46,
     "metadata": {},
     "output_type": "execute_result"
    }
   ],
   "source": [
    "# calculate params for LSTM\n",
    "(115+75)*115*4 + 460"
   ]
  },
  {
   "cell_type": "code",
   "execution_count": 21,
   "metadata": {},
   "outputs": [
    {
     "data": {
      "image/png": "[encoded data removed]",
      "text/plain": [
       "<IPython.core.display.Image object>"
      ]
     },
     "execution_count": 21,
     "metadata": {},
     "output_type": "execute_result"
    }
   ],
   "source": [
    "from tensorflow.keras.utils import plot_model\n",
    "plot_model(model)"
   ]
  },
  {
   "cell_type": "markdown",
   "metadata": {},
   "source": [
    "We can draw following diagram based on the output from above code"
   ]
  },
  {
   "cell_type": "markdown",
   "metadata": {},
   "source": [
    "#### Question 1 and 2 "
   ]
  },
  {
   "attachments": {
    "model_diag.png": {
     "image/png": "[encoded data removed]"
    }
   },
   "cell_type": "markdown",
   "metadata": {},
   "source": [
    "![model_diag.png](attachment:model_diag.png)"
   ]
  },
  {
   "cell_type": "markdown",
   "metadata": {},
   "source": [
    "#### Question 2:"
   ]
  },
  {
   "cell_type": "code",
   "execution_count": 44,
   "metadata": {},
   "outputs": [
    {
     "name": "stdout",
     "output_type": "stream",
     "text": [
      "input sequence \n"
     ]
    },
    {
     "data": {
      "text/plain": [
       "array([[ 0,  0,  3, 11,  7,  8,  3,  9]], dtype=int32)"
      ]
     },
     "execution_count": 44,
     "metadata": {},
     "output_type": "execute_result"
    }
   ],
   "source": [
    "print(\"input sequence \")\n",
    "X_train"
   ]
  },
  {
   "cell_type": "markdown",
   "metadata": {},
   "source": [
    "#### Question 3 avg glove"
   ]
  },
  {
   "cell_type": "code",
   "execution_count": 35,
   "metadata": {},
   "outputs": [
    {
     "data": {
      "text/plain": [
       "array([ 1.02246672e-01,  6.65950105e-02, -1.49527833e-01,  3.49901654e-02,\n",
       "        2.13985667e-01, -7.65089318e-02, -2.45101675e-01,  7.83283338e-02,\n",
       "        2.09699962e-02,  2.41605020e+00, -1.05761170e-01,  5.89891970e-02,\n",
       "        3.98833267e-02, -6.72252774e-02, -2.43400812e-01, -1.21773286e-02,\n",
       "       -7.25516751e-02,  1.03658164e+00, -2.32895855e-02, -1.55521646e-01,\n",
       "        2.29424983e-02, -8.47426429e-02,  2.09339336e-01,  1.32689821e-02,\n",
       "        1.60996635e-02, -1.53346330e-01, -8.59160051e-02, -1.78890824e-01,\n",
       "       -9.34920013e-02, -2.61886623e-02,  4.54970933e-02,  2.78918356e-01,\n",
       "       -1.12586327e-01,  2.80501485e-01,  1.23955004e-01, -1.41709670e-01,\n",
       "       -4.83516753e-02,  1.34987980e-02,  1.60396993e-02, -3.77281681e-02,\n",
       "        2.11798310e-01,  4.15756665e-02, -5.41546196e-02, -6.71449974e-02,\n",
       "        8.97116885e-02, -4.67299968e-02, -2.15548679e-01, -3.80335063e-01,\n",
       "        6.24183305e-02,  1.80273965e-01, -4.30923253e-02, -6.58916831e-02,\n",
       "       -1.00524008e-01,  1.68676674e-01, -1.23110332e-01,  3.10916658e-02,\n",
       "        4.90240008e-02, -6.93003386e-02, -5.66300005e-02, -6.21146746e-02,\n",
       "        1.06594689e-01,  1.92563340e-01, -2.24631652e-02,  2.88225979e-01,\n",
       "        6.67833313e-02,  3.77099998e-02, -3.47989984e-02, -1.93191484e-01,\n",
       "        1.17071338e-01,  1.61466673e-01, -1.18047833e-01, -1.62384976e-02,\n",
       "        3.14163327e-01,  2.70906657e-01, -4.48926575e-02, -4.22549956e-02,\n",
       "        1.23116501e-01, -2.96609342e-01, -1.39579833e-01,  8.14026669e-02,\n",
       "        1.10720165e-01,  3.54271650e-01,  1.22986631e-02, -3.63661647e-02,\n",
       "        1.21970713e-01,  1.98808834e-01,  7.96278417e-02,  2.64610112e-01,\n",
       "        1.20267332e-01,  1.64494321e-01, -6.51488379e-02, -3.08013353e-02,\n",
       "        6.57665059e-02, -1.18793339e-01, -1.21375002e-01,  3.01500154e-03,\n",
       "        4.15491648e-02,  1.44447833e-01,  3.20313334e-01, -2.33143326e-02,\n",
       "        1.13832675e-01,  5.34916669e-02, -2.11709991e-01, -1.60306171e-01,\n",
       "        3.01343352e-02, -6.81866646e-01,  1.71360001e-01,  3.60621698e-02,\n",
       "       -1.91083346e-02, -8.79466757e-02,  9.86851528e-02, -9.48226675e-02,\n",
       "        3.48386019e-01, -1.45902663e-01,  2.00064316e-01,  6.77258372e-02,\n",
       "       -1.20133413e-02,  6.13599978e-02,  1.19159997e-01,  3.63789983e-02,\n",
       "        2.38830000e-02, -1.61527157e-01, -1.02036051e-01, -3.16459656e-01,\n",
       "       -2.49000326e-01, -2.51293313e-02, -5.27970009e-02, -1.01913333e-01,\n",
       "       -4.52106707e-02,  4.09161337e-02, -2.05126658e-01,  1.94621012e-01,\n",
       "       -3.07096660e-01,  6.72188327e-02,  6.60986602e-02, -1.50133327e-01,\n",
       "        2.80357990e-02,  2.23969996e-01,  2.87990030e-02, -9.97816697e-02,\n",
       "       -1.43598330e+00, -5.37484922e-02,  1.56250343e-01,  9.46183223e-03,\n",
       "        1.09009333e-01, -3.36200255e-03, -4.48800027e-02, -3.68850045e-02,\n",
       "        2.72751659e-01,  1.41264990e-01, -2.70038337e-01, -7.61556700e-02,\n",
       "        1.36434823e-01, -8.98864940e-02, -8.02138373e-02, -2.03154027e-01,\n",
       "        1.20266654e-01,  3.84640008e-01,  2.84733325e-02,  6.68138266e-02,\n",
       "       -1.45843834e-01,  8.97001699e-02, -1.28053337e-01, -1.00520827e-01,\n",
       "       -4.73484956e-02, -1.14998333e-01,  6.95599988e-02, -3.95846665e-02,\n",
       "        1.30314782e-01,  1.50368169e-01,  1.25569835e-01,  5.13156652e-02,\n",
       "       -1.71585009e-01, -7.21875057e-02, -2.73713320e-01, -3.97153310e-02,\n",
       "       -5.06145023e-02,  2.36549005e-01,  2.91716699e-02, -1.71874329e-01,\n",
       "        1.51221335e-01, -1.54766232e-01, -2.89241672e-01, -1.96124002e-01,\n",
       "       -5.10866335e-03, -1.69838175e-01, -2.17521656e-02, -1.67769507e-01,\n",
       "        3.57716642e-02, -4.23661657e-02,  2.57701337e-01,  7.14846626e-02,\n",
       "       -7.01555312e-02,  1.91963330e-01, -1.32479936e-01,  1.03625663e-01,\n",
       "        1.56697720e-01, -2.53173355e-02, -2.86182493e-01,  7.02083623e-03,\n",
       "       -4.01316732e-02, -2.23066639e-02, -2.45521680e-01,  6.72115162e-02,\n",
       "        2.54228026e-01,  5.75384684e-02,  1.05767667e-01, -1.16228998e-01,\n",
       "        3.61099951e-02, -1.28049990e-02, -5.97448312e-02,  1.28031671e-02,\n",
       "        3.52631658e-02,  6.83058724e-02,  8.96621570e-02,  1.96179509e-01,\n",
       "       -2.67955840e-01,  2.30717853e-01, -7.25523308e-02, -1.13187671e-01,\n",
       "        2.49129981e-02, -1.05219662e-01, -1.22388333e-01, -1.36076659e-02,\n",
       "       -2.43960977e-01, -3.24010491e-01,  6.23329252e-04,  1.39413312e-01,\n",
       "       -2.04223339e-02,  7.26416633e-02, -9.96336341e-04,  7.41533339e-02,\n",
       "       -9.62996706e-02, -3.63566726e-02, -6.97279871e-02, -7.91983381e-02,\n",
       "        9.13333297e-02,  1.53121501e-01,  1.03963353e-02,  7.81561658e-02,\n",
       "       -8.12756717e-02, -3.50351669e-02,  4.68028337e-02,  1.41970322e-01,\n",
       "       -5.43585867e-02, -3.55706662e-01,  1.19163997e-01, -1.45466819e-01,\n",
       "       -8.59850049e-02, -4.72178273e-02, -1.90006986e-01, -6.41948357e-02,\n",
       "        1.46570489e-01,  4.02814709e-02,  5.15481681e-02,  3.15691680e-01,\n",
       "        1.67254999e-01,  1.07822001e-01,  1.07833361e-02, -1.48848668e-01,\n",
       "        2.58671850e-01,  5.72443306e-02,  8.61733258e-02, -3.16029310e-01,\n",
       "        2.91208327e-01, -2.62440503e-01, -7.26199970e-02, -1.19893990e-01,\n",
       "       -4.26665060e-02, -1.96394488e-01,  2.56954014e-01,  7.53486678e-02,\n",
       "        4.77932766e-03, -1.09933324e-01,  8.91481638e-02, -3.66953202e-02,\n",
       "        7.48030022e-02,  1.68176994e-01,  2.46623307e-02, -3.43943350e-02,\n",
       "       -7.04811588e-02,  3.51395011e-02, -1.66051671e-01,  1.31367818e-01,\n",
       "        6.32465035e-02, -4.31626625e-02, -4.79533756e-03,  1.37216842e-03,\n",
       "       -4.09579948e-02, -5.88233359e-02, -5.01784980e-01, -1.69103339e-01,\n",
       "        2.81081647e-01, -1.91766188e-01, -6.20938353e-02, -9.28726569e-02,\n",
       "        1.14023328e-01,  1.77116826e-01,  9.68199968e-02,  6.52955025e-02],\n",
       "      dtype=float32)"
      ]
     },
     "execution_count": 35,
     "metadata": {},
     "output_type": "execute_result"
    }
   ],
   "source": [
    "import spacy\n",
    "# Load English tokenizer, tagger, parser, NER and word vectors\n",
    "from scipy.spatial import distance as scipy_distance\n",
    "nlp = spacy.load(\"en_core_web_lg\")\n",
    "tokens = nlp(texts[0])\n",
    "avg_glove =np.mean(np.array([token.vector for token in tokens]), axis=0)\n",
    "avg_glove"
   ]
  },
  {
   "cell_type": "markdown",
   "metadata": {},
   "source": [
    "#### Question 4 closest word choosen from whole vocabulary  "
   ]
  },
  {
   "cell_type": "code",
   "execution_count": 38,
   "metadata": {},
   "outputs": [
    {
     "data": {
      "text/plain": [
       "'UP'"
      ]
     },
     "execution_count": 38,
     "metadata": {},
     "output_type": "execute_result"
    }
   ],
   "source": [
    "q=np.reshape(avg_glove, (1,avg_glove.shape[0]))\n",
    "ids = [x for x in nlp.vocab.vectors.keys()]\n",
    "vectors = [nlp.vocab.vectors[x] for x in ids]\n",
    "vectors = np.array(vectors)\n",
    "closest_index = distance.cdist(q, vectors).argmin()\n",
    "word_id = ids[closest_index]\n",
    "output_word = nlp.vocab[word_id].text\n",
    "output_word"
   ]
  },
  {
   "cell_type": "markdown",
   "metadata": {},
   "source": [
    "#### closest word choosen from the given  vocabulary  "
   ]
  },
  {
   "cell_type": "code",
   "execution_count": 39,
   "metadata": {},
   "outputs": [
    {
     "data": {
      "text/plain": [
       "the"
      ]
     },
     "execution_count": 39,
     "metadata": {},
     "output_type": "execute_result"
    }
   ],
   "source": [
    "vecs =[token.vector for token in tokens]\n",
    "tokens[distance.cdist(q, vecs).argmin()]"
   ]
  },
  {
   "cell_type": "markdown",
   "metadata": {},
   "source": [
    "#### Question 5.\tWhat is the difference between the W(weight) matrix of the first LSTM sequence at time/sequence 0 and at time/sequence 5.  How do you know this?\n",
    "> The weight matrixes are shared across all the time sequences in LSTM we can see that the same weights are applied across all the time sequence. if we take a difference we 'll get zero for that. Since there is just one Weight matrix for each neuron and all the sequence output from embedding layer pass to each neurons the weights must be same for all of them."
   ]
  },
  {
   "cell_type": "markdown",
   "metadata": {},
   "source": [
    "#### Question 6.\tWhat is missing in the above code—something important is not determined and based on that, there are some minor adjustments or additions that need to be made  Make a logical determination of what that missing piece of info should be based on the info given here and what additions or adjustments are necessary.\n",
    "> The missing pieces as we can see here were the tokens for padding and start and unknown symbols for each sentences. Though I have not used start in our given model we can use them for long seq2seq type of problems with more that one sentences in our input.\n"
   ]
  }
 ],
 "metadata": {
  "kernelspec": {
   "display_name": "Python 3",
   "language": "python",
   "name": "python3"
  },
  "language_info": {
   "codemirror_mode": {
    "name": "ipython",
    "version": 3
   },
   "file_extension": ".py",
   "mimetype": "text/x-python",
   "name": "python",
   "nbconvert_exporter": "python",
   "pygments_lexer": "ipython3",
   "version": "3.7.6"
  }
 },
 "nbformat": 4,
 "nbformat_minor": 4
}

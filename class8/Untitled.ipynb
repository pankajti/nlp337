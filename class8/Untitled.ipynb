{
 "cells": [
  {
   "cell_type": "code",
   "execution_count": 10,
   "metadata": {},
   "outputs": [],
   "source": [
    "csv_file = r'/Users/pankaj/dev/data/sample/movies_ratings.csv'\n",
    "\n",
    "import  tensorflow as tf\n",
    "dataset = tf.data.Dataset.from_tensor_slices(list(range(10)))"
   ]
  },
  {
   "cell_type": "code",
   "execution_count": 23,
   "metadata": {},
   "outputs": [
    {
     "data": {
      "text/plain": [
       "<PrefetchDataset shapes: OrderedDict([(\\ufeffuserName, (2,)), (userId, (2,)), (movieName, (2,)), (movieId, (2,)), (rating, (2,))]), types: OrderedDict([(\\ufeffuserName, tf.string), (userId, tf.int32), (movieName, tf.string), (movieId, tf.int32), (rating, tf.int32)])>"
      ]
     },
     "execution_count": 23,
     "metadata": {},
     "output_type": "execute_result"
    }
   ],
   "source": [
    "tf.data.experimental.make_csv_dataset(csv_file, batch_size =2)"
   ]
  },
  {
   "cell_type": "code",
   "execution_count": 4,
   "metadata": {},
   "outputs": [],
   "source": [
    " ds = tf.data.Dataset.from_tensor_slices([8, 3, 0, 8, 2, 1])"
   ]
  },
  {
   "cell_type": "code",
   "execution_count": 13,
   "metadata": {},
   "outputs": [],
   "source": [
    "ds1 = ds.map(lambda x :2*x)"
   ]
  },
  {
   "cell_type": "code",
   "execution_count": 14,
   "metadata": {},
   "outputs": [],
   "source": [
    "ds2= ds1.batch(2)"
   ]
  },
  {
   "cell_type": "code",
   "execution_count": 20,
   "metadata": {},
   "outputs": [],
   "source": [
    "ds3= ds2.batch(1)"
   ]
  },
  {
   "cell_type": "code",
   "execution_count": 21,
   "metadata": {},
   "outputs": [
    {
     "name": "stdout",
     "output_type": "stream",
     "text": [
      "[[16  6]]\n",
      "[[ 0 16]]\n",
      "[[4 2]]\n"
     ]
    }
   ],
   "source": [
    "for d in ds3:\n",
    "    print(d.numpy())"
   ]
  },
  {
   "cell_type": "code",
   "execution_count": 30,
   "metadata": {},
   "outputs": [],
   "source": [
    "import pandas as pd\n",
    "df = pd.read_csv(csv_file)\n",
    "ds = tf.data.Dataset.from_tensor_slices(dict(df))"
   ]
  },
  {
   "cell_type": "code",
   "execution_count": 40,
   "metadata": {},
   "outputs": [
    {
     "name": "stdout",
     "output_type": "stream",
     "text": [
      "b'Alice'\n",
      "1\n",
      "b'The Shawshank Redemption\\xc2\\xa0\\xc2\\xa0'\n",
      "1\n",
      "4\n",
      "b'Alice'\n",
      "1\n",
      "b'The Godfather'\n",
      "2\n",
      "3\n",
      "b'Alice'\n",
      "1\n",
      "b'The Godfather: Part II'\n",
      "3\n",
      "1\n",
      "b'Alice'\n",
      "1\n",
      "b'The Dark Knight\\xc2\\xa0'\n",
      "4\n",
      "5\n",
      "b'Alice'\n",
      "1\n",
      "b'12 Angry Men'\n",
      "5\n",
      "3\n",
      "b'Alice'\n",
      "1\n",
      "b\"Schindler's List\"\n",
      "6\n",
      "3\n",
      "b'Alice'\n",
      "1\n",
      "b'The Lord of the Rings: The Return of the King'\n",
      "7\n",
      "2\n",
      "b'Alice'\n",
      "1\n",
      "b'Pulp Fiction'\n",
      "8\n",
      "2\n",
      "b'Alice'\n",
      "1\n",
      "b'The Good, the Bad and the Ugly\\xc2\\xa0'\n",
      "9\n",
      "3\n",
      "b'Alice'\n",
      "1\n",
      "b'Fight Club'\n",
      "10\n",
      "1\n",
      "b'Bob '\n",
      "2\n",
      "b'The Godfather: Part II'\n",
      "3\n",
      "5\n",
      "b'Bob '\n",
      "2\n",
      "b'The Dark Knight\\xc2\\xa0'\n",
      "4\n",
      "4\n",
      "b'Bob '\n",
      "2\n",
      "b'12 Angry Men'\n",
      "5\n",
      "4\n",
      "b'Bob '\n",
      "2\n",
      "b'Fight Club'\n",
      "10\n",
      "4\n",
      "b'Bob '\n",
      "2\n",
      "b'The Good, the Bad and the Ugly\\xc2\\xa0'\n",
      "9\n",
      "2\n",
      "b'Carl '\n",
      "3\n",
      "b'The Shawshank Redemption\\xc2\\xa0\\xc2\\xa0'\n",
      "1\n",
      "1\n",
      "b'Carl '\n",
      "3\n",
      "b'The Godfather'\n",
      "2\n",
      "1\n",
      "b'Carl '\n",
      "3\n",
      "b'The Godfather: Part II'\n",
      "3\n",
      "5\n",
      "b'Carl '\n",
      "3\n",
      "b'Pulp Fiction'\n",
      "8\n",
      "2\n",
      "b'Carl '\n",
      "3\n",
      "b'The Good, the Bad and the Ugly\\xc2\\xa0'\n",
      "9\n",
      "3\n",
      "b'Deb'\n",
      "4\n",
      "b'The Godfather'\n",
      "2\n",
      "5\n",
      "b'Deb'\n",
      "4\n",
      "b'The Godfather: Part II'\n",
      "3\n",
      "1\n",
      "b'Deb'\n",
      "4\n",
      "b'The Dark Knight\\xc2\\xa0'\n",
      "4\n",
      "1\n",
      "b'Deb'\n",
      "4\n",
      "b'12 Angry Men'\n",
      "5\n",
      "4\n",
      "b'Earl'\n",
      "5\n",
      "b\"Schindler's List\"\n",
      "6\n",
      "2\n",
      "b'Earl'\n",
      "5\n",
      "b'Pulp Fiction'\n",
      "8\n",
      "3\n",
      "b'Earl'\n",
      "5\n",
      "b'The Good, the Bad and the Ugly\\xc2\\xa0'\n",
      "9\n",
      "4\n",
      "b'Earl'\n",
      "5\n",
      "b'The Shawshank Redemption\\xc2\\xa0\\xc2\\xa0'\n",
      "1\n",
      "5\n",
      "b'Earl'\n",
      "5\n",
      "b'The Dark Knight\\xc2\\xa0'\n",
      "4\n",
      "1\n",
      "b'Earl'\n",
      "5\n",
      "b'Fight Club'\n",
      "10\n",
      "3\n"
     ]
    }
   ],
   "source": [
    "for key  in ds:\n",
    "    for k , v in key.items():\n",
    "        print(v.numpy())"
   ]
  }
 ],
 "metadata": {
  "kernelspec": {
   "display_name": "Python 3",
   "language": "python",
   "name": "python3"
  },
  "language_info": {
   "codemirror_mode": {
    "name": "ipython",
    "version": 3
   },
   "file_extension": ".py",
   "mimetype": "text/x-python",
   "name": "python",
   "nbconvert_exporter": "python",
   "pygments_lexer": "ipython3",
   "version": "3.7.6"
  }
 },
 "nbformat": 4,
 "nbformat_minor": 4
}

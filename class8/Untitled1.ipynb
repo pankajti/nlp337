{
 "cells": [
  {
   "cell_type": "code",
   "execution_count": 1,
   "metadata": {},
   "outputs": [
    {
     "name": "stdout",
     "output_type": "stream",
     "text": [
      "['aa']\n",
      "True\n"
     ]
    }
   ],
   "source": [
    "import pickle\n",
    "t = [\"aa\"]\n",
    "\n",
    "with open(\"test.pickle\", \"wb\") as f:\n",
    "    pickle.dump(t,f )\n",
    "\n",
    "with open(\"test.pickle\", \"rb\") as f:\n",
    "    data = pickle.load(f)\n",
    "\n",
    "\n",
    "print(data)\n",
    "print(t==data)\n",
    "\n"
   ]
  },
  {
   "cell_type": "code",
   "execution_count": 85,
   "metadata": {},
   "outputs": [
    {
     "name": "stdout",
     "output_type": "stream",
     "text": [
      "before pickeling\n",
      "<__main__.Test object at 0x7ffbb4788850>\n",
      "10\n",
      "after pickeling\n",
      "<__main__.Test object at 0x7ffbb48c7a50>\n",
      "10\n",
      "False\n"
     ]
    }
   ],
   "source": [
    "class Test:\n",
    "    a=10\n",
    "\n",
    "t= Test()\n",
    "with open(\"test.pickle\", \"wb\") as f:\n",
    "    pickle.dump(t,f )\n",
    "\n",
    "with open(\"test.pickle\", \"rb\") as f:\n",
    "    unpickled_obj = pickle.load(f)\n",
    "\n",
    "print(\"before pickeling\")\n",
    "print(t)\n",
    "print(t.a)\n",
    "\n",
    "print(\"after pickeling\")\n",
    "print(unpickled_obj)\n",
    "print(unpickled_obj.a)\n",
    "print(t==unpickled_obj)"
   ]
  },
  {
   "cell_type": "code",
   "execution_count": 3,
   "metadata": {},
   "outputs": [],
   "source": [
    "import datetime as dt"
   ]
  },
  {
   "cell_type": "code",
   "execution_count": 5,
   "metadata": {},
   "outputs": [
    {
     "data": {
      "text/plain": [
       "datetime.datetime(2020, 7, 19, 8, 44, 8, 832717)"
      ]
     },
     "execution_count": 5,
     "metadata": {},
     "output_type": "execute_result"
    }
   ],
   "source": [
    "dt.datetime.now()"
   ]
  },
  {
   "cell_type": "code",
   "execution_count": 8,
   "metadata": {},
   "outputs": [
    {
     "name": "stdout",
     "output_type": "stream",
     "text": [
      "<__main__.Test1 object at 0x7ffbb46b6150>\n",
      "2020-07-19 08:44:57.478265\n",
      "2020-07-19 08:44:57.478265\n",
      "False\n"
     ]
    }
   ],
   "source": [
    "import datetime as dt \n",
    "class Test1:\n",
    "    d = dt.datetime.now()\n",
    "\n",
    "t= Test1()\n",
    "with open(\"test.pickle\", \"wb\") as f:\n",
    "    pickle.dump(t,f )\n",
    "\n",
    "with open(\"test.pickle\", \"rb\") as f:\n",
    "    data = pickle.load(f)\n",
    "\n",
    "print(data)\n",
    "print(t.d)\n",
    "print(data.d)\n",
    "print(t==data)"
   ]
  },
  {
   "cell_type": "code",
   "execution_count": 14,
   "metadata": {},
   "outputs": [
    {
     "name": "stdout",
     "output_type": "stream",
     "text": [
      "<__main__.Test1 object at 0x7ffbb46f2910>\n",
      "2020-07-19 08:56:41.992294\n",
      "2020-07-19 08:56:41.992294\n",
      "10\n",
      "class is bbb\n",
      "False\n"
     ]
    }
   ],
   "source": [
    "import datetime as dt \n",
    "class Test1:\n",
    "    name = \"class is bbb\"\n",
    "    d = dt.datetime.now()\n",
    "    test = Test()\n",
    "\n",
    "t= Test1()\n",
    "with open(\"test.pickle\", \"wb\") as f:\n",
    "    pickle.dump(t,f )\n",
    "\n",
    "with open(\"test.pickle\", \"rb\") as f:\n",
    "    data = pickle.load(f)\n",
    "\n",
    "print(data)\n",
    "print(t.d)\n",
    "print(data.d)\n",
    "print(data.test.a)\n",
    "print(data.name)\n",
    "\n",
    "print(t==data)"
   ]
  },
  {
   "cell_type": "code",
   "execution_count": null,
   "metadata": {},
   "outputs": [],
   "source": []
  },
  {
   "cell_type": "code",
   "execution_count": 63,
   "metadata": {},
   "outputs": [
    {
     "name": "stdout",
     "output_type": "stream",
     "text": [
      "name\n",
      "2020-07-19 09:49:43.063646\n"
     ]
    }
   ],
   "source": [
    "import datetime as dt \n",
    "class Test1:\n",
    "    name = \"class is bbb\"\n",
    "    d = dt.datetime.now()\n",
    "    \n",
    "    def __init__(self, val=2):\n",
    "        self.val = val\n",
    "    \n",
    "    def __setstate__(self, state ):\n",
    "        print(state)\n",
    "       \n",
    "        return self.__dict__\n",
    "\n",
    "       \n",
    "     \n",
    "    def __getstate__(self ):\n",
    "        print(\"name\")\n",
    "        state = dict(self.__dict__)\n",
    "        #del state['name']\n",
    "        #self.__dict__ = None\n",
    "        #state = None\n",
    "        return None\n",
    "    \n",
    "        \n",
    "\n",
    "t= Test1()\n",
    "with open(\"test.pickle\", \"wb\") as f:\n",
    "    s = pickle.dumps(t )\n",
    "\n",
    "with open(\"test.pickle\", \"rb\") as f:\n",
    "    data = pickle.loads(s)\n",
    "\n",
    " \n",
    "print(data.d)"
   ]
  },
  {
   "cell_type": "code",
   "execution_count": null,
   "metadata": {},
   "outputs": [],
   "source": []
  },
  {
   "cell_type": "code",
   "execution_count": 59,
   "metadata": {
    "scrolled": false
   },
   "outputs": [
    {
     "name": "stdout",
     "output_type": "stream",
     "text": [
      "get state\n",
      "asdfs\n",
      "b'\\x80\\x03c__main__\\nTest1\\nq\\x00)\\x81q\\x01.'\n",
      "2020-07-19 09:32:13.534594\n"
     ]
    }
   ],
   "source": [
    "import datetime as dt \n",
    "class Test1:\n",
    "    name = \"class is bbb\"\n",
    "    d = dt.datetime.now()\n",
    "    \n",
    "    def __setstate__(self, state):\n",
    "        print(\"set state\")\n",
    "        self.__dict__.update(state)\n",
    "        print(\"asdasd\")\n",
    "\n",
    "        # Restore instance attributes (i.e., filename and lineno).\n",
    "     \n",
    "    \n",
    "    def __getstate__(self, ):\n",
    "        print(\"get state\")\n",
    "\n",
    "        print(\"asdfs\")\n",
    "  \n",
    "\n",
    "t= Test1()\n",
    "with open(\"test.pickle\", \"w\") as f:\n",
    "    s = pickle.dumps(t)\n",
    "\n",
    "with open(\"test.pickle\", \"r\") as f:\n",
    "    data = pickle.loads(s)\n",
    "\n",
    "print(s)\n",
    "\n",
    " \n",
    "print(data.d)"
   ]
  },
  {
   "cell_type": "code",
   "execution_count": null,
   "metadata": {},
   "outputs": [],
   "source": []
  },
  {
   "cell_type": "code",
   "execution_count": 83,
   "metadata": {},
   "outputs": [
    {
     "name": "stdout",
     "output_type": "stream",
     "text": [
      "get state \n",
      "set state  {'val': 4}\n",
      " pickled instance \n",
      "Test2\n",
      "4\n",
      " unpickled  instance \n",
      "Test2\n",
      "12\n"
     ]
    }
   ],
   "source": [
    "class Test2(object):\n",
    "    \n",
    "    name = \"Test2\"\n",
    "    \n",
    "    def __init__(self, val=2):\n",
    "        self.val = val\n",
    "        \n",
    "    def __getstate__(self):\n",
    "        print (\"get state \")\n",
    "        self.val *= 2\n",
    "        return self.__dict__\n",
    "    \n",
    "    def __setstate__(self, d):\n",
    "        print (\"set state \", d)\n",
    "        self.__dict__ = d\n",
    "        self.val *= 3\n",
    "\n",
    "import pickle\n",
    "test_object = Test2()\n",
    "pickle_string = pickle.dumps(test_object)\n",
    "unpickled_test_object = pickle.loads(pickle_string)\n",
    "\n",
    "print(\" pickled instance \")\n",
    "print(test_object.name)\n",
    "print(test_object.val)\n",
    "\n",
    "print(\" unpickled  instance \")\n",
    "\n",
    "print(unpickled_test_object.name)\n",
    "print(unpickled_test_object.val)"
   ]
  },
  {
   "cell_type": "code",
   "execution_count": null,
   "metadata": {},
   "outputs": [],
   "source": []
  },
  {
   "cell_type": "code",
   "execution_count": 69,
   "metadata": {},
   "outputs": [
    {
     "name": "stdout",
     "output_type": "stream",
     "text": [
      "I'm being pickled\n",
      "I'm being unpickled with these values: {'val': 4}\n",
      "b'\\x80\\x03c__main__\\nTest2\\nq\\x00)\\x81q\\x01}q\\x02X\\x03\\x00\\x00\\x00valq\\x03K\\x04sb.'\n"
     ]
    }
   ],
   "source": [
    "t= Test2()\n",
    "with open(\"test.pickle\", \"w\") as f:\n",
    "    s = pickle.dumps(t)\n",
    "\n",
    "with open(\"test.pickle\", \"r\") as f:\n",
    "    data = pickle.loads(s)\n",
    "\n",
    "print(s)\n",
    "\n"
   ]
  },
  {
   "cell_type": "code",
   "execution_count": 92,
   "metadata": {},
   "outputs": [
    {
     "name": "stdout",
     "output_type": "stream",
     "text": [
      " pickled instance \n",
      "Test2\n",
      "2\n",
      " unpickled  instance \n",
      "Test2\n",
      "<_io.BufferedWriter name='aaa.txt'>\n"
     ]
    }
   ],
   "source": [
    "class Test3(object):\n",
    "    \n",
    "    name = \"Test2\"\n",
    "    \n",
    "    def __init__(self, val=2):\n",
    "        self.val = val\n",
    "        self.some_file_i_have_opened = open(\"aaa.txt\", 'wb')  # An open file in write mode.\n",
    "\n",
    "        \n",
    "    def __getstate__(self):\n",
    "        print (\"get state \")\n",
    "        self.val *= 2\n",
    "        return self.__dict__\n",
    "    \n",
    "    def __setstate__(self, d):\n",
    "        print (\"set state \", d)\n",
    "        self.__dict__ = d\n",
    "        self.val *= 3\n",
    "    \n",
    "    def __reduce__(self):\n",
    "        return (self.__class__, (\"aaa.txt\" ,))\n",
    "\n",
    "import pickle\n",
    "test_object = Test3()\n",
    "pickle_string = pickle.dumps(test_object)\n",
    "unpickled_test_object = pickle.loads(pickle_string)\n",
    "\n",
    "print(\" pickled instance \")\n",
    "print(test_object.name)\n",
    "print(test_object.val)\n",
    "\n",
    "print(\" unpickled  instance \")\n",
    "\n",
    "print(unpickled_test_object.name)\n",
    "print(unpickled_test_object.some_file_i_have_opened)"
   ]
  },
  {
   "cell_type": "code",
   "execution_count": null,
   "metadata": {},
   "outputs": [],
   "source": []
  },
  {
   "cell_type": "code",
   "execution_count": null,
   "metadata": {},
   "outputs": [],
   "source": []
  },
  {
   "cell_type": "code",
   "execution_count": null,
   "metadata": {},
   "outputs": [],
   "source": []
  }
 ],
 "metadata": {
  "kernelspec": {
   "display_name": "Python 3",
   "language": "python",
   "name": "python3"
  },
  "language_info": {
   "codemirror_mode": {
    "name": "ipython",
    "version": 3
   },
   "file_extension": ".py",
   "mimetype": "text/x-python",
   "name": "python",
   "nbconvert_exporter": "python",
   "pygments_lexer": "ipython3",
   "version": "3.7.6"
  }
 },
 "nbformat": 4,
 "nbformat_minor": 4
}
